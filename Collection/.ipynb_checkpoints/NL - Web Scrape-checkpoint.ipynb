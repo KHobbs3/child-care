{
 "cells": [
  {
   "cell_type": "markdown",
   "metadata": {},
   "source": [
    "#### Newfoundland\n",
    "<mark> Scraped </mark> from: https://www.childcare.gov.nl.ca/public/ccr/childcare?apply_table_filters=1&keyword=\n",
    "\n",
    "java -jar /usr/local/bin/selenium-server-standalone-3.141.59.jar"
   ]
  },
  {
   "cell_type": "code",
   "execution_count": 1,
   "metadata": {},
   "outputs": [],
   "source": [
    "import numpy as np\n",
    "import pandas as pd\n",
    "\n",
    "from selenium import webdriver\n",
    "from selenium.webdriver.common.desired_capabilities import DesiredCapabilities \n",
    "from webdriver_manager.chrome import ChromeDriverManager\n",
    "from selenium.webdriver.chrome.options import Options\n",
    "from selenium.webdriver.support import expected_conditions as EC\n",
    "from selenium.webdriver.support.ui import WebDriverWait\n",
    "from selenium.webdriver.common.by import By\n",
    "\n",
    "import time\n",
    "import random\n",
    "from bs4 import BeautifulSoup"
   ]
  },
  {
   "cell_type": "code",
   "execution_count": 2,
   "metadata": {},
   "outputs": [],
   "source": [
    "opts = Options()\n",
    "opts.add_argument(\"user-agent=kt v 1.0\")"
   ]
  },
  {
   "cell_type": "code",
   "execution_count": 3,
   "metadata": {},
   "outputs": [
    {
     "name": "stdout",
     "output_type": "stream",
     "text": [
      "Trying to download new driver from http://chromedriver.storage.googleapis.com/94.0.4606.61/chromedriver_mac64.zip\n",
      "Unpack archive /Users/kt/.wdm/drivers/chromedriver/94.0.4606.61/mac64/chromedriver.zip\n"
     ]
    }
   ],
   "source": [
    "driver = webdriver.Chrome(ChromeDriverManager().install(), options=opts)"
   ]
  },
  {
   "cell_type": "code",
   "execution_count": 4,
   "metadata": {},
   "outputs": [],
   "source": [
    "my_url = 'https://www.childcare.gov.nl.ca/public/ccr/childcare/?apply_table_filters=1&keyword=&childcare-p=YTozOntzOjc6ImtleXdvcmQiO047czoxMDoicGFnaW5hdGlvbiI7aToxO3M6MTM6InJvd3NfcGVyX3BhZ2UiO2k6MTAwMDA7fQ%3D%3D'\n",
    "driver.get(my_url)"
   ]
  },
  {
   "cell_type": "code",
   "execution_count": 5,
   "metadata": {},
   "outputs": [],
   "source": [
    "nl = pd.read_html(driver.page_source)[0]"
   ]
  },
  {
   "cell_type": "markdown",
   "metadata": {},
   "source": [
    "*Crawl & scrape for postal codes*"
   ]
  },
  {
   "cell_type": "code",
   "execution_count": 6,
   "metadata": {},
   "outputs": [],
   "source": [
    "s = BeautifulSoup(driver.page_source)\n",
    "cells = s.find_all('td')\n",
    "\n",
    "domain = 'https://www.childcare.gov.nl.ca'\n",
    "links = set()\n",
    "\n",
    "for c in cells:\n",
    "    if c.getText() == 'Details':\n",
    "        links.add(domain + c.findChild('a')['href'])"
   ]
  },
  {
   "cell_type": "code",
   "execution_count": null,
   "metadata": {
    "scrolled": true
   },
   "outputs": [
    {
     "name": "stdout",
     "output_type": "stream",
     "text": [
      "1\n",
      "2\n",
      "3\n",
      "4\n",
      "5\n",
      "6\n",
      "7\n",
      "8\n",
      "9\n",
      "10\n",
      "11\n",
      "12\n",
      "13\n",
      "14\n"
     ]
    }
   ],
   "source": [
    "pc = []\n",
    "phone = []\n",
    "mailing = []\n",
    "hours = []\n",
    "days = []\n",
    "months = []\n",
    "i = 1\n",
    "\n",
    "for l in links:\n",
    "    print(i)\n",
    "    \n",
    "    driver.get(l)\n",
    "    res = driver.page_source\n",
    "    soup = BeautifulSoup(res)\n",
    "    \n",
    "    try:\n",
    "        pc.append(soup.find('dd', {\"id\" : \"form-field-display-value-form-field-element-text-addr_postal\"}).text)\n",
    "    except AttributeError:\n",
    "        pc.append(\"none\")\n",
    "        \n",
    "    try:\n",
    "        phone.append(soup.find('dd', {\"id\" : \"form-field-display-value-form-field-element-text-telephone\"}).text)\n",
    "    except AttributeError:\n",
    "        phone.append(\"none\")\n",
    "        \n",
    "    try:\n",
    "        mailing.append(soup.find('dd', {\"id\" : \"form-field-display-value-form-field-element-textarea-addr_mailing\"}).text)\n",
    "    except AttributeError:\n",
    "        mailing.append(\"none\")\n",
    "    \n",
    "    try:\n",
    "        hours.append(soup.find('dd', {\"id\" : \"form-field-display-value-form-field-element-textarea-hours_of_operation\"}).text)\n",
    "    except AttributeError:\n",
    "        hours.append(\"none\")\n",
    "        \n",
    "    try:\n",
    "        days.append(soup.find('dd', {\"id\" : \"form-field-display-value-form-field-element-textarea-days_of_operation\"}).text)\n",
    "    except AttributeError:\n",
    "        days.append(\"none\")\n",
    "        \n",
    "    try:\n",
    "        months.append(soup.find('dd', {\"id\" : \"form-field-display-value-form-field-element-textarea-weeks_of_operation\"}).text)\n",
    "    except AttributeError:\n",
    "        months.append(\"none\")\n",
    "        \n",
    "    i += 1\n",
    "        \n",
    "    time.sleep(random.uniform(2,6))\n",
    "\n",
    "driver.close()"
   ]
  },
  {
   "cell_type": "code",
   "execution_count": null,
   "metadata": {},
   "outputs": [],
   "source": [
    "nl['postal_code'] = pc\n",
    "nl['phone'] = phone\n",
    "nl['mailing_address'] = mailing\n",
    "nl['hours_operation'] = hours\n",
    "nl['days_operation'] = days\n",
    "nl['months_operation'] = months"
   ]
  },
  {
   "cell_type": "code",
   "execution_count": null,
   "metadata": {},
   "outputs": [],
   "source": [
    "nl.mailing_address = nl.mailing_address.str.replace('\\n', ' ', regex=True)\n",
    "nl.mailing_address = nl.mailing_address.str.replace('\\t', ' ', regex=True)"
   ]
  },
  {
   "cell_type": "code",
   "execution_count": null,
   "metadata": {},
   "outputs": [],
   "source": [
    "nl.drop(columns = \"Unnamed: 6\", inplace = True)"
   ]
  },
  {
   "cell_type": "code",
   "execution_count": null,
   "metadata": {
    "scrolled": true
   },
   "outputs": [],
   "source": [
    "nl.info()\n",
    "nl.tail()"
   ]
  },
  {
   "cell_type": "code",
   "execution_count": null,
   "metadata": {},
   "outputs": [],
   "source": [
    "nl.to_csv('data/childcare/NL-childcare.csv')"
   ]
  }
 ],
 "metadata": {
  "kernelspec": {
   "display_name": "Python 3",
   "language": "python",
   "name": "python3"
  },
  "language_info": {
   "codemirror_mode": {
    "name": "ipython",
    "version": 3
   },
   "file_extension": ".py",
   "mimetype": "text/x-python",
   "name": "python",
   "nbconvert_exporter": "python",
   "pygments_lexer": "ipython3",
   "version": "3.7.0"
  }
 },
 "nbformat": 4,
 "nbformat_minor": 4
}
