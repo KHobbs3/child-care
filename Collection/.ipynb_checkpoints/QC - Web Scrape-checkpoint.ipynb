{
 "cells": [
  {
   "cell_type": "markdown",
   "metadata": {},
   "source": [
    "#### Quebec\n",
    "Retrieved from: https://www.mfa.gouv.qc.ca/fr/services-de-garde/parents/localisateur/Pages/liste.aspx"
   ]
  },
  {
   "cell_type": "code",
   "execution_count": 1,
   "metadata": {},
   "outputs": [],
   "source": [
    "import numpy as np\n",
    "import pandas as pd\n",
    "\n",
    "import re\n",
    "import requests\n",
    "import time\n",
    "from bs4 import BeautifulSoup"
   ]
  },
  {
   "cell_type": "markdown",
   "metadata": {},
   "source": [
    "*Scraper info*"
   ]
  },
  {
   "cell_type": "code",
   "execution_count": 2,
   "metadata": {},
   "outputs": [],
   "source": [
    "headers = {\n",
    "    'User-Agent': 'kt 1.0',\n",
    "    'From': 'khobbs3@uwo.ca'\n",
    "}"
   ]
  },
  {
   "cell_type": "code",
   "execution_count": 3,
   "metadata": {},
   "outputs": [],
   "source": [
    "r = requests.get('https://www.mfa.gouv.qc.ca/fr/services-de-garde/parents/localisateur/Pages/liste.aspx', headers = headers)\n",
    "s = BeautifulSoup(r.text)"
   ]
  },
  {
   "cell_type": "code",
   "execution_count": 4,
   "metadata": {
    "scrolled": true
   },
   "outputs": [],
   "source": [
    "domain = 'https://www.mfa.gouv.qc.ca'\n",
    "cc = []\n",
    "links = []\n",
    "\n",
    "\n",
    "childcare = s.find_all('a', {'title':re.compile(\"Répertoire des services de garde par région administrative —?\")})\n",
    "for centre in childcare:\n",
    "    cc.append(centre.text)\n",
    "    links.append(domain + centre['href'])"
   ]
  },
  {
   "cell_type": "code",
   "execution_count": 5,
   "metadata": {},
   "outputs": [
    {
     "data": {
      "text/plain": [
       "['https://www.mfa.gouv.qc.ca/fr/publication/Documents/repertoire1-sdg.xlsx',\n",
       " 'https://www.mfa.gouv.qc.ca/fr/publication/Documents/repertoire2-sdg.xlsx',\n",
       " 'https://www.mfa.gouv.qc.ca/fr/publication/Documents/repertoire3-sdg.xlsx',\n",
       " 'https://www.mfa.gouv.qc.ca/fr/publication/Documents/repertoire4-sdg.xlsx',\n",
       " 'https://www.mfa.gouv.qc.ca/fr/publication/Documents/repertoire5-sdg.xlsx',\n",
       " 'https://www.mfa.gouv.qc.ca/fr/publication/Documents/repertoire6-sdg.xlsx',\n",
       " 'https://www.mfa.gouv.qc.ca/fr/publication/Documents/repertoire7-sdg.xlsx',\n",
       " 'https://www.mfa.gouv.qc.ca/fr/publication/Documents/repertoire8-sdg.xlsx',\n",
       " 'https://www.mfa.gouv.qc.ca/fr/publication/Documents/repertoire9-sdg.xlsx',\n",
       " 'https://www.mfa.gouv.qc.ca/fr/publication/Documents/repertoire10-sdg.xlsx',\n",
       " 'https://www.mfa.gouv.qc.ca/fr/publication/Documents/repertoire11-sdg.xlsx',\n",
       " 'https://www.mfa.gouv.qc.ca/fr/publication/Documents/repertoire12-sdg.xlsx',\n",
       " 'https://www.mfa.gouv.qc.ca/fr/publication/Documents/repertoire13-sdg.xlsx',\n",
       " 'https://www.mfa.gouv.qc.ca/fr/publication/Documents/repertoire14-sdg.xlsx',\n",
       " 'https://www.mfa.gouv.qc.ca/fr/publication/Documents/repertoire15-sdg.xlsx',\n",
       " 'https://www.mfa.gouv.qc.ca/fr/publication/Documents/repertoire16-sdg.xlsx',\n",
       " 'https://www.mfa.gouv.qc.ca/fr/publication/Documents/repertoire17-sdg.xlsx']"
      ]
     },
     "execution_count": 5,
     "metadata": {},
     "output_type": "execute_result"
    }
   ],
   "source": [
    "links"
   ]
  },
  {
   "cell_type": "markdown",
   "metadata": {},
   "source": [
    "Download and concat each link\n",
    "* CSV Tab 1: CPE and GARD\n",
    "* CSV Tab 2: BC-MF"
   ]
  },
  {
   "cell_type": "code",
   "execution_count": 6,
   "metadata": {},
   "outputs": [
    {
     "name": "stdout",
     "output_type": "stream",
     "text": [
      "<class 'pandas.core.frame.DataFrame'>\n",
      "RangeIndex: 56 entries, 0 to 55\n",
      "Data columns (total 15 columns):\n",
      " #   Column                        Non-Null Count  Dtype  \n",
      "---  ------                        --------------  -----  \n",
      " 0   Nom de l'installation         56 non-null     object \n",
      " 1   Région administrative         56 non-null     object \n",
      " 2   Adresse                       56 non-null     object \n",
      " 3   Municipalité                  56 non-null     object \n",
      " 4   Code postal                   56 non-null     object \n",
      " 5   Téléphone                     56 non-null     object \n",
      " 6   Télécopieur                   49 non-null     object \n",
      " 7   Adresse courriel              56 non-null     object \n",
      " 8   Type de service de garde      56 non-null     object \n",
      " 9   Places totales au permis      48 non-null     float64\n",
      " 10  Places 17 mois ou moins       48 non-null     float64\n",
      " 11  Place à contribution réduite  51 non-null     object \n",
      " 12  Territoire couvert            8 non-null      object \n",
      " 13  Places totales à l'agrément   8 non-null      float64\n",
      " 14  Nombre de RSG reconnues       8 non-null      float64\n",
      "dtypes: float64(4), object(11)\n",
      "memory usage: 6.7+ KB\n"
     ]
    }
   ],
   "source": [
    "\n",
    "qc = pd.read_excel(links[0], header = 3, skipfooter = 4)\n",
    "qc2 = pd.read_excel(links[0], sheet_name = \"BC-MF\", header = 3, skipfooter = 8)\n",
    "master = pd.concat([qc, qc2], ignore_index=True)\n",
    "\n",
    "master.info()"
   ]
  },
  {
   "cell_type": "code",
   "execution_count": 7,
   "metadata": {},
   "outputs": [],
   "source": [
    "for link,c in zip(links[1::],cc[1::]):\n",
    "    addme = pd.read_excel(link, header = 3, skipfooter = 4)\n",
    "    addme2 = pd.read_excel(links[0], sheet_name = \"BC-MF\", header = 3, skipfooter = 8)\n",
    "    full = pd.concat([addme, addme2], ignore_index=True)\n",
    "    master = pd.concat([master, addme], ignore_index=True)"
   ]
  },
  {
   "cell_type": "code",
   "execution_count": 8,
   "metadata": {},
   "outputs": [
    {
     "name": "stdout",
     "output_type": "stream",
     "text": [
      "Places totales au permis\n",
      "Places 17 mois ou moins\n",
      "Places totales à l'agrément\n",
      "Nombre de RSG reconnues\n"
     ]
    }
   ],
   "source": [
    "cols = ['Nom de l\\'installation', 'Région administrative', 'Adresse',\n",
    "       'Municipalité', 'Code postal', 'Téléphone', 'Télécopieur',\n",
    "       'Adresse courriel', 'Type de service de garde',\n",
    "       'Places totales au permis', 'Places 17 mois ou moins',\n",
    "       'Place à contribution réduite', 'Territoire couvert',\n",
    "       'Places totales à l\\'agrément', 'Nombre de RSG reconnues']\n",
    "for c in cols:\n",
    "    try:\n",
    "        master[c] = master[c].str.encode('utf-8-sig', 'ignore').str.decode('utf-8-sig')\n",
    "    except AttributeError:\n",
    "        print(c)"
   ]
  },
  {
   "cell_type": "code",
   "execution_count": 17,
   "metadata": {},
   "outputs": [],
   "source": [
    "master.to_csv('data/childcare/QC-CPE-GARD-MF.csv', encoding = 'utf-8-sig')"
   ]
  },
  {
   "cell_type": "code",
   "execution_count": null,
   "metadata": {},
   "outputs": [],
   "source": []
  }
 ],
 "metadata": {
  "kernelspec": {
   "display_name": "Python 3",
   "language": "python",
   "name": "python3"
  },
  "language_info": {
   "codemirror_mode": {
    "name": "ipython",
    "version": 3
   },
   "file_extension": ".py",
   "mimetype": "text/x-python",
   "name": "python",
   "nbconvert_exporter": "python",
   "pygments_lexer": "ipython3",
   "version": "3.7.0"
  }
 },
 "nbformat": 4,
 "nbformat_minor": 4
}
