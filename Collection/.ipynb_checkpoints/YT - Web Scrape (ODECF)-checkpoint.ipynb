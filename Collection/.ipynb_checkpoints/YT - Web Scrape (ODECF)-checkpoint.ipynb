{
 "cells": [
  {
   "cell_type": "markdown",
   "metadata": {},
   "source": [
    "#### Yukon Territories\n",
    "\n",
    "Retrieved from: https://yukon.ca/en/child-care-information-yukoners"
   ]
  },
  {
   "cell_type": "code",
   "execution_count": 1,
   "metadata": {},
   "outputs": [],
   "source": [
    "import pandas as pd\n",
    "\n",
    "import requests\n",
    "from bs4 import BeautifulSoup\n",
    "\n",
    "import time\n",
    "import random"
   ]
  },
  {
   "cell_type": "code",
   "execution_count": 2,
   "metadata": {},
   "outputs": [],
   "source": [
    "headers = {\n",
    "    'User-Agent': 'kt 1.0',\n",
    "    'From': 'khobbs3@uwo.ca'\n",
    "}"
   ]
  },
  {
   "cell_type": "code",
   "execution_count": 3,
   "metadata": {},
   "outputs": [],
   "source": [
    "r = requests.get(\"https://yukon.ca/en/child-care-information-yukoners\", headers=headers)\n",
    "s = BeautifulSoup(r.text)"
   ]
  },
  {
   "cell_type": "code",
   "execution_count": 97,
   "metadata": {},
   "outputs": [],
   "source": [
    "childcare = s.find_all('p')\n",
    "childcare = childcare[2:-2]\n",
    "\n",
    "cc = {\n",
    "     'name': ['Toy’s FDH'], \n",
    "     'address': ['15 Cedar Cres, Y1A 4P2)'],\n",
    "     'year': ['since 2004'],\n",
    "     'phone': ['633-6768'],\n",
    "     'license': ['licensed for 10 children'],\n",
    "     'age': ['infants and older'],\n",
    "     'requirements': ['2 year diploma in ECD'],\n",
    "     'details': ['meals available']\n",
    "     }\n",
    "\n",
    "for c in childcare:\n",
    "    splt = c.text.split(';')\n",
    "    \n",
    "    if len(splt) == 6:\n",
    "        cc['name'].append(splt[0].split(' (')[0])\n",
    "        cc['address'].append(splt[0].split(' (')[1])\n",
    "        cc['year'].append(splt[1])\n",
    "        cc['phone'].append(splt[2])\n",
    "        cc['license'].append(splt[3])\n",
    "        cc['age'].append(splt[4])\n",
    "        cc['requirements'].append(splt[5])\n",
    "        cc['details'].append(\"none\")\n",
    "        \n",
    "    if len(splt) == 7:\n",
    "        cc['name'].append(splt[0].split(' (')[0])\n",
    "        cc['address'].append(splt[0].split(' (')[1])\n",
    "        cc['year'].append(splt[1])\n",
    "        cc['phone'].append(splt[2])\n",
    "        cc['license'].append(splt[3])\n",
    "        cc['age'].append(splt[4])\n",
    "        cc['requirements'].append(splt[5])\n",
    "        cc['details'].append(splt[6])\n",
    "        \n",
    "    if len(splt) == 5:\n",
    "        cc['name'].append(splt[0].split(' (')[0])\n",
    "        cc['address'].append(splt[0].split(' (')[1])\n",
    "        cc['year'].append(\"none\")\n",
    "        cc['phone'].append(splt[1])\n",
    "        cc['license'].append(splt[2])\n",
    "        cc['age'].append(splt[3])\n",
    "        cc['requirements'].append(splt[4])\n",
    "        cc['details'].append(\"none\")\n",
    "    "
   ]
  },
  {
   "cell_type": "code",
   "execution_count": 98,
   "metadata": {},
   "outputs": [],
   "source": [
    "yk = pd.DataFrame(cc)"
   ]
  },
  {
   "cell_type": "markdown",
   "metadata": {},
   "source": [
    "Clean cols"
   ]
  },
  {
   "cell_type": "code",
   "execution_count": 100,
   "metadata": {},
   "outputs": [],
   "source": [
    "ykcols = ['name', 'address', 'year', 'phone', 'license', 'age', 'requirements',\n",
    "       'details']\n",
    "\n",
    "for y in ykcols:\n",
    "    yk[y] = yk[y].str.encode('ascii', 'ignore').str.decode('ascii')"
   ]
  },
  {
   "cell_type": "code",
   "execution_count": 101,
   "metadata": {},
   "outputs": [],
   "source": [
    "yk.address = yk.address.replace('[\\)]', '', regex=True)"
   ]
  },
  {
   "cell_type": "code",
   "execution_count": 102,
   "metadata": {},
   "outputs": [],
   "source": [
    "yk.loc[yk.name == 'Montessori Borealis', 'phone'] =  '668-2268'\n",
    "yk.loc[yk.name == 'Montessori Borealis', 'license'] = 'licensed for 24 children'\n",
    "yk.loc[yk.name == 'Montessori Borealis', 'age'] = 'pre-school'\n",
    "\n",
    "yk.loc[yk.name == 'La Garderie du Petit Cheval Blanc School Age Program', 'year'] = \"none\"\n",
    "yk.loc[yk.name == 'La Garderie du Petit Cheval Blanc School Age Program', 'phone'] = \"633-6566\"\n",
    "yk.loc[yk.name == 'La Garderie du Petit Cheval Blanc School Age Program', 'license'] = \"licensed for 45 children\"\n",
    "yk.loc[yk.name == 'La Garderie du Petit Cheval Blanc School Age Program', 'age'] = \"kindergarten and school-age, French language only\"\n",
    "yk.loc[yk.name == 'La Garderie du Petit Cheval Blanc School Age Program', 'requirements'] = \"training compliant\"\n",
    "yk.loc[yk.name == 'La Garderie du Petit Cheval Blanc School Age Program', 'details'] = \"meals available.\""
   ]
  },
  {
   "cell_type": "code",
   "execution_count": 104,
   "metadata": {},
   "outputs": [],
   "source": [
    "yk.to_csv('data/childcare/YT-childcare.csv')"
   ]
  },
  {
   "cell_type": "code",
   "execution_count": null,
   "metadata": {},
   "outputs": [],
   "source": []
  }
 ],
 "metadata": {
  "kernelspec": {
   "display_name": "Python 3",
   "language": "python",
   "name": "python3"
  },
  "language_info": {
   "codemirror_mode": {
    "name": "ipython",
    "version": 3
   },
   "file_extension": ".py",
   "mimetype": "text/x-python",
   "name": "python",
   "nbconvert_exporter": "python",
   "pygments_lexer": "ipython3",
   "version": "3.7.4"
  }
 },
 "nbformat": 4,
 "nbformat_minor": 4
}
