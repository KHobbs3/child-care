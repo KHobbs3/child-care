{
 "cells": [
  {
   "cell_type": "markdown",
   "metadata": {},
   "source": [
    "#### Saskatchewan\n",
    "Retrieved from: https://www.saskatchewan.ca/residents/family-and-social-support/child-care/find-a-child-care-provider-in-my-community\n",
    "\n",
    "Ref: https://datascience.stackexchange.com/questions/11730/how-to-scrape-a-website-with-a-searchbar/11734"
   ]
  },
  {
   "cell_type": "code",
   "execution_count": 1,
   "metadata": {},
   "outputs": [],
   "source": [
    "import numpy as np\n",
    "import pandas as pd\n",
    "\n",
    "import requests\n",
    "import time\n",
    "import random\n",
    "from bs4 import BeautifulSoup\n",
    "from requests.auth import AuthBase"
   ]
  },
  {
   "cell_type": "code",
   "execution_count": 2,
   "metadata": {},
   "outputs": [],
   "source": [
    "headers = {\n",
    "    'User-Agent': 'kt 1.0',\n",
    "    'From': 'khobbs3@uwo.ca'\n",
    "}"
   ]
  },
  {
   "cell_type": "code",
   "execution_count": 51,
   "metadata": {
    "scrolled": true
   },
   "outputs": [
    {
     "name": "stdout",
     "output_type": "stream",
     "text": [
      "https://www.saskatchewan.ca/residents/family-and-social-support/child-care/find-a-child-care-provider-in-my-community?searchRadius=1000&userLong=-106.666667&userLat=52.133333&page=1 10\n",
      "https://www.saskatchewan.ca/residents/family-and-social-support/child-care/find-a-child-care-provider-in-my-community?searchRadius=1000&userLong=-106.666667&userLat=52.133333&page=2 20\n",
      "https://www.saskatchewan.ca/residents/family-and-social-support/child-care/find-a-child-care-provider-in-my-community?searchRadius=1000&userLong=-106.666667&userLat=52.133333&page=3 30\n",
      "https://www.saskatchewan.ca/residents/family-and-social-support/child-care/find-a-child-care-provider-in-my-community?searchRadius=1000&userLong=-106.666667&userLat=52.133333&page=4 40\n",
      "https://www.saskatchewan.ca/residents/family-and-social-support/child-care/find-a-child-care-provider-in-my-community?searchRadius=1000&userLong=-106.666667&userLat=52.133333&page=5 50\n",
      "https://www.saskatchewan.ca/residents/family-and-social-support/child-care/find-a-child-care-provider-in-my-community?searchRadius=1000&userLong=-106.666667&userLat=52.133333&page=6 60\n",
      "https://www.saskatchewan.ca/residents/family-and-social-support/child-care/find-a-child-care-provider-in-my-community?searchRadius=1000&userLong=-106.666667&userLat=52.133333&page=7 70\n",
      "https://www.saskatchewan.ca/residents/family-and-social-support/child-care/find-a-child-care-provider-in-my-community?searchRadius=1000&userLong=-106.666667&userLat=52.133333&page=8 80\n",
      "https://www.saskatchewan.ca/residents/family-and-social-support/child-care/find-a-child-care-provider-in-my-community?searchRadius=1000&userLong=-106.666667&userLat=52.133333&page=9 90\n",
      "https://www.saskatchewan.ca/residents/family-and-social-support/child-care/find-a-child-care-provider-in-my-community?searchRadius=1000&userLong=-106.666667&userLat=52.133333&page=10 100\n",
      "https://www.saskatchewan.ca/residents/family-and-social-support/child-care/find-a-child-care-provider-in-my-community?searchRadius=1000&userLong=-106.666667&userLat=52.133333&page=11 110\n",
      "https://www.saskatchewan.ca/residents/family-and-social-support/child-care/find-a-child-care-provider-in-my-community?searchRadius=1000&userLong=-106.666667&userLat=52.133333&page=12 120\n",
      "https://www.saskatchewan.ca/residents/family-and-social-support/child-care/find-a-child-care-provider-in-my-community?searchRadius=1000&userLong=-106.666667&userLat=52.133333&page=13 130\n",
      "https://www.saskatchewan.ca/residents/family-and-social-support/child-care/find-a-child-care-provider-in-my-community?searchRadius=1000&userLong=-106.666667&userLat=52.133333&page=14 140\n",
      "https://www.saskatchewan.ca/residents/family-and-social-support/child-care/find-a-child-care-provider-in-my-community?searchRadius=1000&userLong=-106.666667&userLat=52.133333&page=15 150\n",
      "https://www.saskatchewan.ca/residents/family-and-social-support/child-care/find-a-child-care-provider-in-my-community?searchRadius=1000&userLong=-106.666667&userLat=52.133333&page=16 160\n",
      "https://www.saskatchewan.ca/residents/family-and-social-support/child-care/find-a-child-care-provider-in-my-community?searchRadius=1000&userLong=-106.666667&userLat=52.133333&page=17 170\n",
      "https://www.saskatchewan.ca/residents/family-and-social-support/child-care/find-a-child-care-provider-in-my-community?searchRadius=1000&userLong=-106.666667&userLat=52.133333&page=18 180\n",
      "https://www.saskatchewan.ca/residents/family-and-social-support/child-care/find-a-child-care-provider-in-my-community?searchRadius=1000&userLong=-106.666667&userLat=52.133333&page=19 190\n",
      "https://www.saskatchewan.ca/residents/family-and-social-support/child-care/find-a-child-care-provider-in-my-community?searchRadius=1000&userLong=-106.666667&userLat=52.133333&page=20 200\n",
      "https://www.saskatchewan.ca/residents/family-and-social-support/child-care/find-a-child-care-provider-in-my-community?searchRadius=1000&userLong=-106.666667&userLat=52.133333&page=21 210\n",
      "https://www.saskatchewan.ca/residents/family-and-social-support/child-care/find-a-child-care-provider-in-my-community?searchRadius=1000&userLong=-106.666667&userLat=52.133333&page=22 220\n",
      "https://www.saskatchewan.ca/residents/family-and-social-support/child-care/find-a-child-care-provider-in-my-community?searchRadius=1000&userLong=-106.666667&userLat=52.133333&page=23 230\n",
      "https://www.saskatchewan.ca/residents/family-and-social-support/child-care/find-a-child-care-provider-in-my-community?searchRadius=1000&userLong=-106.666667&userLat=52.133333&page=24 240\n",
      "https://www.saskatchewan.ca/residents/family-and-social-support/child-care/find-a-child-care-provider-in-my-community?searchRadius=1000&userLong=-106.666667&userLat=52.133333&page=25 250\n",
      "https://www.saskatchewan.ca/residents/family-and-social-support/child-care/find-a-child-care-provider-in-my-community?searchRadius=1000&userLong=-106.666667&userLat=52.133333&page=26 260\n",
      "https://www.saskatchewan.ca/residents/family-and-social-support/child-care/find-a-child-care-provider-in-my-community?searchRadius=1000&userLong=-106.666667&userLat=52.133333&page=27 270\n",
      "https://www.saskatchewan.ca/residents/family-and-social-support/child-care/find-a-child-care-provider-in-my-community?searchRadius=1000&userLong=-106.666667&userLat=52.133333&page=28 280\n",
      "https://www.saskatchewan.ca/residents/family-and-social-support/child-care/find-a-child-care-provider-in-my-community?searchRadius=1000&userLong=-106.666667&userLat=52.133333&page=29 290\n",
      "https://www.saskatchewan.ca/residents/family-and-social-support/child-care/find-a-child-care-provider-in-my-community?searchRadius=1000&userLong=-106.666667&userLat=52.133333&page=30 300\n",
      "https://www.saskatchewan.ca/residents/family-and-social-support/child-care/find-a-child-care-provider-in-my-community?searchRadius=1000&userLong=-106.666667&userLat=52.133333&page=31 310\n",
      "https://www.saskatchewan.ca/residents/family-and-social-support/child-care/find-a-child-care-provider-in-my-community?searchRadius=1000&userLong=-106.666667&userLat=52.133333&page=32 320\n",
      "https://www.saskatchewan.ca/residents/family-and-social-support/child-care/find-a-child-care-provider-in-my-community?searchRadius=1000&userLong=-106.666667&userLat=52.133333&page=33 330\n",
      "https://www.saskatchewan.ca/residents/family-and-social-support/child-care/find-a-child-care-provider-in-my-community?searchRadius=1000&userLong=-106.666667&userLat=52.133333&page=34 340\n",
      "https://www.saskatchewan.ca/residents/family-and-social-support/child-care/find-a-child-care-provider-in-my-community?searchRadius=1000&userLong=-106.666667&userLat=52.133333&page=35 350\n",
      "https://www.saskatchewan.ca/residents/family-and-social-support/child-care/find-a-child-care-provider-in-my-community?searchRadius=1000&userLong=-106.666667&userLat=52.133333&page=36 360\n",
      "https://www.saskatchewan.ca/residents/family-and-social-support/child-care/find-a-child-care-provider-in-my-community?searchRadius=1000&userLong=-106.666667&userLat=52.133333&page=37 370\n",
      "https://www.saskatchewan.ca/residents/family-and-social-support/child-care/find-a-child-care-provider-in-my-community?searchRadius=1000&userLong=-106.666667&userLat=52.133333&page=38 380\n",
      "https://www.saskatchewan.ca/residents/family-and-social-support/child-care/find-a-child-care-provider-in-my-community?searchRadius=1000&userLong=-106.666667&userLat=52.133333&page=39 390\n",
      "https://www.saskatchewan.ca/residents/family-and-social-support/child-care/find-a-child-care-provider-in-my-community?searchRadius=1000&userLong=-106.666667&userLat=52.133333&page=40 400\n",
      "https://www.saskatchewan.ca/residents/family-and-social-support/child-care/find-a-child-care-provider-in-my-community?searchRadius=1000&userLong=-106.666667&userLat=52.133333&page=41 410\n",
      "https://www.saskatchewan.ca/residents/family-and-social-support/child-care/find-a-child-care-provider-in-my-community?searchRadius=1000&userLong=-106.666667&userLat=52.133333&page=42 420\n",
      "https://www.saskatchewan.ca/residents/family-and-social-support/child-care/find-a-child-care-provider-in-my-community?searchRadius=1000&userLong=-106.666667&userLat=52.133333&page=43 430\n",
      "https://www.saskatchewan.ca/residents/family-and-social-support/child-care/find-a-child-care-provider-in-my-community?searchRadius=1000&userLong=-106.666667&userLat=52.133333&page=44 440\n"
     ]
    },
    {
     "name": "stdout",
     "output_type": "stream",
     "text": [
      "https://www.saskatchewan.ca/residents/family-and-social-support/child-care/find-a-child-care-provider-in-my-community?searchRadius=1000&userLong=-106.666667&userLat=52.133333&page=45 450\n",
      "https://www.saskatchewan.ca/residents/family-and-social-support/child-care/find-a-child-care-provider-in-my-community?searchRadius=1000&userLong=-106.666667&userLat=52.133333&page=46 460\n",
      "https://www.saskatchewan.ca/residents/family-and-social-support/child-care/find-a-child-care-provider-in-my-community?searchRadius=1000&userLong=-106.666667&userLat=52.133333&page=47 470\n",
      "https://www.saskatchewan.ca/residents/family-and-social-support/child-care/find-a-child-care-provider-in-my-community?searchRadius=1000&userLong=-106.666667&userLat=52.133333&page=48 480\n",
      "https://www.saskatchewan.ca/residents/family-and-social-support/child-care/find-a-child-care-provider-in-my-community?searchRadius=1000&userLong=-106.666667&userLat=52.133333&page=49 490\n",
      "https://www.saskatchewan.ca/residents/family-and-social-support/child-care/find-a-child-care-provider-in-my-community?searchRadius=1000&userLong=-106.666667&userLat=52.133333&page=50 500\n",
      "https://www.saskatchewan.ca/residents/family-and-social-support/child-care/find-a-child-care-provider-in-my-community?searchRadius=1000&userLong=-106.666667&userLat=52.133333&page=51 510\n",
      "https://www.saskatchewan.ca/residents/family-and-social-support/child-care/find-a-child-care-provider-in-my-community?searchRadius=1000&userLong=-106.666667&userLat=52.133333&page=52 520\n",
      "https://www.saskatchewan.ca/residents/family-and-social-support/child-care/find-a-child-care-provider-in-my-community?searchRadius=1000&userLong=-106.666667&userLat=52.133333&page=53 530\n",
      "https://www.saskatchewan.ca/residents/family-and-social-support/child-care/find-a-child-care-provider-in-my-community?searchRadius=1000&userLong=-106.666667&userLat=52.133333&page=54 540\n",
      "https://www.saskatchewan.ca/residents/family-and-social-support/child-care/find-a-child-care-provider-in-my-community?searchRadius=1000&userLong=-106.666667&userLat=52.133333&page=55 550\n",
      "https://www.saskatchewan.ca/residents/family-and-social-support/child-care/find-a-child-care-provider-in-my-community?searchRadius=1000&userLong=-106.666667&userLat=52.133333&page=56 560\n",
      "https://www.saskatchewan.ca/residents/family-and-social-support/child-care/find-a-child-care-provider-in-my-community?searchRadius=1000&userLong=-106.666667&userLat=52.133333&page=57 570\n",
      "https://www.saskatchewan.ca/residents/family-and-social-support/child-care/find-a-child-care-provider-in-my-community?searchRadius=1000&userLong=-106.666667&userLat=52.133333&page=58 580\n"
     ]
    }
   ],
   "source": [
    "details = []\n",
    "name = []\n",
    "address = []\n",
    "phone = []\n",
    "\n",
    "\n",
    "domain = 'https://www.saskatchewan.ca/residents/family-and-social-support/child-care/find-a-child-care-provider-in-my-community?searchRadius=1000&userLong=-106.666667&userLat=52.133333&page='\n",
    "for i in range(1,59):\n",
    "    r = requests.get(domain+str(i), headers=headers)\n",
    "    s = BeautifulSoup(r.text)\n",
    "    \n",
    "    centres=s.find('div', {'class':'map-result'}).find_all('li')\n",
    "    \n",
    "    for c in centres:\n",
    "        details.append(c.text.split('\\n')[1])\n",
    "        name.append(c.text.split('\\n')[2])\n",
    "        address.append(c.text.split('\\n')[3])\n",
    "        phone.append(c.text.split('\\n')[4].split('|')[0])\n",
    "    \n",
    "    print(domain+str(i), len(name))\n",
    "    \n",
    "    time.sleep(random.uniform(5,15))"
   ]
  },
  {
   "cell_type": "code",
   "execution_count": 72,
   "metadata": {},
   "outputs": [],
   "source": [
    "df = pd.DataFrame({'facility_name':name, 'full_address':address, 'phone':phone, 'details': details})"
   ]
  },
  {
   "cell_type": "code",
   "execution_count": 73,
   "metadata": {},
   "outputs": [],
   "source": [
    "df.facility_name.replace('[\\\\r]','', regex=True, inplace = True)"
   ]
  },
  {
   "cell_type": "code",
   "execution_count": 74,
   "metadata": {},
   "outputs": [
    {
     "name": "stdout",
     "output_type": "stream",
     "text": [
      "<class 'pandas.core.frame.DataFrame'>\n",
      "RangeIndex: 580 entries, 0 to 579\n",
      "Data columns (total 4 columns):\n",
      " #   Column         Non-Null Count  Dtype \n",
      "---  ------         --------------  ----- \n",
      " 0   facility_name  580 non-null    object\n",
      " 1   full_address   580 non-null    object\n",
      " 2   phone          580 non-null    object\n",
      " 3   details        580 non-null    object\n",
      "dtypes: object(4)\n",
      "memory usage: 18.2+ KB\n"
     ]
    },
    {
     "data": {
      "text/html": [
       "<div>\n",
       "<style scoped>\n",
       "    .dataframe tbody tr th:only-of-type {\n",
       "        vertical-align: middle;\n",
       "    }\n",
       "\n",
       "    .dataframe tbody tr th {\n",
       "        vertical-align: top;\n",
       "    }\n",
       "\n",
       "    .dataframe thead th {\n",
       "        text-align: right;\n",
       "    }\n",
       "</style>\n",
       "<table border=\"1\" class=\"dataframe\">\n",
       "  <thead>\n",
       "    <tr style=\"text-align: right;\">\n",
       "      <th></th>\n",
       "      <th>facility_name</th>\n",
       "      <th>full_address</th>\n",
       "      <th>phone</th>\n",
       "      <th>details</th>\n",
       "    </tr>\n",
       "  </thead>\n",
       "  <tbody>\n",
       "    <tr>\n",
       "      <th>0</th>\n",
       "      <td>Saskatoon Open Door Society Multicultural Daycare</td>\n",
       "      <td>247 – 1st Aven...</td>\n",
       "      <td>306-653-4464</td>\n",
       "      <td>Accepts infant...</td>\n",
       "    </tr>\n",
       "    <tr>\n",
       "      <th>1</th>\n",
       "      <td>YMCA Child Development Centre Downtown (18 mon...</td>\n",
       "      <td>25 – 22nd Stre...</td>\n",
       "      <td>306-652-7515 e...</td>\n",
       "      <td>Centre</td>\n",
       "    </tr>\n",
       "    <tr>\n",
       "      <th>2</th>\n",
       "      <td>Cindy Sinclair-Urquiza</td>\n",
       "      <td>117- 29th Stre...</td>\n",
       "      <td>306-652-5563</td>\n",
       "      <td>Home, Group fa...</td>\n",
       "    </tr>\n",
       "    <tr>\n",
       "      <th>3</th>\n",
       "      <td>Downtown Early Learning Centre</td>\n",
       "      <td>211 – 5th Aven...</td>\n",
       "      <td>306-244-1112</td>\n",
       "      <td>Centre</td>\n",
       "    </tr>\n",
       "    <tr>\n",
       "      <th>4</th>\n",
       "      <td>YWCA Saskatoon Child Development Centre (18 mo...</td>\n",
       "      <td>510 – 25th Str...</td>\n",
       "      <td>306-664-1005</td>\n",
       "      <td>Centre</td>\n",
       "    </tr>\n",
       "    <tr>\n",
       "      <th>5</th>\n",
       "      <td>First Baptist Church Day Care (18 months – Kin...</td>\n",
       "      <td>401 – 4th Aven...</td>\n",
       "      <td>306-242-6262</td>\n",
       "      <td>Centre</td>\n",
       "    </tr>\n",
       "    <tr>\n",
       "      <th>6</th>\n",
       "      <td>Sweet Dreams Early Learning Centre</td>\n",
       "      <td>600 Queen Stre...</td>\n",
       "      <td>306-933-9940</td>\n",
       "      <td>Centre</td>\n",
       "    </tr>\n",
       "    <tr>\n",
       "      <th>7</th>\n",
       "      <td>Suzanne Mantyka</td>\n",
       "      <td>702-6th Avenue...</td>\n",
       "      <td>306-280-1808</td>\n",
       "      <td>Home</td>\n",
       "    </tr>\n",
       "    <tr>\n",
       "      <th>8</th>\n",
       "      <td>Spadina Early Learning and Childcare Cooperati...</td>\n",
       "      <td>210 Avenue H S...</td>\n",
       "      <td>306-683-8644</td>\n",
       "      <td>Accepts infant...</td>\n",
       "    </tr>\n",
       "    <tr>\n",
       "      <th>9</th>\n",
       "      <td>Laura Bint</td>\n",
       "      <td>405 Avenue K N...</td>\n",
       "      <td>306-978-2637</td>\n",
       "      <td></td>\n",
       "    </tr>\n",
       "    <tr>\n",
       "      <th>10</th>\n",
       "      <td>Maggie's Early Learning Centre</td>\n",
       "      <td>820 – 9th Aven...</td>\n",
       "      <td>306-665-5721</td>\n",
       "      <td>Centre, Accept...</td>\n",
       "    </tr>\n",
       "  </tbody>\n",
       "</table>\n",
       "</div>"
      ],
      "text/plain": [
       "                                        facility_name  \\\n",
       "0   Saskatoon Open Door Society Multicultural Daycare   \n",
       "1   YMCA Child Development Centre Downtown (18 mon...   \n",
       "2                              Cindy Sinclair-Urquiza   \n",
       "3                      Downtown Early Learning Centre   \n",
       "4   YWCA Saskatoon Child Development Centre (18 mo...   \n",
       "5   First Baptist Church Day Care (18 months – Kin...   \n",
       "6                  Sweet Dreams Early Learning Centre   \n",
       "7                                     Suzanne Mantyka   \n",
       "8   Spadina Early Learning and Childcare Cooperati...   \n",
       "9                                          Laura Bint   \n",
       "10                    Maggie's Early Learning Centre    \n",
       "\n",
       "                                         full_address  \\\n",
       "0                                   247 – 1st Aven...   \n",
       "1                                   25 – 22nd Stre...   \n",
       "2                                   117- 29th Stre...   \n",
       "3                                   211 – 5th Aven...   \n",
       "4                                   510 – 25th Str...   \n",
       "5                                   401 – 4th Aven...   \n",
       "6                                   600 Queen Stre...   \n",
       "7                                   702-6th Avenue...   \n",
       "8                                   210 Avenue H S...   \n",
       "9                                   405 Avenue K N...   \n",
       "10                                  820 – 9th Aven...   \n",
       "\n",
       "                                                phone  \\\n",
       "0                                       306-653-4464    \n",
       "1                                   306-652-7515 e...   \n",
       "2                                       306-652-5563    \n",
       "3                                       306-244-1112    \n",
       "4                                       306-664-1005    \n",
       "5                                       306-242-6262    \n",
       "6                                       306-933-9940    \n",
       "7                                       306-280-1808    \n",
       "8                                       306-683-8644    \n",
       "9                                       306-978-2637    \n",
       "10                                      306-665-5721    \n",
       "\n",
       "                                              details  \n",
       "0                                   Accepts infant...  \n",
       "1                                              Centre  \n",
       "2                                   Home, Group fa...  \n",
       "3                                              Centre  \n",
       "4                                              Centre  \n",
       "5                                              Centre  \n",
       "6                                              Centre  \n",
       "7                                                Home  \n",
       "8                                   Accepts infant...  \n",
       "9                                                      \n",
       "10                                  Centre, Accept...  "
      ]
     },
     "execution_count": 74,
     "metadata": {},
     "output_type": "execute_result"
    }
   ],
   "source": [
    "df.info()\n",
    "df.head(11)"
   ]
  },
  {
   "cell_type": "markdown",
   "metadata": {},
   "source": [
    "Clean Cols"
   ]
  },
  {
   "cell_type": "code",
   "execution_count": 77,
   "metadata": {},
   "outputs": [],
   "source": [
    "rmvws = ['facility_name', 'full_address', 'phone', 'details']\n",
    "for r in rmvws:\n",
    "    df[r] = df[r].str.strip()"
   ]
  },
  {
   "cell_type": "code",
   "execution_count": 83,
   "metadata": {},
   "outputs": [],
   "source": [
    "df.full_address = df.full_address.str.encode('ascii', 'ignore').str.decode('ascii')\n",
    "df.facility_name = df.facility_name.str.encode('ascii', 'ignore').str.decode('ascii')"
   ]
  },
  {
   "cell_type": "markdown",
   "metadata": {},
   "source": [
    "Export"
   ]
  },
  {
   "cell_type": "code",
   "execution_count": 84,
   "metadata": {},
   "outputs": [],
   "source": [
    "df.to_csv('data/childcare/SK-childcare.csv')"
   ]
  }
 ],
 "metadata": {
  "kernelspec": {
   "display_name": "Python 3",
   "language": "python",
   "name": "python3"
  },
  "language_info": {
   "codemirror_mode": {
    "name": "ipython",
    "version": 3
   },
   "file_extension": ".py",
   "mimetype": "text/x-python",
   "name": "python",
   "nbconvert_exporter": "python",
   "pygments_lexer": "ipython3",
   "version": "3.7.4"
  }
 },
 "nbformat": 4,
 "nbformat_minor": 4
}
