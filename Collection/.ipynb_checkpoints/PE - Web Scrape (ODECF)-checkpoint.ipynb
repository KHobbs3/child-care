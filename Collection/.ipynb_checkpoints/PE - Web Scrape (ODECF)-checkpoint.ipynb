{
 "cells": [
  {
   "cell_type": "markdown",
   "metadata": {},
   "source": [
    "### PEI\n",
    "Retrieved from: https://peichildcareregistry.com/search.php\n",
    "\n",
    "`java -jar /usr/local/bin/selenium-server-standalone-3.141.59.jar`"
   ]
  },
  {
   "cell_type": "code",
   "execution_count": 34,
   "metadata": {},
   "outputs": [],
   "source": [
    "import pandas as pd\n",
    "from selenium import webdriver\n",
    "from selenium.webdriver.common.desired_capabilities import DesiredCapabilities \n",
    "from webdriver_manager.chrome import ChromeDriverManager\n",
    "from selenium.webdriver.chrome.options import Options\n",
    "from bs4 import BeautifulSoup\n",
    "from selenium.webdriver.common.by import By\n",
    "import time\n",
    "import random\n",
    "from tqdm import tqdm_notebook as tqdmn\n",
    "import folium"
   ]
  },
  {
   "cell_type": "code",
   "execution_count": 35,
   "metadata": {},
   "outputs": [],
   "source": [
    "pd.set_option('display.max_columns', 60)"
   ]
  },
  {
   "cell_type": "code",
   "execution_count": 36,
   "metadata": {},
   "outputs": [
    {
     "name": "stdout",
     "output_type": "stream",
     "text": [
      "\n",
      "Looking for [chromedriver 86.0.4240.22 mac64] driver in cache \n",
      "File found in cache by path [/Users/kt/.wdm/drivers/chromedriver/86.0.4240.22/mac64/chromedriver]\n"
     ]
    }
   ],
   "source": [
    "opts = Options()\n",
    "opts.add_argument(\"user-agent=kt v 1.0\")\n",
    "# prefs = {'profile.default_content_setting_values': {'images':2, 'javascript':2}}\n",
    "# opts.add_experimental_option('prefs', prefs)\n",
    "\n",
    "driver = webdriver.Chrome(ChromeDriverManager().install(), options=opts)"
   ]
  },
  {
   "cell_type": "code",
   "execution_count": 37,
   "metadata": {},
   "outputs": [],
   "source": [
    "url = 'https://peichildcareregistry.com/search.php'\n",
    "driver.get(url)"
   ]
  },
  {
   "cell_type": "code",
   "execution_count": 39,
   "metadata": {
    "scrolled": true
   },
   "outputs": [
    {
     "name": "stdout",
     "output_type": "stream",
     "text": [
      "Page 1:\n",
      "1 of 10\n",
      "2 of 10\n",
      "3 of 10\n",
      "4 of 10\n",
      "5 of 10\n",
      "6 of 10\n",
      "7 of 10\n",
      "8 of 10\n",
      "9 of 10\n",
      "10 of 10\n",
      "Page 2:\n",
      "1 of 10\n",
      "2 of 10\n",
      "3 of 10\n",
      "4 of 10\n",
      "5 of 10\n",
      "6 of 10\n",
      "7 of 10\n",
      "8 of 10\n",
      "9 of 10\n",
      "10 of 10\n",
      "Page 3:\n",
      "1 of 10\n",
      "2 of 10\n",
      "3 of 10\n",
      "4 of 10\n",
      "5 of 10\n",
      "6 of 10\n",
      "7 of 10\n",
      "8 of 10\n",
      "9 of 10\n",
      "10 of 10\n",
      "Page 4:\n",
      "1 of 10\n",
      "2 of 10\n",
      "3 of 10\n",
      "4 of 10\n",
      "5 of 10\n",
      "6 of 10\n",
      "7 of 10\n",
      "8 of 10\n",
      "9 of 10\n",
      "10 of 10\n",
      "Page 5:\n",
      "1 of 10\n",
      "2 of 10\n",
      "3 of 10\n",
      "4 of 10\n",
      "5 of 10\n",
      "6 of 10\n",
      "7 of 10\n",
      "8 of 10\n",
      "9 of 10\n",
      "10 of 10\n",
      "Page 6:\n",
      "1 of 10\n",
      "2 of 10\n",
      "3 of 10\n",
      "4 of 10\n",
      "5 of 10\n",
      "6 of 10\n",
      "7 of 10\n",
      "8 of 10\n",
      "9 of 10\n",
      "10 of 10\n",
      "Page 7:\n",
      "1 of 10\n",
      "2 of 10\n",
      "3 of 10\n",
      "4 of 10\n",
      "5 of 10\n",
      "6 of 10\n",
      "7 of 10\n",
      "8 of 10\n",
      "9 of 10\n",
      "10 of 10\n",
      "Page 8:\n",
      "1 of 7\n",
      "2 of 7\n",
      "3 of 7\n",
      "4 of 7\n",
      "5 of 7\n",
      "6 of 7\n",
      "7 of 7\n"
     ]
    }
   ],
   "source": [
    "pe = {}\n",
    "for i in range(1,9):\n",
    "    # page iteration\n",
    "    driver.find_element_by_xpath('/html/body/main/section/div/div/div[2]/div/div[4]/a[{}]'.format(i)).click()\n",
    "    print(\"Page {}:\".format(i))\n",
    "    if i in range(8):\n",
    "        # ie. not the last page\n",
    "        for num in range(1,11):\n",
    "            print(\"{} of 10\".format(num))\n",
    "            box = driver.find_element_by_xpath('/html/body/main/section/div/div/div[2]/div/div[3]/div/div/div/div/div[{}]/div[1]/div[1]'.format(num))\n",
    "            name = box.find_element_by_tag_name('h2').text\n",
    "            # get rest of information in the childcare facility box\n",
    "            elemnt = box.find_element_by_xpath('/html/body/main/section/div/div/div[2]/div/div[3]/div/div/div/div/div[{}]/div[1]/div[1][text()]'.format(num)).text.split('\\n')\n",
    "\n",
    "            # set up name in pe dictionary\n",
    "            if 'Name' not in pe.keys():\n",
    "                pe['Name'] = [name]\n",
    "            else:\n",
    "                pe['Name'].append(name)\n",
    "\n",
    "            # add the rest of the facility info to dictionary\n",
    "            for i in elemnt[1::]:\n",
    "                try:\n",
    "                    if i.split(': ')[0] not in pe.keys():\n",
    "                        pe[i.split(': ')[0]] = [i.split(': ')[1]]\n",
    "                    else:\n",
    "                        pe[i.split(': ')[0]].append(i.split(': ')[1])\n",
    "                except IndexError:\n",
    "                    pass\n",
    "                \n",
    "        # wait between pages\n",
    "        time.sleep(random.uniform(1,5))\n",
    "\n",
    "    if i == 8:\n",
    "        # last page\n",
    "        for num in range(1,8):\n",
    "            print(\"{} of 7\".format(num))\n",
    "            box = driver.find_element_by_xpath('/html/body/main/section/div/div/div[2]/div/div[3]/div/div/div/div/div[{}]/div[1]/div[1]'.format(num))\n",
    "            name = box.find_element_by_tag_name('h2').text\n",
    "            # get rest of information in the childcare facility box\n",
    "            elemnt = box.find_element_by_xpath('/html/body/main/section/div/div/div[2]/div/div[3]/div/div/div/div/div[{}]/div[1]/div[1][text()]'.format(num)).text.split('\\n')\n",
    "\n",
    "            # add the rest of the facility info to dictionary\n",
    "            pe['Name'].append(name)\n",
    "            \n",
    "            for i in elemnt[1::]:\n",
    "                try:\n",
    "                    if i.split(': ')[0] not in pe.keys():\n",
    "                        pe[i.split(': ')[0]] = [i.split(': ')[1]]\n",
    "                    else:\n",
    "                        pe[i.split(': ')[0]].append(i.split(': ')[1])\n",
    "                except IndexError:\n",
    "                    pass\n",
    "                \n",
    "\n",
    "# last page\n",
    "# '/html/body/main/section/div/div/div[2]/div/div[3]/div/div/div/div/div[7]'"
   ]
  },
  {
   "cell_type": "code",
   "execution_count": 40,
   "metadata": {},
   "outputs": [
    {
     "name": "stdout",
     "output_type": "stream",
     "text": [
      "Name 77\n",
      "Address 77\n",
      "Operation Hours 77\n",
      "Centre Accepts 77\n",
      "Contact Name 77\n",
      "E-mail 77\n",
      "Phone 77\n",
      "Centre Accommodates 57\n"
     ]
    }
   ],
   "source": [
    "for k,v in pe.items():\n",
    "    print(k, len(v))"
   ]
  },
  {
   "cell_type": "code",
   "execution_count": 41,
   "metadata": {
    "scrolled": true
   },
   "outputs": [
    {
     "data": {
      "text/plain": [
       "['Part Time',\n",
       " 'Part Time',\n",
       " 'Part Time, Seasonal, Alternate Hours',\n",
       " 'Part Time',\n",
       " 'Part Time',\n",
       " 'Part Time, Alternate Hours',\n",
       " 'Part Time',\n",
       " 'Part Time',\n",
       " 'Part Time',\n",
       " 'Part Time',\n",
       " 'Part Time',\n",
       " 'Part Time',\n",
       " 'Part Time',\n",
       " 'Part Time, Francophone',\n",
       " 'Part Time, Seasonal, Francophone',\n",
       " 'Part Time',\n",
       " 'Part Time',\n",
       " 'Part Time, Seasonal',\n",
       " 'Part Time',\n",
       " 'Part Time',\n",
       " 'Part Time',\n",
       " 'Part Time',\n",
       " 'Part Time, Seasonal, Alternate Hours',\n",
       " 'Francophone',\n",
       " 'Part Time, Alternate Hours',\n",
       " 'Seasonal',\n",
       " 'Part Time',\n",
       " 'Part Time, Seasonal',\n",
       " 'Part Time',\n",
       " 'Francophone',\n",
       " 'Part Time, Francophone',\n",
       " 'Francophone',\n",
       " 'Part Time',\n",
       " 'Part Time, Alternate Hours',\n",
       " 'Part Time',\n",
       " 'Part Time',\n",
       " 'Part Time, Seasonal',\n",
       " 'Part Time',\n",
       " 'Part Time',\n",
       " 'Part Time',\n",
       " 'Part Time',\n",
       " 'Part Time',\n",
       " 'Part Time',\n",
       " 'Part Time',\n",
       " 'Part Time',\n",
       " 'Part Time, Seasonal, Alternate Hours',\n",
       " 'Part Time',\n",
       " 'Part Time, Alternate Hours',\n",
       " 'Part Time',\n",
       " 'Part Time',\n",
       " 'Part Time',\n",
       " 'Part Time',\n",
       " 'Part Time',\n",
       " 'Part Time',\n",
       " 'Part Time',\n",
       " 'Part Time, Seasonal, Alternate Hours',\n",
       " 'Part Time']"
      ]
     },
     "execution_count": 41,
     "metadata": {},
     "output_type": "execute_result"
    }
   ],
   "source": [
    "# Drop unneccessary key with missing values (Centre Accommdates gives hours: part time, seasonal, alternate)\n",
    "pe.pop(\"Centre Accommodates\")"
   ]
  },
  {
   "cell_type": "code",
   "execution_count": 45,
   "metadata": {},
   "outputs": [],
   "source": [
    "pd.DataFrame(pe).to_csv('data/childcare/PE-childcare.csv')"
   ]
  },
  {
   "cell_type": "code",
   "execution_count": 44,
   "metadata": {},
   "outputs": [
    {
     "name": "stdout",
     "output_type": "stream",
     "text": [
      "<class 'pandas.core.frame.DataFrame'>\n",
      "RangeIndex: 77 entries, 0 to 76\n",
      "Data columns (total 7 columns):\n",
      " #   Column           Non-Null Count  Dtype \n",
      "---  ------           --------------  ----- \n",
      " 0   Name             77 non-null     object\n",
      " 1   Address          77 non-null     object\n",
      " 2   Operation Hours  77 non-null     object\n",
      " 3   Centre Accepts   77 non-null     object\n",
      " 4   Contact Name     77 non-null     object\n",
      " 5   E-mail           77 non-null     object\n",
      " 6   Phone            77 non-null     object\n",
      "dtypes: object(7)\n",
      "memory usage: 4.3+ KB\n"
     ]
    }
   ],
   "source": [
    "pe2.info()"
   ]
  },
  {
   "cell_type": "code",
   "execution_count": 46,
   "metadata": {},
   "outputs": [],
   "source": [
    "driver.close()"
   ]
  }
 ],
 "metadata": {
  "kernelspec": {
   "display_name": "Python 3",
   "language": "python",
   "name": "python3"
  },
  "language_info": {
   "codemirror_mode": {
    "name": "ipython",
    "version": 3
   },
   "file_extension": ".py",
   "mimetype": "text/x-python",
   "name": "python",
   "nbconvert_exporter": "python",
   "pygments_lexer": "ipython3",
   "version": "3.7.4"
  }
 },
 "nbformat": 4,
 "nbformat_minor": 4
}
