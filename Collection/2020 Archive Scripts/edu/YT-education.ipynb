{
 "cells": [
  {
   "cell_type": "markdown",
   "metadata": {},
   "source": [
    "### Yukon Education\n",
    "Retrieved from: https://yukon.ca/en/education-and-schools/kindergarten-grade-12/find-school"
   ]
  },
  {
   "cell_type": "code",
   "execution_count": 1,
   "metadata": {},
   "outputs": [],
   "source": [
    "import pandas as pd\n",
    "\n",
    "import requests\n",
    "from bs4 import BeautifulSoup\n",
    "\n",
    "import time\n",
    "import random"
   ]
  },
  {
   "cell_type": "code",
   "execution_count": 2,
   "metadata": {},
   "outputs": [],
   "source": [
    "headers = {\n",
    "    'User-Agent': 'kt 1.0',\n",
    "    'From': 'khobbs3@uwo.ca'\n",
    "}"
   ]
  },
  {
   "cell_type": "code",
   "execution_count": 14,
   "metadata": {},
   "outputs": [],
   "source": [
    "r = requests.get(\"https://yukon.ca/en/education-and-schools/kindergarten-grade-12/find-school\", headers=headers)\n",
    "s = BeautifulSoup(r.text)"
   ]
  },
  {
   "cell_type": "code",
   "execution_count": 17,
   "metadata": {},
   "outputs": [],
   "source": [
    "schools = s.find('div', {'class': 'item-list'}).find_all('a')\n",
    "links = []\n",
    "\n",
    "for a in schools:\n",
    "    links.append('https://yukon.ca'+a['href'])"
   ]
  },
  {
   "cell_type": "markdown",
   "metadata": {},
   "source": [
    "---\n",
    "\n",
    "Crawl through each school page"
   ]
  },
  {
   "cell_type": "code",
   "execution_count": 40,
   "metadata": {},
   "outputs": [],
   "source": []
  },
  {
   "cell_type": "code",
   "execution_count": 55,
   "metadata": {},
   "outputs": [],
   "source": [
    "name = []\n",
    "address = []\n",
    "phone = []\n",
    "grades = []"
   ]
  },
  {
   "cell_type": "code",
   "execution_count": 59,
   "metadata": {},
   "outputs": [],
   "source": [
    "for l in links:\n",
    "    req = requests.get(l, headers=headers)\n",
    "    soup = BeautifulSoup(req.text)\n",
    "\n",
    "    name.append(soup.find('h1', {'id':'wb-cont'}).text)\n",
    "\n",
    "    if soup.find(\"div\", {\"class\":\"field field-name-field-places-address field-type-text field-label-above\"}):\n",
    "        address.append(soup.find(\"div\", {\"class\":\"field field-name-field-places-address field-type-text field-label-above\"}).findChild().findNext().text)\n",
    "    else:\n",
    "        address.append(\"none\")\n",
    "\n",
    "    if soup.find(\"div\", {\"class\":\"field field-name-field-places-telephone field-type-text field-label-above\"}):\n",
    "        phone.append(soup.find(\"div\", {\"class\":\"field field-name-field-places-telephone field-type-text field-label-above\"}).findChild().findNext().text)\n",
    "    else:\n",
    "        phone.append(\"none\")\n",
    "\n",
    "    if soup.find(\"div\", {\"class\":\"field field-name-field-places-grades field-type-text field-label-above\"}):\n",
    "        grades.append(soup.find(\"div\", {\"class\":\"field field-name-field-places-grades field-type-text field-label-above\"}).findChild().findNext().text)\n",
    "    else:\n",
    "        grades.append(\"none\")\n",
    "\n",
    "    time.sleep(random.uniform(1,6))\n",
    "    "
   ]
  },
  {
   "cell_type": "code",
   "execution_count": 60,
   "metadata": {},
   "outputs": [
    {
     "name": "stdout",
     "output_type": "stream",
     "text": [
      "35 35 35 35\n"
     ]
    }
   ],
   "source": [
    "print(len(name), len(address), len(phone), len(grades))"
   ]
  },
  {
   "cell_type": "code",
   "execution_count": 67,
   "metadata": {},
   "outputs": [],
   "source": [
    "yt = pd.DataFrame({'name': name, 'address': address, 'phone': phone, 'grades': grades})"
   ]
  },
  {
   "cell_type": "code",
   "execution_count": 71,
   "metadata": {},
   "outputs": [],
   "source": [
    "def rpl(x):\n",
    "    return x.replace('\\n', '')\n",
    "\n",
    "yt.address.replace({'\\n': ''}, regex=True, inplace=True)\n",
    "yt.phone.replace({'\\n': ''}, regex=True, inplace=True)\n",
    "yt.grades.replace({'\\n': ''}, regex=True, inplace=True)"
   ]
  },
  {
   "cell_type": "code",
   "execution_count": 73,
   "metadata": {},
   "outputs": [],
   "source": [
    "yt.to_csv('../data/education/yt-education-2.csv')"
   ]
  },
  {
   "cell_type": "code",
   "execution_count": null,
   "metadata": {},
   "outputs": [],
   "source": []
  }
 ],
 "metadata": {
  "kernelspec": {
   "display_name": "Python 3",
   "language": "python",
   "name": "python3"
  },
  "language_info": {
   "codemirror_mode": {
    "name": "ipython",
    "version": 3
   },
   "file_extension": ".py",
   "mimetype": "text/x-python",
   "name": "python",
   "nbconvert_exporter": "python",
   "pygments_lexer": "ipython3",
   "version": "3.7.4"
  }
 },
 "nbformat": 4,
 "nbformat_minor": 4
}
