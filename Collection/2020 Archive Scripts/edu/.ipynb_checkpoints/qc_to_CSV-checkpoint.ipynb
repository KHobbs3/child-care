{
 "cells": [
  {
   "cell_type": "code",
   "execution_count": 1,
   "metadata": {},
   "outputs": [],
   "source": [
    "import os\n",
    "import pandas as pd\n",
    "import glob"
   ]
  },
  {
   "cell_type": "code",
   "execution_count": 5,
   "metadata": {},
   "outputs": [],
   "source": [
    "os.chdir(\"/Users/kt/.config/opentabulate.con/data/input/\")"
   ]
  },
  {
   "cell_type": "code",
   "execution_count": 8,
   "metadata": {},
   "outputs": [],
   "source": [
    "files = glob.glob('QC_*.csv')\n",
    "for f in files:\n",
    "    df = pd.read_csv(f, sep = \";\")\n",
    "    cols = df.columns.to_list()\n",
    "    for c in cols:\n",
    "        try:\n",
    "            df[c] = df[c].str.encode('utf-8-sig', 'ignore').str.decode('utf-8-sig')\n",
    "        except AttributeError:\n",
    "            pass\n",
    "    df.to_csv(f, encoding = 'utf-8-sig')"
   ]
  },
  {
   "cell_type": "code",
   "execution_count": 4,
   "metadata": {},
   "outputs": [
    {
     "name": "stdout",
     "output_type": "stream",
     "text": [
      "QC_PPS_Public_Immeuble.csv 4636\n",
      "QC_PPS_Gouvernemental.csv 37\n",
      "QC_PPS_Prive_Installation.csv 347\n",
      "QC_ES_Collegial.csv 330\n",
      "QC_PPS_Prive_Etablissement.csv 258\n",
      "QC_ES_Universitaire.csv 22\n",
      "QC_PPS_Public_Ecole.csv 5211\n",
      "QC_PPS_Public_SSocial_Org.csv 2747\n",
      "QC_PPS_Public_SSocial_CS.csv 72\n"
     ]
    },
    {
     "data": {
      "text/plain": [
       "13660"
      ]
     },
     "execution_count": 4,
     "metadata": {},
     "output_type": "execute_result"
    }
   ],
   "source": [
    "nrow = []\n",
    "for f in files:\n",
    "    df = pd.read_csv(f, sep = \";\", encoding='utf-8-sig')\n",
    "    nrow.append(len(df))\n",
    "    print(f, len(df))\n",
    "    \n",
    "sum(nrow)"
   ]
  },
  {
   "cell_type": "code",
   "execution_count": 9,
   "metadata": {},
   "outputs": [],
   "source": [
    "os.chdir(\"/Users/kt/.config/opentabulate.con/data/output/\")"
   ]
  },
  {
   "cell_type": "code",
   "execution_count": 10,
   "metadata": {},
   "outputs": [],
   "source": [
    "files = glob.glob('QC_*.csv')\n",
    "for f in files:\n",
    "    df = pd.read_csv(f, encoding = 'utf-8-sig')\n",
    "    df.to_csv(f, encoding = 'utf-8-sig')"
   ]
  },
  {
   "cell_type": "code",
   "execution_count": null,
   "metadata": {},
   "outputs": [],
   "source": []
  }
 ],
 "metadata": {
  "kernelspec": {
   "display_name": "Python 3",
   "language": "python",
   "name": "python3"
  },
  "language_info": {
   "codemirror_mode": {
    "name": "ipython",
    "version": 3
   },
   "file_extension": ".py",
   "mimetype": "text/x-python",
   "name": "python",
   "nbconvert_exporter": "python",
   "pygments_lexer": "ipython3",
   "version": "3.7.4"
  }
 },
 "nbformat": 4,
 "nbformat_minor": 4
}
