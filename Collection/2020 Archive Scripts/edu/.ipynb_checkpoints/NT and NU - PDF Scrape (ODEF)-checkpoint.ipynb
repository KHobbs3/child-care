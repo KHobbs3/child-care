{
 "cells": [
  {
   "cell_type": "markdown",
   "metadata": {},
   "source": [
    "### NT"
   ]
  },
  {
   "cell_type": "code",
   "execution_count": 43,
   "metadata": {},
   "outputs": [],
   "source": [
    "import numpy as np\n",
    "import pandas as pd\n",
    "import requests\n",
    "import tabula"
   ]
  },
  {
   "cell_type": "code",
   "execution_count": 5,
   "metadata": {},
   "outputs": [],
   "source": [
    "file = '../data/education/northwest_territories_directory_of_schools_2020-2021.pdf'\n",
    "\n",
    "# Select page range\n",
    "pgs = [str(i) for i in range(1,5)]\n",
    "df = tabula.read_pdf(file, lattice=True, pages=pgs, pandas_options={'header': False})"
   ]
  },
  {
   "cell_type": "code",
   "execution_count": 6,
   "metadata": {},
   "outputs": [],
   "source": [
    "# A list of pd DFs\n",
    "dftotal = pd.concat(df, ignore_index=True)"
   ]
  },
  {
   "cell_type": "code",
   "execution_count": 8,
   "metadata": {},
   "outputs": [],
   "source": [
    "# Clean some text\n",
    "dftotal = dftotal.apply(lambda x: x.str.replace('\\\\r',' '))"
   ]
  },
  {
   "cell_type": "code",
   "execution_count": 92,
   "metadata": {},
   "outputs": [],
   "source": [
    "# dftotal.GRADE = dftotal.GRADE.astype(str)\n",
    "# dftotal.ENGLISH = dftotal.ENGLISH.astype(str)\n",
    "# dftotal.IMMERSION = dftotal.IMMERSION.astype(str)\n",
    "# dftotal.GRADE.replace({'7-12': 'grades 7-12',\n",
    "#                       '8-12': 'grades 8-12',\n",
    "#                       '6-7': 'grades 6-7',\n",
    "#                       '4-7': 'grades 4-7'}, inplace = True)"
   ]
  },
  {
   "cell_type": "code",
   "execution_count": 88,
   "metadata": {},
   "outputs": [],
   "source": [
    "dftotal.to_csv('../data/education/NT-education.csv')"
   ]
  },
  {
   "cell_type": "markdown",
   "metadata": {},
   "source": [
    "---\n",
    "\n",
    "### NU"
   ]
  },
  {
   "cell_type": "code",
   "execution_count": 48,
   "metadata": {},
   "outputs": [],
   "source": [
    "file2 = '../data/education/2020-2021_nunavut_school_calendar_english_0.pdf'\n",
    "\n",
    "# Select page range\n",
    "df2 = tabula.read_pdf(file2, lattice=True, pages=1, pandas_options={'header': True})"
   ]
  },
  {
   "cell_type": "code",
   "execution_count": 68,
   "metadata": {},
   "outputs": [],
   "source": [
    "hdrs = df2[0].iloc[0].replace({'\\r': ' '}, regex = True).to_list()"
   ]
  },
  {
   "cell_type": "code",
   "execution_count": 72,
   "metadata": {},
   "outputs": [
    {
     "data": {
      "text/plain": [
       "['Community',\n",
       " 'School',\n",
       " 'Return of School Leaders',\n",
       " 'First Staff Day',\n",
       " 'First Student Day',\n",
       " 'Last Day Before Christmas',\n",
       " 'First Day After Christmas',\n",
       " 'PD Week',\n",
       " 'Easter Break',\n",
       " 'Last Student Day',\n",
       " 'Last Staff Day',\n",
       " 'Last Day School Leaders',\n",
       " 'operations']"
      ]
     },
     "execution_count": 72,
     "metadata": {},
     "output_type": "execute_result"
    }
   ],
   "source": [
    "hdrs"
   ]
  },
  {
   "cell_type": "code",
   "execution_count": 76,
   "metadata": {},
   "outputs": [],
   "source": [
    "for f in df2[1::]:\n",
    "    f['operations'] = f.columns[0]\n",
    "    f.columns = hdrs"
   ]
  },
  {
   "cell_type": "code",
   "execution_count": 78,
   "metadata": {},
   "outputs": [],
   "source": [
    "dftotal2 = pd.concat(df2[1::])"
   ]
  },
  {
   "cell_type": "code",
   "execution_count": 96,
   "metadata": {},
   "outputs": [],
   "source": [
    "dftotal2.School.replace({'\\r': ' '}, regex = True, inplace = True)"
   ]
  },
  {
   "cell_type": "code",
   "execution_count": 97,
   "metadata": {},
   "outputs": [],
   "source": [
    "dftotal2.to_csv('../data/education/NU-education.csv')\n",
    "    "
   ]
  },
  {
   "cell_type": "code",
   "execution_count": null,
   "metadata": {},
   "outputs": [],
   "source": []
  }
 ],
 "metadata": {
  "kernelspec": {
   "display_name": "Python 3",
   "language": "python",
   "name": "python3"
  },
  "language_info": {
   "codemirror_mode": {
    "name": "ipython",
    "version": 3
   },
   "file_extension": ".py",
   "mimetype": "text/x-python",
   "name": "python",
   "nbconvert_exporter": "python",
   "pygments_lexer": "ipython3",
   "version": "3.7.4"
  }
 },
 "nbformat": 4,
 "nbformat_minor": 4
}
