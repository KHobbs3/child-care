{
 "cells": [
  {
   "cell_type": "markdown",
   "metadata": {},
   "source": [
    "### Saskatchewan Child Care\n",
    "Retrieved from: https://www.saskatchewan.ca/residents/family-and-social-support/child-care/find-a-child-care-provider-in-my-community\n",
    "\n",
    "Robots.txt: Not found.\n",
    "\n",
    "Ref: https://datascience.stackexchange.com/questions/11730/how-to-scrape-a-website-with-a-searchbar/11734"
   ]
  },
  {
   "cell_type": "code",
   "execution_count": 1,
   "metadata": {},
   "outputs": [],
   "source": [
    "import numpy as np\n",
    "import pandas as pd\n",
    "import requests\n",
    "from bs4 import BeautifulSoup\n",
    "from requests.auth import AuthBase\n",
    "import time\n",
    "import random\n",
    "from logger import logging"
   ]
  },
  {
   "cell_type": "code",
   "execution_count": 2,
   "metadata": {},
   "outputs": [],
   "source": [
    "headers = {\n",
    "    'User-Agent': 'kaitlyn hobbs bot version 1.0',\n",
    "    'From': 'kaitlyn.hobbs@statcan.gc.ca'\n",
    "}"
   ]
  },
  {
   "cell_type": "markdown",
   "metadata": {},
   "source": [
    "#### Execution log:"
   ]
  },
  {
   "cell_type": "code",
   "execution_count": null,
   "metadata": {},
   "outputs": [],
   "source": [
    "FORMAT = \"%(asctime)-15s %(clientip)s %(user)-8s %(message)s\"\n",
    "logging.basicConfig(filename=\"logfilename.log\", format=FORMAT)\n",
    "logging.info('Execution of MB child care web scrape. \\n{}.'.format(headers))"
   ]
  },
  {
   "cell_type": "markdown",
   "metadata": {},
   "source": [
    "#### Execute Scrape:"
   ]
  },
  {
   "cell_type": "code",
   "execution_count": 51,
   "metadata": {
    "scrolled": true
   },
   "outputs": [
    {
     "name": "stdout",
     "output_type": "stream",
     "text": [
      "https://www.saskatchewan.ca/residents/family-and-social-support/child-care/find-a-child-care-provider-in-my-community?searchRadius=1000&userLong=-106.666667&userLat=52.133333&page=1 10\n",
      "https://www.saskatchewan.ca/residents/family-and-social-support/child-care/find-a-child-care-provider-in-my-community?searchRadius=1000&userLong=-106.666667&userLat=52.133333&page=2 20\n",
      "https://www.saskatchewan.ca/residents/family-and-social-support/child-care/find-a-child-care-provider-in-my-community?searchRadius=1000&userLong=-106.666667&userLat=52.133333&page=3 30\n",
      "https://www.saskatchewan.ca/residents/family-and-social-support/child-care/find-a-child-care-provider-in-my-community?searchRadius=1000&userLong=-106.666667&userLat=52.133333&page=4 40\n",
      "https://www.saskatchewan.ca/residents/family-and-social-support/child-care/find-a-child-care-provider-in-my-community?searchRadius=1000&userLong=-106.666667&userLat=52.133333&page=5 50\n",
      "https://www.saskatchewan.ca/residents/family-and-social-support/child-care/find-a-child-care-provider-in-my-community?searchRadius=1000&userLong=-106.666667&userLat=52.133333&page=6 60\n",
      "https://www.saskatchewan.ca/residents/family-and-social-support/child-care/find-a-child-care-provider-in-my-community?searchRadius=1000&userLong=-106.666667&userLat=52.133333&page=7 70\n",
      "https://www.saskatchewan.ca/residents/family-and-social-support/child-care/find-a-child-care-provider-in-my-community?searchRadius=1000&userLong=-106.666667&userLat=52.133333&page=8 80\n",
      "https://www.saskatchewan.ca/residents/family-and-social-support/child-care/find-a-child-care-provider-in-my-community?searchRadius=1000&userLong=-106.666667&userLat=52.133333&page=9 90\n",
      "https://www.saskatchewan.ca/residents/family-and-social-support/child-care/find-a-child-care-provider-in-my-community?searchRadius=1000&userLong=-106.666667&userLat=52.133333&page=10 100\n",
      "https://www.saskatchewan.ca/residents/family-and-social-support/child-care/find-a-child-care-provider-in-my-community?searchRadius=1000&userLong=-106.666667&userLat=52.133333&page=11 110\n",
      "https://www.saskatchewan.ca/residents/family-and-social-support/child-care/find-a-child-care-provider-in-my-community?searchRadius=1000&userLong=-106.666667&userLat=52.133333&page=12 120\n",
      "https://www.saskatchewan.ca/residents/family-and-social-support/child-care/find-a-child-care-provider-in-my-community?searchRadius=1000&userLong=-106.666667&userLat=52.133333&page=13 130\n",
      "https://www.saskatchewan.ca/residents/family-and-social-support/child-care/find-a-child-care-provider-in-my-community?searchRadius=1000&userLong=-106.666667&userLat=52.133333&page=14 140\n",
      "https://www.saskatchewan.ca/residents/family-and-social-support/child-care/find-a-child-care-provider-in-my-community?searchRadius=1000&userLong=-106.666667&userLat=52.133333&page=15 150\n",
      "https://www.saskatchewan.ca/residents/family-and-social-support/child-care/find-a-child-care-provider-in-my-community?searchRadius=1000&userLong=-106.666667&userLat=52.133333&page=16 160\n",
      "https://www.saskatchewan.ca/residents/family-and-social-support/child-care/find-a-child-care-provider-in-my-community?searchRadius=1000&userLong=-106.666667&userLat=52.133333&page=17 170\n",
      "https://www.saskatchewan.ca/residents/family-and-social-support/child-care/find-a-child-care-provider-in-my-community?searchRadius=1000&userLong=-106.666667&userLat=52.133333&page=18 180\n",
      "https://www.saskatchewan.ca/residents/family-and-social-support/child-care/find-a-child-care-provider-in-my-community?searchRadius=1000&userLong=-106.666667&userLat=52.133333&page=19 190\n",
      "https://www.saskatchewan.ca/residents/family-and-social-support/child-care/find-a-child-care-provider-in-my-community?searchRadius=1000&userLong=-106.666667&userLat=52.133333&page=20 200\n",
      "https://www.saskatchewan.ca/residents/family-and-social-support/child-care/find-a-child-care-provider-in-my-community?searchRadius=1000&userLong=-106.666667&userLat=52.133333&page=21 210\n",
      "https://www.saskatchewan.ca/residents/family-and-social-support/child-care/find-a-child-care-provider-in-my-community?searchRadius=1000&userLong=-106.666667&userLat=52.133333&page=22 220\n",
      "https://www.saskatchewan.ca/residents/family-and-social-support/child-care/find-a-child-care-provider-in-my-community?searchRadius=1000&userLong=-106.666667&userLat=52.133333&page=23 230\n",
      "https://www.saskatchewan.ca/residents/family-and-social-support/child-care/find-a-child-care-provider-in-my-community?searchRadius=1000&userLong=-106.666667&userLat=52.133333&page=24 240\n",
      "https://www.saskatchewan.ca/residents/family-and-social-support/child-care/find-a-child-care-provider-in-my-community?searchRadius=1000&userLong=-106.666667&userLat=52.133333&page=25 250\n",
      "https://www.saskatchewan.ca/residents/family-and-social-support/child-care/find-a-child-care-provider-in-my-community?searchRadius=1000&userLong=-106.666667&userLat=52.133333&page=26 260\n",
      "https://www.saskatchewan.ca/residents/family-and-social-support/child-care/find-a-child-care-provider-in-my-community?searchRadius=1000&userLong=-106.666667&userLat=52.133333&page=27 270\n",
      "https://www.saskatchewan.ca/residents/family-and-social-support/child-care/find-a-child-care-provider-in-my-community?searchRadius=1000&userLong=-106.666667&userLat=52.133333&page=28 280\n",
      "https://www.saskatchewan.ca/residents/family-and-social-support/child-care/find-a-child-care-provider-in-my-community?searchRadius=1000&userLong=-106.666667&userLat=52.133333&page=29 290\n",
      "https://www.saskatchewan.ca/residents/family-and-social-support/child-care/find-a-child-care-provider-in-my-community?searchRadius=1000&userLong=-106.666667&userLat=52.133333&page=30 300\n",
      "https://www.saskatchewan.ca/residents/family-and-social-support/child-care/find-a-child-care-provider-in-my-community?searchRadius=1000&userLong=-106.666667&userLat=52.133333&page=31 310\n",
      "https://www.saskatchewan.ca/residents/family-and-social-support/child-care/find-a-child-care-provider-in-my-community?searchRadius=1000&userLong=-106.666667&userLat=52.133333&page=32 320\n",
      "https://www.saskatchewan.ca/residents/family-and-social-support/child-care/find-a-child-care-provider-in-my-community?searchRadius=1000&userLong=-106.666667&userLat=52.133333&page=33 330\n",
      "https://www.saskatchewan.ca/residents/family-and-social-support/child-care/find-a-child-care-provider-in-my-community?searchRadius=1000&userLong=-106.666667&userLat=52.133333&page=34 340\n",
      "https://www.saskatchewan.ca/residents/family-and-social-support/child-care/find-a-child-care-provider-in-my-community?searchRadius=1000&userLong=-106.666667&userLat=52.133333&page=35 350\n",
      "https://www.saskatchewan.ca/residents/family-and-social-support/child-care/find-a-child-care-provider-in-my-community?searchRadius=1000&userLong=-106.666667&userLat=52.133333&page=36 360\n",
      "https://www.saskatchewan.ca/residents/family-and-social-support/child-care/find-a-child-care-provider-in-my-community?searchRadius=1000&userLong=-106.666667&userLat=52.133333&page=37 370\n",
      "https://www.saskatchewan.ca/residents/family-and-social-support/child-care/find-a-child-care-provider-in-my-community?searchRadius=1000&userLong=-106.666667&userLat=52.133333&page=38 380\n",
      "https://www.saskatchewan.ca/residents/family-and-social-support/child-care/find-a-child-care-provider-in-my-community?searchRadius=1000&userLong=-106.666667&userLat=52.133333&page=39 390\n",
      "https://www.saskatchewan.ca/residents/family-and-social-support/child-care/find-a-child-care-provider-in-my-community?searchRadius=1000&userLong=-106.666667&userLat=52.133333&page=40 400\n",
      "https://www.saskatchewan.ca/residents/family-and-social-support/child-care/find-a-child-care-provider-in-my-community?searchRadius=1000&userLong=-106.666667&userLat=52.133333&page=41 410\n",
      "https://www.saskatchewan.ca/residents/family-and-social-support/child-care/find-a-child-care-provider-in-my-community?searchRadius=1000&userLong=-106.666667&userLat=52.133333&page=42 420\n",
      "https://www.saskatchewan.ca/residents/family-and-social-support/child-care/find-a-child-care-provider-in-my-community?searchRadius=1000&userLong=-106.666667&userLat=52.133333&page=43 430\n",
      "https://www.saskatchewan.ca/residents/family-and-social-support/child-care/find-a-child-care-provider-in-my-community?searchRadius=1000&userLong=-106.666667&userLat=52.133333&page=44 440\n"
     ]
    },
    {
     "name": "stdout",
     "output_type": "stream",
     "text": [
      "https://www.saskatchewan.ca/residents/family-and-social-support/child-care/find-a-child-care-provider-in-my-community?searchRadius=1000&userLong=-106.666667&userLat=52.133333&page=45 450\n",
      "https://www.saskatchewan.ca/residents/family-and-social-support/child-care/find-a-child-care-provider-in-my-community?searchRadius=1000&userLong=-106.666667&userLat=52.133333&page=46 460\n",
      "https://www.saskatchewan.ca/residents/family-and-social-support/child-care/find-a-child-care-provider-in-my-community?searchRadius=1000&userLong=-106.666667&userLat=52.133333&page=47 470\n",
      "https://www.saskatchewan.ca/residents/family-and-social-support/child-care/find-a-child-care-provider-in-my-community?searchRadius=1000&userLong=-106.666667&userLat=52.133333&page=48 480\n",
      "https://www.saskatchewan.ca/residents/family-and-social-support/child-care/find-a-child-care-provider-in-my-community?searchRadius=1000&userLong=-106.666667&userLat=52.133333&page=49 490\n",
      "https://www.saskatchewan.ca/residents/family-and-social-support/child-care/find-a-child-care-provider-in-my-community?searchRadius=1000&userLong=-106.666667&userLat=52.133333&page=50 500\n",
      "https://www.saskatchewan.ca/residents/family-and-social-support/child-care/find-a-child-care-provider-in-my-community?searchRadius=1000&userLong=-106.666667&userLat=52.133333&page=51 510\n",
      "https://www.saskatchewan.ca/residents/family-and-social-support/child-care/find-a-child-care-provider-in-my-community?searchRadius=1000&userLong=-106.666667&userLat=52.133333&page=52 520\n",
      "https://www.saskatchewan.ca/residents/family-and-social-support/child-care/find-a-child-care-provider-in-my-community?searchRadius=1000&userLong=-106.666667&userLat=52.133333&page=53 530\n",
      "https://www.saskatchewan.ca/residents/family-and-social-support/child-care/find-a-child-care-provider-in-my-community?searchRadius=1000&userLong=-106.666667&userLat=52.133333&page=54 540\n",
      "https://www.saskatchewan.ca/residents/family-and-social-support/child-care/find-a-child-care-provider-in-my-community?searchRadius=1000&userLong=-106.666667&userLat=52.133333&page=55 550\n",
      "https://www.saskatchewan.ca/residents/family-and-social-support/child-care/find-a-child-care-provider-in-my-community?searchRadius=1000&userLong=-106.666667&userLat=52.133333&page=56 560\n",
      "https://www.saskatchewan.ca/residents/family-and-social-support/child-care/find-a-child-care-provider-in-my-community?searchRadius=1000&userLong=-106.666667&userLat=52.133333&page=57 570\n",
      "https://www.saskatchewan.ca/residents/family-and-social-support/child-care/find-a-child-care-provider-in-my-community?searchRadius=1000&userLong=-106.666667&userLat=52.133333&page=58 580\n"
     ]
    }
   ],
   "source": [
    "details = []\n",
    "name = []\n",
    "address = []\n",
    "phone = []\n",
    "\n",
    "\n",
    "domain = 'https://www.saskatchewan.ca/residents/family-and-social-support/child-care/find-a-child-care-provider-in-my-community?searchRadius=1000&userLong=-106.666667&userLat=52.133333&page='\n",
    "for i in range(1,59):\n",
    "    r = requests.get(domain+str(i), headers=headers)\n",
    "    s = BeautifulSoup(r.text)\n",
    "    \n",
    "    centres=s.find('div', {'class':'map-result'}).find_all('li')\n",
    "    \n",
    "    for c in centres:\n",
    "        details.append(c.text.split('\\n')[1])\n",
    "        name.append(c.text.split('\\n')[2])\n",
    "        address.append(c.text.split('\\n')[3])\n",
    "        phone.append(c.text.split('\\n')[4].split('|')[0])\n",
    "    \n",
    "    print(domain+str(i), len(name))\n",
    "    \n",
    "    time.sleep(random.uniform(5,15))"
   ]
  },
  {
   "cell_type": "markdown",
   "metadata": {},
   "source": [
    "#### Consolidate, Clean & Export:"
   ]
  },
  {
   "cell_type": "code",
   "execution_count": 72,
   "metadata": {},
   "outputs": [],
   "source": [
    "# Create DF, Text formatting:\n",
    "df = pd.DataFrame({'facility_name': name, 'full_address': address, 'phone': phone, 'details': details})\n",
    "df.facility_name.replace('[\\\\r]','', regex=True, inplace = True)\n",
    "\n",
    "# Whitespaces:\n",
    "rmvws = ['facility_name', 'full_address', 'phone', 'details']\n",
    "for r in rmvws:\n",
    "    df[r] = df[r].str.strip()\n",
    "    \n",
    "    \n",
    "# Encoding:\n",
    "df.full_address = df.full_address.str.encode('ascii', 'ignore').str.decode('ascii')\n",
    "df.facility_name = df.facility_name.str.encode('ascii', 'ignore').str.decode('ascii')\n",
    "    \n",
    "df.info()\n",
    "df.head(5)"
   ]
  },
  {
   "cell_type": "code",
   "execution_count": 84,
   "metadata": {},
   "outputs": [],
   "source": [
    "df.to_csv('data/childcare/SK-childcare.csv')"
   ]
  }
 ],
 "metadata": {
  "kernelspec": {
   "display_name": "Python 3",
   "language": "python",
   "name": "python3"
  },
  "language_info": {
   "codemirror_mode": {
    "name": "ipython",
    "version": 3
   },
   "file_extension": ".py",
   "mimetype": "text/x-python",
   "name": "python",
   "nbconvert_exporter": "python",
   "pygments_lexer": "ipython3",
   "version": "3.7.0"
  }
 },
 "nbformat": 4,
 "nbformat_minor": 4
}
