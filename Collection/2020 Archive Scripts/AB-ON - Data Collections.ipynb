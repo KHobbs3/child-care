{
 "cells": [
  {
   "cell_type": "markdown",
   "metadata": {},
   "source": [
    "### Alberta\n",
    "\n",
    "Retrieved from: https://open.alberta.ca/opendata/childcareinformation"
   ]
  },
  {
   "cell_type": "code",
   "execution_count": 3,
   "metadata": {},
   "outputs": [],
   "source": [
    "import numpy as np\n",
    "import pandas as pd"
   ]
  },
  {
   "cell_type": "code",
   "execution_count": 2,
   "metadata": {
    "scrolled": true
   },
   "outputs": [],
   "source": [
    "ab = pd.read_csv('https://open.alberta.ca/dataset/e4ecb4fa-28b5-4abb-8c32-b2a76d2a6ee0/resource/e89a46f3-e4ec-41a3-8086-026a2c14e24c/download/open-data-portal-202003.csv')"
   ]
  },
  {
   "cell_type": "code",
   "execution_count": 3,
   "metadata": {},
   "outputs": [],
   "source": [
    "ab.to_csv('data/childcare/AB-childcare.csv', encoding = \"utf-8\")"
   ]
  },
  {
   "attachments": {},
   "cell_type": "markdown",
   "metadata": {},
   "source": [
    "### Ontario\n",
    "Retreived from: https://data.ontario.ca/dataset/licensed-child-care-facilities-in-ontario\n",
    "\n",
    "Excel converts the street numbers to dates for the following centers:\n",
    "* Learning Hearts Daycare - L\\'Apprentissage Avec Coeur - St. Mary\n",
    "* 16 Oct Regalbuto Street --> 10-16 Regalbuto Street // 16-Oct --> 10-16"
   ]
  },
  {
   "cell_type": "code",
   "execution_count": 4,
   "metadata": {},
   "outputs": [],
   "source": [
    "on = pd.read_excel('https://data.ontario.ca/dataset/7efd8b4b-cc63-4337-a551-c940a346605b/resource/d2144297-fc60-4472-b954-e577d1f1a3fb/download/child_care_facilities_open_data_feb2020.xlsx')\n",
    "ondict = pd.read_excel('https://files.ontario.ca/lccf_-_data_dictionary_en_fr.xlsx')"
   ]
  },
  {
   "cell_type": "code",
   "execution_count": 8,
   "metadata": {},
   "outputs": [
    {
     "data": {
      "text/plain": [
       "3068    2-26\n",
       "Name: Street Number, dtype: object"
      ]
     },
     "execution_count": 8,
     "metadata": {},
     "output_type": "execute_result"
    }
   ],
   "source": [
    "on.loc[on['Child Care Center Name'] == 'Learning Hearts Daycare - L\\'Apprentissage Avec Coeur - St. Mary', 'Street Number'] = ' 2-26'"
   ]
  },
  {
   "cell_type": "code",
   "execution_count": 8,
   "metadata": {},
   "outputs": [],
   "source": [
    "on.loc[on['Child Care Center Name'] == 'Petawawa Military Family Resource Centre Private Home Day Care', 'Street Number'] = ' 10-16'"
   ]
  },
  {
   "cell_type": "code",
   "execution_count": 5,
   "metadata": {},
   "outputs": [],
   "source": [
    "on.to_csv('data/childcare/ON-childcare.csv', encoding = \"utf-8\")\n",
    "ondict.to_csv('data/childcare/ON-childcare-dictionary.csv', encoding = \"utf-8\")"
   ]
  }
 ],
 "metadata": {
  "kernelspec": {
   "display_name": "Python 3",
   "language": "python",
   "name": "python3"
  },
  "language_info": {
   "codemirror_mode": {
    "name": "ipython",
    "version": 3
   },
   "file_extension": ".py",
   "mimetype": "text/x-python",
   "name": "python",
   "nbconvert_exporter": "python",
   "pygments_lexer": "ipython3",
   "version": "3.7.4"
  }
 },
 "nbformat": 4,
 "nbformat_minor": 4
}
