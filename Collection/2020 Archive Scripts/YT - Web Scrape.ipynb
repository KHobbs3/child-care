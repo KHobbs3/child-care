{
 "cells": [
  {
   "cell_type": "markdown",
   "metadata": {},
   "source": [
    "#### Yukon Territories\n",
    "\n",
    "Retrieved from: https://yukon.ca/en/child-care-information-yukoners\n",
    "\n",
    "Robots.txt: https://yukon.ca/robots.txt\n",
    "\n",
    "User-agent: *\n",
    "\n",
    "Crawl-delay: 10s"
   ]
  },
  {
   "cell_type": "code",
   "execution_count": 1,
   "metadata": {},
   "outputs": [],
   "source": [
    "import pandas as pd\n",
    "import requests\n",
    "from bs4 import BeautifulSoup\n",
    "import time\n",
    "import random\n",
    "from logger import logging"
   ]
  },
  {
   "cell_type": "code",
   "execution_count": 2,
   "metadata": {},
   "outputs": [],
   "source": [
    "headers = {\n",
    "    'User-Agent': 'kaitlyn hobbs bot version 1.0',\n",
    "    'From': 'kaitlyn.hobbs@statcan.gc.ca'\n",
    "}"
   ]
  },
  {
   "cell_type": "markdown",
   "metadata": {},
   "source": [
    "#### Execution log:"
   ]
  },
  {
   "cell_type": "code",
   "execution_count": null,
   "metadata": {},
   "outputs": [],
   "source": [
    "FORMAT = \"%(asctime)-15s %(clientip)s %(user)-8s %(message)s\"\n",
    "logging.basicConfig(filename=\"logfilename.log\", format=FORMAT)\n",
    "logging.info('Execution of MB child care web scrape. \\n{}.'.format(headers))"
   ]
  },
  {
   "cell_type": "markdown",
   "metadata": {},
   "source": [
    "#### Execute Scrape:"
   ]
  },
  {
   "cell_type": "code",
   "execution_count": 3,
   "metadata": {},
   "outputs": [],
   "source": [
    "r = requests.get(\"https://yukon.ca/en/child-care-information-yukoners\", headers=headers)\n",
    "s = BeautifulSoup(r.text)"
   ]
  },
  {
   "cell_type": "code",
   "execution_count": 97,
   "metadata": {},
   "outputs": [],
   "source": [
    "childcare = s.find_all('p')\n",
    "childcare = childcare[2:-2]\n",
    "\n",
    "cc = {\n",
    "     'name': ['Toy’s FDH'], \n",
    "     'address': ['15 Cedar Cres, Y1A 4P2)'],\n",
    "     'year': ['since 2004'],\n",
    "     'phone': ['633-6768'],\n",
    "     'license': ['licensed for 10 children'],\n",
    "     'age': ['infants and older'],\n",
    "     'requirements': ['2 year diploma in ECD'],\n",
    "     'details': ['meals available']\n",
    "     }\n",
    "\n",
    "for c in childcare:\n",
    "    splt = c.text.split(';')\n",
    "    \n",
    "    if len(splt) == 6:\n",
    "        cc['name'].append(splt[0].split(' (')[0])\n",
    "        cc['address'].append(splt[0].split(' (')[1])\n",
    "        cc['year'].append(splt[1])\n",
    "        cc['phone'].append(splt[2])\n",
    "        cc['license'].append(splt[3])\n",
    "        cc['age'].append(splt[4])\n",
    "        cc['requirements'].append(splt[5])\n",
    "        cc['details'].append(\"none\")\n",
    "        \n",
    "    if len(splt) == 7:\n",
    "        cc['name'].append(splt[0].split(' (')[0])\n",
    "        cc['address'].append(splt[0].split(' (')[1])\n",
    "        cc['year'].append(splt[1])\n",
    "        cc['phone'].append(splt[2])\n",
    "        cc['license'].append(splt[3])\n",
    "        cc['age'].append(splt[4])\n",
    "        cc['requirements'].append(splt[5])\n",
    "        cc['details'].append(splt[6])\n",
    "        \n",
    "    if len(splt) == 5:\n",
    "        cc['name'].append(splt[0].split(' (')[0])\n",
    "        cc['address'].append(splt[0].split(' (')[1])\n",
    "        cc['year'].append(\"none\")\n",
    "        cc['phone'].append(splt[1])\n",
    "        cc['license'].append(splt[2])\n",
    "        cc['age'].append(splt[3])\n",
    "        cc['requirements'].append(splt[4])\n",
    "        cc['details'].append(\"none\")\n",
    "    "
   ]
  },
  {
   "cell_type": "markdown",
   "metadata": {},
   "source": [
    "#### Consolidate, Clean & Export:"
   ]
  },
  {
   "cell_type": "code",
   "execution_count": 98,
   "metadata": {},
   "outputs": [],
   "source": [
    "yk = pd.DataFrame(cc)"
   ]
  },
  {
   "cell_type": "code",
   "execution_count": 100,
   "metadata": {},
   "outputs": [],
   "source": [
    "# Encoding:\n",
    "ykcols = ['name', 'address', 'year', 'phone', 'license', 'age', 'requirements',\n",
    "       'details']\n",
    "for y in ykcols:\n",
    "    yk[y] = yk[y].str.encode('ascii', 'ignore').str.decode('ascii')\n",
    "    \n",
    "# Text formatting:\n",
    "yk.address = yk.address.replace('[\\)]', '', regex=True)\n",
    "\n",
    "# Missing info:\n",
    "yk.loc[yk.name == 'Montessori Borealis', 'phone'] =  '668-2268'\n",
    "yk.loc[yk.name == 'Montessori Borealis', 'license'] = 'licensed for 24 children'\n",
    "yk.loc[yk.name == 'Montessori Borealis', 'age'] = 'pre-school'\n",
    "\n",
    "yk.loc[yk.name == 'La Garderie du Petit Cheval Blanc School Age Program', 'year'] = \"none\"\n",
    "yk.loc[yk.name == 'La Garderie du Petit Cheval Blanc School Age Program', 'phone'] = \"633-6566\"\n",
    "yk.loc[yk.name == 'La Garderie du Petit Cheval Blanc School Age Program', 'license'] = \"licensed for 45 children\"\n",
    "yk.loc[yk.name == 'La Garderie du Petit Cheval Blanc School Age Program', 'age'] = \"kindergarten and school-age, French language only\"\n",
    "yk.loc[yk.name == 'La Garderie du Petit Cheval Blanc School Age Program', 'requirements'] = \"training compliant\"\n",
    "yk.loc[yk.name == 'La Garderie du Petit Cheval Blanc School Age Program', 'details'] = \"meals available.\""
   ]
  },
  {
   "cell_type": "code",
   "execution_count": 104,
   "metadata": {},
   "outputs": [],
   "source": [
    "yk.to_csv('data/childcare/YT-childcare.csv')"
   ]
  }
 ],
 "metadata": {
  "kernelspec": {
   "display_name": "Python 3",
   "language": "python",
   "name": "python3"
  },
  "language_info": {
   "codemirror_mode": {
    "name": "ipython",
    "version": 3
   },
   "file_extension": ".py",
   "mimetype": "text/x-python",
   "name": "python",
   "nbconvert_exporter": "python",
   "pygments_lexer": "ipython3",
   "version": "3.7.0"
  }
 },
 "nbformat": 4,
 "nbformat_minor": 4
}
