{
 "cells": [
  {
   "cell_type": "markdown",
   "id": "horizontal-composer",
   "metadata": {},
   "source": [
    "## Logic <a anchor=\"href\" id = \"top\"></a>\n",
    "Enumerate through original raw data from each Government provider and fill missing contact, phone, email data in childcare database. Targeted fills conducted by search using pandas `pd.DataFrame.at[index, col]` function. Appropriate index is determined by iterating through columns in raw data and finding match in childcare database according to:\n",
    "   1. source id, if available\n",
    "   2. name & address, if neither have missing values\n",
    "   3. name if all are unique and address has NAs\n",
    "   4. address if all are unique and name has NAs\n",
    "\n",
    "### [TO DO: ](#todo)\n",
    "* Verify automatically\n",
    "\n",
    "Prov/Terr | phone | email | contact | completed\n",
    "----------|------|------|---------|-----------\n",
    "NT | Y | N | Y | Yes\n",
    "YT | Y | N | N | Yes \n",
    "NU | Y | Y | N | Yes\n",
    "QC | Y | Y | N | Yes\n",
    "NB | Y | N | N | Yes\n",
    "AB | Y | N | N | Yes\n",
    "BC | Y | Y | N | Yes\n",
    "NL | Y | Y | Y | Yes\n",
    "NS | Y | Y | N | Yes\n",
    "PE | Y | Y | Y | Yes\n",
    "ON | N | N | N | -\n",
    "MB | Y | N | N | Yes\n",
    "SK | Y | N | N | Yes\n",
    "\n",
    "## Table of Contents\n",
    "\n",
    "### Functions\n",
    "* [Check Function](#check-func)\n",
    "* [Fill Function](#fill-func)\n",
    "\n",
    "### Operations\n",
    "* [Set up and NB phone](#setup-nb)\n",
    "* [NU](#nu)\n",
    "* [NT](#nt)\n",
    "* [YT](#yt)\n",
    "* [BC](#bc)\n",
    "* [NL](#nl)\n",
    "* [PE](#pe)\n",
    "* [NS](#ns)\n",
    "* [MB](#mb)\n",
    "* [SK](#sk)\n",
    "* [AB](#ab)\n",
    "* [QC](#qc)\n",
    "\n",
    "\n",
    "### [Verify](#verify)"
   ]
  },
  {
   "cell_type": "code",
   "execution_count": 1,
   "id": "transsexual-consultancy",
   "metadata": {},
   "outputs": [],
   "source": [
    "import pandas as pd\n",
    "import os\n",
    "import glob\n",
    "import re\n",
    "import numpy as np"
   ]
  },
  {
   "cell_type": "code",
   "execution_count": 2,
   "id": "military-anime",
   "metadata": {},
   "outputs": [],
   "source": [
    "os.chdir('/Users/kt/Documents/work/STATCAN/Projects/ODECF/Collection-ODECF/data/childcare')"
   ]
  },
  {
   "cell_type": "code",
   "execution_count": 3,
   "id": "geographic-league",
   "metadata": {},
   "outputs": [],
   "source": [
    "# glob.glob('*.csv')"
   ]
  },
  {
   "cell_type": "code",
   "execution_count": 4,
   "id": "enormous-allah",
   "metadata": {},
   "outputs": [],
   "source": [
    "# RAW DATA\n",
    "NT = pd.read_csv('NT-childcare.csv', index_col=[0])\n",
    "QC = pd.read_csv('QC-CPE-GARD-MF.csv', index_col=[0], encoding = \"utf-8-sig\")\n",
    "NB = pd.read_csv('NB-childcare.csv', index_col=[0])\n",
    "AB = pd.read_csv('AB-childcare.csv', index_col=[0])\n",
    "NL = pd.read_csv('NL-childcare.csv', index_col=[0])\n",
    "MB = pd.read_csv('MB-childcare.csv', index_col=[0])\n",
    "PE = pd.read_csv('PE-childcare.csv', index_col=[0])\n",
    "NS = pd.read_csv('NS-Child_Care_Directory.csv', index_col=[0])\n",
    "SK = pd.read_csv('SK-childcare.csv', index_col=[0])\n",
    "ON = pd.read_csv('ON-childcare.csv', index_col=[0])\n",
    "YT = pd.read_csv('YT-childcare.csv', index_col=[0])\n",
    "NU = pd.read_csv('NU-childcare.csv', index_col=[0])\n",
    "BC = pd.read_csv('BC-childcare_locations.csv', index_col=[0])"
   ]
  },
  {
   "cell_type": "code",
   "execution_count": 5,
   "id": "useful-halloween",
   "metadata": {},
   "outputs": [],
   "source": [
    "cc = pd.read_excel(\"../../..//FINAL/childcare-facilities-utf8.xlsx\").set_index('id')"
   ]
  },
  {
   "cell_type": "code",
   "execution_count": 6,
   "id": "excited-nepal",
   "metadata": {},
   "outputs": [
    {
     "data": {
      "text/plain": [
       "array(['Northwest Territories', 'Province of New Brunswick',\n",
       "       'Province of Alberta', 'Province of Manitoba',\n",
       "       'Province of Québec', 'Province of Ontario', 'GoDayCare.com',\n",
       "       'Province of Nova Scotia', 'Province of Newfoundland and Labrador',\n",
       "       'Province of Prince Edward Island', 'Province of British Columbia',\n",
       "       'Province of Saskatchewan', 'Yukon Territory', 'Nunavut'],\n",
       "      dtype=object)"
      ]
     },
     "execution_count": 6,
     "metadata": {},
     "output_type": "execute_result"
    }
   ],
   "source": [
    "cc.provider.replace('Province of Qubec', 'Province of Québec', inplace = True)\n",
    "cc.provider.unique()"
   ]
  },
  {
   "cell_type": "markdown",
   "id": "patent-shuttle",
   "metadata": {},
   "source": [
    "### Check function <a class=\"anchor\" id=\"check-func\"></a>"
   ]
  },
  {
   "cell_type": "code",
   "execution_count": 7,
   "id": "public-monaco",
   "metadata": {},
   "outputs": [],
   "source": [
    "def precheck(df, provider, name = False, address = False, source_id = False):\n",
    "    \"\"\"\n",
    "    \n",
    "    Checks if name or address in raw dataframe are all found in childcare final database.\n",
    "    Prints \"missing\" values (usually a product of string cleaning).\n",
    "    \n",
    "    param provider: expects string name of data provider.\n",
    "    \n",
    "    N.B. column names of input df must contain \"name\", \"address\"\n",
    "    \"\"\"\n",
    "    \n",
    "    if name == True:\n",
    "        # Check for names in df missing from cc\n",
    "        cc_missing = set(df.name) - set(cc.loc[cc.provider == provider].name)\n",
    "        \n",
    "        if len(cc_missing) > 0:\n",
    "            return cc_missing\n",
    "\n",
    "        \n",
    "        # Check for names in cc missing from df\n",
    "        df_missing = set(cc.loc[cc.provider == provider].name) - set(df.name)\n",
    "        \n",
    "        if len(df_missing) > 0:\n",
    "            return df_missing\n",
    "        \n",
    "    if address == True:\n",
    "        # Check for address in df missing from cc\n",
    "        cc_missing = set(df.address) - set(cc.loc[cc.provider == provider].source_full_address)\n",
    "    \n",
    "        if len(cc_missing) > 0:\n",
    "            return cc_missing\n",
    "                         \n",
    "\n",
    "        # Check for addresses in cc missing from df\n",
    "        df_missing = set(cc.loc[cc.provider == provider].source_full_address) - set(df.address)\n",
    "        \n",
    "        if len(df_missing) > 0:\n",
    "            return df_missing\n",
    "        \n",
    "    if source_id == True:\n",
    "        # Check for address in df missing from cc\n",
    "        cc_missing = set(df.source_id) - set(cc.loc[cc.provider == provider].source_id)\n",
    "    \n",
    "        if len(cc_missing) > 0:\n",
    "            return cc_missing\n",
    "                         \n",
    "\n",
    "        # Check for addresses in cc missing from df\n",
    "        df_missing = set(cc.loc[cc.provider == provider].source_id) - set(df.source_id)\n",
    "        \n",
    "        if len(df_missing) > 0:\n",
    "            return df_missing\n",
    "    \n",
    "    print(\"All good.\")"
   ]
  },
  {
   "cell_type": "markdown",
   "id": "latin-anxiety",
   "metadata": {},
   "source": [
    "### Fill Function <a class=\"anchor\" id=\"fill-func\"></a>"
   ]
  },
  {
   "cell_type": "code",
   "execution_count": 8,
   "id": "horizontal-religion",
   "metadata": {},
   "outputs": [],
   "source": [
    "def fill_missing(df, provider, by, phone = False, contact = False, email = False, verbose = False):\n",
    "    \"\"\"\n",
    "    \n",
    "    param df: pandas dataframe of raw provincial/territorial childcare data.\n",
    "    param provider: name of data provider, as string.\n",
    "    param by: whether to search by name or source_full_address.\n",
    "    param phone: if True, fills in phone data.\n",
    "    param contact: if True, fills in contact data.\n",
    "    param email: if True, fills in email data.\n",
    "    \n",
    "    Output: fills childcare dataframe with selected raw dataframe contact info.\n",
    "    \n",
    "    N.B. Input and childcare dataframes must have columns named \"phone\", \"contact\", \"email\".\n",
    "    \n",
    "    \"\"\"\n",
    "    by_opts = ['name', 'address', 'source_id', 'name & address', 'name & source_id', 'name & source_id & address']\n",
    "    if by not in by_opts:\n",
    "        raise ValueError(\"Invalid by value. Expected one of: %s\" % by_opts)\n",
    "    \n",
    "    tracker = []\n",
    "    print(\"Filling data from {}\".format(provider))\n",
    "    \n",
    "    \n",
    "    # BY = NAME \n",
    "    if by == \"name\":\n",
    "        for i,n in enumerate(df.name):\n",
    "            # Get index\n",
    "            idx = cc.loc[(cc.name == n) & (cc.provider == provider)].index.to_list()[0]\n",
    "            tracker.append(idx)\n",
    "\n",
    "            # Update information\n",
    "            if phone == True:\n",
    "                cc.at[idx, \"phone\"] = df.at[i, \"phone\"]\n",
    "            if contact == True:\n",
    "                cc.at[idx, \"contact\"] = df.at[i, \"contact\"]\n",
    "            if email == True:\n",
    "                cc.at[idx, \"email\"] = df.at[i, \"email\"]\n",
    "    \n",
    "    \n",
    "    # BY = SOURCE_FULL_ADDRESS\n",
    "    if by == \"address\":\n",
    "        for i,a in enumerate(df.address):\n",
    "            # Get index\n",
    "            idx = cc.loc[(cc.source_full_address == a) & (cc.provider == provider)].index.to_list()[0]\n",
    "            tracker.append(idx)\n",
    "\n",
    "            # Update information\n",
    "            if phone == True:\n",
    "                cc.at[idx, \"phone\"] = df.at[i, \"phone\"]\n",
    "            if contact == True:\n",
    "                cc.at[idx, \"contact\"] = df.at[i, \"contact\"]\n",
    "            if email == True:\n",
    "                cc.at[idx, \"email\"] = df.at[i, \"email\"]\n",
    "                \n",
    "                \n",
    "    # BY = SOURCE_ID\n",
    "    if by == \"source_id\":\n",
    "        for i,a in enumerate(df.source_id):\n",
    "            # Get index\n",
    "            idx = cc.loc[(cc.source_id == a) & (cc.provider == provider)].index.to_list()[0]\n",
    "            tracker.append(idx)\n",
    "\n",
    "            # Update information\n",
    "            if phone == True:\n",
    "                cc.at[idx, \"phone\"] = df.at[i, \"phone\"]\n",
    "            if contact == True:\n",
    "                cc.at[idx, \"contact\"] = df.at[i, \"contact\"]\n",
    "            if email == True:\n",
    "                cc.at[idx, \"email\"] = df.at[i, \"email\"]\n",
    "                \n",
    "                \n",
    "    # BY = NAME & SOURCE_FULL_ADDRESS\n",
    "    if by == \"name & address\":\n",
    "        for i,a,n in zip(range(len(df)+1), df.address, df.name):\n",
    "            if verbose == True:\n",
    "                print(i, a, n)\n",
    "            # Get index\n",
    "            idx = cc.loc[(cc.source_full_address == a) & (cc.name == n) & (cc.provider == provider)].index.to_list()[0]\n",
    "            tracker.append(idx)\n",
    "\n",
    "            # Update information\n",
    "            if phone == True:\n",
    "                cc.at[idx, \"phone\"] = df.at[i, \"phone\"]\n",
    "            if contact == True:\n",
    "                cc.at[idx, \"contact\"] = df.at[i, \"contact\"]\n",
    "            if email == True:\n",
    "                cc.at[idx, \"email\"] = df.at[i, \"email\"]\n",
    "    \n",
    "    # BY = NAME & SOURCE_ID\n",
    "    if by == \"name & source_id\":\n",
    "        for i,src_id,n in zip(range(len(df)+1), df.source_id, df.name):\n",
    "            # Get index\n",
    "            idx = cc.loc[(cc.source_id == src_id) & (cc.name == n) & (cc.provider == provider)].index.to_list()[0]\n",
    "            tracker.append(idx)\n",
    "\n",
    "            # Update information\n",
    "            if phone == True:\n",
    "                cc.at[idx, \"phone\"] = df.at[i, \"phone\"]\n",
    "            if contact == True:\n",
    "                cc.at[idx, \"contact\"] = df.at[i, \"contact\"]\n",
    "            if email == True:\n",
    "                cc.at[idx, \"email\"] = df.at[i, \"email\"]\n",
    "                \n",
    "    # BY = NAME & SOURCE_ID & SOURCE_FULL_ADDRESS\n",
    "    if by == \"name & source_id & address\":\n",
    "        for i,src_id,n,a in zip(range(len(df)+1), df.source_id, df.name, df.address):\n",
    "            # Get index\n",
    "            idx = cc.loc[(cc.source_id == src_id) & (cc.name == n) & (cc.source_full_address == a) & (cc.provider == provider)].index.to_list()[0]\n",
    "            tracker.append(idx)\n",
    "\n",
    "            # Update information\n",
    "            if phone == True:\n",
    "                cc.at[idx, \"phone\"] = df.at[i, \"phone\"]\n",
    "            if contact == True:\n",
    "                cc.at[idx, \"contact\"] = df.at[i, \"contact\"]\n",
    "            if email == True:\n",
    "                cc.at[idx, \"email\"] = df.at[i, \"email\"]\n",
    "                 \n",
    "    # Check all rows were accounted for\n",
    "    if len(tracker) == len(df):\n",
    "        print(\"All rows found.\")"
   ]
  },
  {
   "cell_type": "markdown",
   "id": "emerging-vertex",
   "metadata": {},
   "source": [
    "### Set up and NB phone  <a class=\"anchor\" id=\"setup-nb\"></a>"
   ]
  },
  {
   "cell_type": "code",
   "execution_count": 9,
   "id": "recognized-watch",
   "metadata": {},
   "outputs": [],
   "source": [
    "cc[['contact', 'email']] = None, None\n",
    "\n",
    "# Get phone from source address where found (NB)\n",
    "def get_phone(x):\n",
    "    try:\n",
    "        return re.search('\\(\\d{3}\\) \\d{3}\\-\\d{4}', x)[0]\n",
    "        \n",
    "    except TypeError:\n",
    "        return None\n",
    "    \n",
    "cc['phone'] = cc.source_full_address.map(get_phone).to_list()"
   ]
  },
  {
   "cell_type": "markdown",
   "id": "demonstrated-relevance",
   "metadata": {},
   "source": [
    "### NU  <a class=\"anchor\" id=\"nu\"></a>"
   ]
  },
  {
   "cell_type": "code",
   "execution_count": 10,
   "id": "acoustic-columbus",
   "metadata": {},
   "outputs": [],
   "source": [
    "NU.rename(columns = {\n",
    "    'Facility/Program':'name',\n",
    "    'Address':'address',\n",
    "    'Phone':'phone',\n",
    "    'Email':'email',\n",
    "    'Fax':'fax'\n",
    "}, inplace = True)\n",
    "\n",
    "NU.reset_index(inplace = True)"
   ]
  },
  {
   "cell_type": "code",
   "execution_count": 11,
   "id": "cultural-tooth",
   "metadata": {},
   "outputs": [
    {
     "data": {
      "text/plain": [
       "True"
      ]
     },
     "execution_count": 11,
     "metadata": {},
     "output_type": "execute_result"
    }
   ],
   "source": [
    "len(NU.name.unique()) == len(NU)"
   ]
  },
  {
   "cell_type": "code",
   "execution_count": 12,
   "id": "parental-exclusive",
   "metadata": {},
   "outputs": [
    {
     "name": "stdout",
     "output_type": "stream",
     "text": [
      "All good.\n"
     ]
    }
   ],
   "source": [
    "# Clean name\n",
    "NU.name = NU.name.map(lambda x: x.strip())\n",
    "\n",
    "precheck(NU, \"Nunavut\", name = True)"
   ]
  },
  {
   "cell_type": "code",
   "execution_count": 13,
   "id": "apart-straight",
   "metadata": {
    "scrolled": true
   },
   "outputs": [
    {
     "name": "stdout",
     "output_type": "stream",
     "text": [
      "Filling data from Nunavut\n",
      "All rows found.\n"
     ]
    }
   ],
   "source": [
    "fill_missing(NU, \"Nunavut\", by = \"name\", phone = True, email = True)"
   ]
  },
  {
   "cell_type": "markdown",
   "id": "missing-ribbon",
   "metadata": {},
   "source": [
    "**Post op check**"
   ]
  },
  {
   "cell_type": "code",
   "execution_count": 14,
   "id": "pressing-arlington",
   "metadata": {},
   "outputs": [],
   "source": [
    "# cc.loc[cc.provider == \"Nunavut\"].tail(10)"
   ]
  },
  {
   "cell_type": "code",
   "execution_count": 15,
   "id": "helpful-exception",
   "metadata": {},
   "outputs": [],
   "source": [
    "# NU"
   ]
  },
  {
   "cell_type": "markdown",
   "id": "linear-elimination",
   "metadata": {},
   "source": [
    "### NT phone and contact  <a class=\"anchor\" id=\"nt\"></a>"
   ]
  },
  {
   "cell_type": "code",
   "execution_count": 16,
   "id": "congressional-fantasy",
   "metadata": {},
   "outputs": [],
   "source": [
    "# Rename raw data\n",
    "NT.rename(columns = {'facility_name' : 'name'}, inplace = True)\n",
    "\n",
    "# Clean NT text\n",
    "NT.name = NT.name.map(lambda x: x.strip().replace('  ', ' '))\n",
    "\n",
    "# Reset index\n",
    "NT = NT.reset_index().drop(columns = ['index'])"
   ]
  },
  {
   "cell_type": "markdown",
   "id": "rocky-indication",
   "metadata": {},
   "source": [
    "**Pre-op Check:**"
   ]
  },
  {
   "cell_type": "code",
   "execution_count": 17,
   "id": "suitable-transcription",
   "metadata": {},
   "outputs": [],
   "source": [
    "NT.drop_duplicates(inplace = True)\n",
    "NT.reset_index(inplace = True)"
   ]
  },
  {
   "cell_type": "code",
   "execution_count": 18,
   "id": "cosmetic-referral",
   "metadata": {},
   "outputs": [
    {
     "data": {
      "text/plain": [
       "True"
      ]
     },
     "execution_count": 18,
     "metadata": {},
     "output_type": "execute_result"
    }
   ],
   "source": [
    "len(NT.name.unique()) == len(NT)"
   ]
  },
  {
   "cell_type": "code",
   "execution_count": 19,
   "id": "alpine-residence",
   "metadata": {},
   "outputs": [
    {
     "name": "stdout",
     "output_type": "stream",
     "text": [
      "All good.\n"
     ]
    }
   ],
   "source": [
    "precheck(NT, \"Northwest Territories\", name = True)"
   ]
  },
  {
   "cell_type": "markdown",
   "id": "working-holocaust",
   "metadata": {},
   "source": [
    "**Operation:**"
   ]
  },
  {
   "cell_type": "code",
   "execution_count": 20,
   "id": "interpreted-sweet",
   "metadata": {},
   "outputs": [
    {
     "name": "stdout",
     "output_type": "stream",
     "text": [
      "Filling data from Northwest Territories\n",
      "All rows found.\n"
     ]
    }
   ],
   "source": [
    "fill_missing(NT, \"Northwest Territories\", by = \"name\", phone = True, contact = True)"
   ]
  },
  {
   "cell_type": "markdown",
   "id": "noble-billion",
   "metadata": {},
   "source": [
    "**Post-op check:**"
   ]
  },
  {
   "cell_type": "code",
   "execution_count": 21,
   "id": "qualified-sessions",
   "metadata": {},
   "outputs": [],
   "source": [
    "# NT.sort_values(by = \"name\")"
   ]
  },
  {
   "cell_type": "code",
   "execution_count": 22,
   "id": "structural-advice",
   "metadata": {},
   "outputs": [],
   "source": [
    "# cc.loc[cc.provider == \"Northwest Territories\"].sort_values(by = \"name\")"
   ]
  },
  {
   "cell_type": "markdown",
   "id": "desirable-import",
   "metadata": {},
   "source": [
    "### YT Phone  <a class=\"anchor\" id=\"yt\"></a>"
   ]
  },
  {
   "cell_type": "code",
   "execution_count": 23,
   "id": "athletic-creation",
   "metadata": {},
   "outputs": [
    {
     "name": "stdout",
     "output_type": "stream",
     "text": [
      "All good.\n"
     ]
    }
   ],
   "source": [
    "YT.name.replace('Three H Preschool  Canada', 'Three H Preschool Canada', inplace = True)\n",
    "\n",
    "\n",
    "# check 3 - all 50 in orig are accounted for in cc\n",
    "# len(cc.loc[cc.name.isin(YT.name)])\n",
    "\n",
    "precheck(YT, \"Yukon Territory\", name = True)"
   ]
  },
  {
   "cell_type": "markdown",
   "id": "patient-society",
   "metadata": {},
   "source": [
    "Grow with Joy (indices 9 and 21) have same name but different addresses."
   ]
  },
  {
   "cell_type": "code",
   "execution_count": 24,
   "id": "revised-limit",
   "metadata": {},
   "outputs": [
    {
     "data": {
      "text/plain": [
       "False"
      ]
     },
     "execution_count": 24,
     "metadata": {},
     "output_type": "execute_result"
    }
   ],
   "source": [
    "len(YT.name.unique()) == len(YT)"
   ]
  },
  {
   "cell_type": "code",
   "execution_count": 25,
   "id": "opposite-spending",
   "metadata": {},
   "outputs": [
    {
     "data": {
      "text/plain": [
       "False"
      ]
     },
     "execution_count": 25,
     "metadata": {},
     "output_type": "execute_result"
    }
   ],
   "source": [
    "len(YT.address.unique()) == len(YT)"
   ]
  },
  {
   "cell_type": "code",
   "execution_count": 26,
   "id": "offensive-future",
   "metadata": {},
   "outputs": [
    {
     "name": "stdout",
     "output_type": "stream",
     "text": [
      "Filling data from Yukon Territory\n",
      "All rows found.\n"
     ]
    }
   ],
   "source": [
    "fill_missing(YT, \"Yukon Territory\", by = \"name & address\", phone = True)"
   ]
  },
  {
   "cell_type": "markdown",
   "id": "recreational-logging",
   "metadata": {},
   "source": [
    "**Manual post check:**"
   ]
  },
  {
   "cell_type": "code",
   "execution_count": 27,
   "id": "designing-robinson",
   "metadata": {
    "scrolled": true
   },
   "outputs": [],
   "source": [
    "# cc.loc[cc.source_full_address.isin(YT.address)].sort_values(by = \"name\")"
   ]
  },
  {
   "cell_type": "code",
   "execution_count": 28,
   "id": "rapid-identification",
   "metadata": {},
   "outputs": [],
   "source": [
    "# YT.sort_values(by = \"name\")"
   ]
  },
  {
   "cell_type": "markdown",
   "id": "numerous-neighborhood",
   "metadata": {},
   "source": [
    "Check on phone numbers for addresses that have duplicates:\n"
   ]
  },
  {
   "cell_type": "code",
   "execution_count": 29,
   "id": "velvet-possibility",
   "metadata": {},
   "outputs": [],
   "source": [
    "# cc.loc[(cc.provider == \"Yukon Territory\") & (cc.source_full_address == \"95 Lewes Boulevard, Y1A 3J4\") | (cc.source_full_address == \"22 Falcon Drive, Y1A 6C8\") ]"
   ]
  },
  {
   "cell_type": "code",
   "execution_count": 30,
   "id": "resident-journalism",
   "metadata": {
    "scrolled": true
   },
   "outputs": [],
   "source": [
    "# YT.loc[(YT.address == \"95 Lewes Boulevard, Y1A 3J4\") | (YT.address == \"22 Falcon Drive, Y1A 6C8\")]"
   ]
  },
  {
   "cell_type": "markdown",
   "id": "brief-conviction",
   "metadata": {},
   "source": [
    "### BC <a class=\"anchor\" id=\"bc\"></a>"
   ]
  },
  {
   "cell_type": "code",
   "execution_count": 31,
   "id": "signed-forestry",
   "metadata": {},
   "outputs": [],
   "source": [
    "BC.reset_index(inplace = True)\n",
    "BC.rename(columns = {\n",
    "    'FAC_PARTY_ID':'source_id',\n",
    "    'NAME':'name',\n",
    "    'PHONE':'phone',\n",
    "    'EMAIL':'email',\n",
    "    'WEBSITE':'website'\n",
    "}, inplace = True)"
   ]
  },
  {
   "cell_type": "code",
   "execution_count": 32,
   "id": "valid-discretion",
   "metadata": {},
   "outputs": [
    {
     "data": {
      "text/plain": [
       "True"
      ]
     },
     "execution_count": 32,
     "metadata": {},
     "output_type": "execute_result"
    }
   ],
   "source": [
    "# Check if source id is usable\n",
    "len(BC.source_id.unique()) == len(BC)"
   ]
  },
  {
   "cell_type": "code",
   "execution_count": 33,
   "id": "experienced-anatomy",
   "metadata": {},
   "outputs": [
    {
     "name": "stdout",
     "output_type": "stream",
     "text": [
      "All good.\n"
     ]
    }
   ],
   "source": [
    "precheck(BC, \"Province of British Columbia\", source_id = True)"
   ]
  },
  {
   "cell_type": "code",
   "execution_count": 34,
   "id": "double-steering",
   "metadata": {},
   "outputs": [
    {
     "name": "stdout",
     "output_type": "stream",
     "text": [
      "Filling data from Province of British Columbia\n",
      "All rows found.\n"
     ]
    }
   ],
   "source": [
    "fill_missing(BC, \"Province of British Columbia\", by = \"source_id\", phone = True, email = True)"
   ]
  },
  {
   "cell_type": "markdown",
   "id": "vital-separation",
   "metadata": {},
   "source": [
    "**Post-op check:**"
   ]
  },
  {
   "cell_type": "code",
   "execution_count": 35,
   "id": "swedish-pointer",
   "metadata": {
    "scrolled": true
   },
   "outputs": [],
   "source": [
    "# BC[['source_id', 'name', 'phone', 'email']].tail(10)"
   ]
  },
  {
   "cell_type": "code",
   "execution_count": 36,
   "id": "modified-cigarette",
   "metadata": {},
   "outputs": [],
   "source": [
    "# cc.loc[cc.provider == \"Province of British Columbia\"][['source_id', 'name', 'phone', 'email']].tail(10)"
   ]
  },
  {
   "cell_type": "markdown",
   "id": "basic-topic",
   "metadata": {},
   "source": [
    "### NL <a class = \"anchor\" id = \"nl\"></a>"
   ]
  },
  {
   "cell_type": "code",
   "execution_count": 37,
   "id": "governing-subject",
   "metadata": {
    "scrolled": true
   },
   "outputs": [],
   "source": [
    "NL.rename(columns = {\n",
    "    'Name':'name',\n",
    "    'Street Address':'address',\n",
    "    'Contact Name': 'contact'\n",
    "}, inplace = True)"
   ]
  },
  {
   "cell_type": "code",
   "execution_count": 38,
   "id": "competent-synthetic",
   "metadata": {},
   "outputs": [],
   "source": [
    "# Extract email from Contact column\n",
    "def get_email(x):\n",
    "    try:\n",
    "        temp = x.replace('Visit Centre Website', '')\n",
    "        return re.sub('\\(\\d{3}\\) \\d{3}\\-\\d{4}','', temp)\n",
    "        \n",
    "    except TypeError:\n",
    "        return None\n",
    "    \n",
    "NL['email'] = NL.Contact.map(get_email)"
   ]
  },
  {
   "cell_type": "code",
   "execution_count": 39,
   "id": "laughing-blond",
   "metadata": {},
   "outputs": [
    {
     "data": {
      "text/plain": [
       "True"
      ]
     },
     "execution_count": 39,
     "metadata": {},
     "output_type": "execute_result"
    }
   ],
   "source": [
    "len(NL.name.unique()) == len(NL)"
   ]
  },
  {
   "cell_type": "code",
   "execution_count": 40,
   "id": "revolutionary-massachusetts",
   "metadata": {},
   "outputs": [
    {
     "data": {
      "text/plain": [
       "False"
      ]
     },
     "execution_count": 40,
     "metadata": {},
     "output_type": "execute_result"
    }
   ],
   "source": [
    "len(NL.address.unique()) == len(NL)"
   ]
  },
  {
   "cell_type": "code",
   "execution_count": 41,
   "id": "southern-cooking",
   "metadata": {},
   "outputs": [
    {
     "name": "stdout",
     "output_type": "stream",
     "text": [
      "All good.\n"
     ]
    }
   ],
   "source": [
    "precheck(NL, \"Province of Newfoundland and Labrador\", name = True, address = True)"
   ]
  },
  {
   "cell_type": "code",
   "execution_count": 42,
   "id": "frequent-hunger",
   "metadata": {},
   "outputs": [
    {
     "name": "stdout",
     "output_type": "stream",
     "text": [
      "Filling data from Province of Newfoundland and Labrador\n",
      "All rows found.\n"
     ]
    }
   ],
   "source": [
    "fill_missing(NL, \"Province of Newfoundland and Labrador\", by = \"name\", phone = True, email = True, contact = True)"
   ]
  },
  {
   "cell_type": "markdown",
   "id": "particular-response",
   "metadata": {},
   "source": [
    "**Post op check:**"
   ]
  },
  {
   "cell_type": "code",
   "execution_count": 43,
   "id": "stuck-payday",
   "metadata": {
    "scrolled": true
   },
   "outputs": [],
   "source": [
    "# cc.loc[cc.provider == \"Province of Newfoundland and Labrador\"]"
   ]
  },
  {
   "cell_type": "code",
   "execution_count": 44,
   "id": "certain-replication",
   "metadata": {
    "scrolled": true
   },
   "outputs": [],
   "source": [
    "# NL"
   ]
  },
  {
   "cell_type": "code",
   "execution_count": 45,
   "id": "ceramic-cleaning",
   "metadata": {
    "scrolled": true
   },
   "outputs": [],
   "source": [
    "# NL.loc[NL.address.duplicated(keep = False)]"
   ]
  },
  {
   "cell_type": "code",
   "execution_count": 46,
   "id": "nasty-dealer",
   "metadata": {},
   "outputs": [],
   "source": [
    "# cc.loc[cc.source_full_address == \"45 St. Marks Avenue\"]"
   ]
  },
  {
   "cell_type": "markdown",
   "id": "distributed-delight",
   "metadata": {},
   "source": [
    "### PE  <a class=\"anchor\" id=\"pe\"></a>"
   ]
  },
  {
   "cell_type": "code",
   "execution_count": 47,
   "id": "complete-candy",
   "metadata": {},
   "outputs": [],
   "source": [
    "PE.rename(columns = {\n",
    "    'Name':'name',\n",
    "    'Address':'address',\n",
    "    'Contact Name':'contact',\n",
    "    'E-mail':'email',\n",
    "    'Phone':'phone'\n",
    "}, inplace = True)"
   ]
  },
  {
   "cell_type": "code",
   "execution_count": 48,
   "id": "miniature-answer",
   "metadata": {},
   "outputs": [
    {
     "name": "stdout",
     "output_type": "stream",
     "text": [
      "All good.\n"
     ]
    }
   ],
   "source": [
    "precheck(PE, \"Province of Prince Edward Island\", name = True, address = True)"
   ]
  },
  {
   "cell_type": "code",
   "execution_count": 49,
   "id": "musical-entity",
   "metadata": {},
   "outputs": [
    {
     "data": {
      "text/plain": [
       "True"
      ]
     },
     "execution_count": 49,
     "metadata": {},
     "output_type": "execute_result"
    }
   ],
   "source": [
    "len(PE.name.unique()) == len(PE)"
   ]
  },
  {
   "cell_type": "code",
   "execution_count": 50,
   "id": "intellectual-replacement",
   "metadata": {},
   "outputs": [
    {
     "data": {
      "text/plain": [
       "False"
      ]
     },
     "execution_count": 50,
     "metadata": {},
     "output_type": "execute_result"
    }
   ],
   "source": [
    "len(PE.address.unique()) == len(PE)"
   ]
  },
  {
   "cell_type": "code",
   "execution_count": 51,
   "id": "found-given",
   "metadata": {},
   "outputs": [
    {
     "name": "stdout",
     "output_type": "stream",
     "text": [
      "Filling data from Province of Prince Edward Island\n",
      "All rows found.\n"
     ]
    }
   ],
   "source": [
    "fill_missing(PE, \"Province of Prince Edward Island\", by = \"name & address\", phone = True, contact = True, email = True)"
   ]
  },
  {
   "cell_type": "markdown",
   "id": "accredited-interface",
   "metadata": {},
   "source": [
    "### NS <a class=\"anchor\" id=\"ns\"></a>"
   ]
  },
  {
   "cell_type": "code",
   "execution_count": 52,
   "id": "located-transaction",
   "metadata": {},
   "outputs": [
    {
     "data": {
      "text/plain": [
       "True"
      ]
     },
     "execution_count": 52,
     "metadata": {},
     "output_type": "execute_result"
    }
   ],
   "source": [
    "NS.reset_index(inplace=True)\n",
    "NS.rename(columns = {\n",
    "    'FACILITY_NAME':'name',\n",
    "    'FACILITY_IDENTIFIER':'source_id',\n",
    "    'ADDRESS':'address',\n",
    "    'PHONE 1':'phone',\n",
    "    'EMAIL 1':'email'\n",
    "}, inplace = True)\n",
    "\n",
    "# Check to use source id\n",
    "len(NS.source_id.unique()) == len(NS)"
   ]
  },
  {
   "cell_type": "code",
   "execution_count": 53,
   "id": "homeless-egypt",
   "metadata": {},
   "outputs": [
    {
     "name": "stdout",
     "output_type": "stream",
     "text": [
      "All good.\n"
     ]
    }
   ],
   "source": [
    "precheck(NS, \"Province of Nova Scotia\", source_id = True)"
   ]
  },
  {
   "cell_type": "code",
   "execution_count": 54,
   "id": "modified-tobacco",
   "metadata": {},
   "outputs": [
    {
     "data": {
      "text/plain": [
       "True"
      ]
     },
     "execution_count": 54,
     "metadata": {},
     "output_type": "execute_result"
    }
   ],
   "source": [
    "len(NS.source_id.unique()) == len(NS)"
   ]
  },
  {
   "cell_type": "code",
   "execution_count": 55,
   "id": "complimentary-civilian",
   "metadata": {},
   "outputs": [
    {
     "name": "stdout",
     "output_type": "stream",
     "text": [
      "Filling data from Province of Nova Scotia\n",
      "All rows found.\n"
     ]
    }
   ],
   "source": [
    "fill_missing(NS, \"Province of Nova Scotia\", by = 'source_id', email = True, phone = True)"
   ]
  },
  {
   "cell_type": "markdown",
   "id": "classical-christmas",
   "metadata": {},
   "source": [
    "**Post-op check:**"
   ]
  },
  {
   "cell_type": "code",
   "execution_count": 56,
   "id": "heavy-hometown",
   "metadata": {
    "scrolled": true
   },
   "outputs": [],
   "source": [
    "# cc.loc[cc.provider == \"Province of Nova Scotia\"]"
   ]
  },
  {
   "cell_type": "code",
   "execution_count": 57,
   "id": "governmental-polymer",
   "metadata": {
    "scrolled": true
   },
   "outputs": [],
   "source": [
    "# NS[['name', 'email', 'phone']]"
   ]
  },
  {
   "cell_type": "markdown",
   "id": "sporting-lender",
   "metadata": {},
   "source": [
    "\n",
    "### MB  <a class=\"anchor\" id=\"mb\"></a>"
   ]
  },
  {
   "cell_type": "code",
   "execution_count": 58,
   "id": "worth-supervisor",
   "metadata": {},
   "outputs": [],
   "source": [
    "MB.rename(columns = {\n",
    "    'Legal Name' : 'name',\n",
    "    'Phone' : 'phone',\n",
    "    'Address' : 'address',\n",
    "    'Facility Number' : 'source_id'\n",
    "}, \n",
    "          inplace = True)"
   ]
  },
  {
   "cell_type": "code",
   "execution_count": 59,
   "id": "peaceful-midwest",
   "metadata": {
    "scrolled": true
   },
   "outputs": [
    {
     "data": {
      "text/plain": [
       "True"
      ]
     },
     "execution_count": 59,
     "metadata": {},
     "output_type": "execute_result"
    }
   ],
   "source": [
    "# Deduplicate MB\n",
    "MB.drop_duplicates(inplace = True)\n",
    "MB.reset_index(inplace = True)\n",
    "\n",
    "len(MB) == len(cc.loc[cc.provider == \"Province of Manitoba\"])"
   ]
  },
  {
   "cell_type": "code",
   "execution_count": 60,
   "id": "color-green",
   "metadata": {},
   "outputs": [
    {
     "data": {
      "text/plain": [
       "False"
      ]
     },
     "execution_count": 60,
     "metadata": {},
     "output_type": "execute_result"
    }
   ],
   "source": [
    "len(MB.name.unique()) == len(MB)"
   ]
  },
  {
   "cell_type": "code",
   "execution_count": 61,
   "id": "particular-transport",
   "metadata": {},
   "outputs": [
    {
     "data": {
      "text/plain": [
       "False"
      ]
     },
     "execution_count": 61,
     "metadata": {},
     "output_type": "execute_result"
    }
   ],
   "source": [
    "len(MB.address.unique()) == len(MB)"
   ]
  },
  {
   "cell_type": "code",
   "execution_count": 62,
   "id": "fourth-nature",
   "metadata": {},
   "outputs": [
    {
     "data": {
      "text/plain": [
       "False"
      ]
     },
     "execution_count": 62,
     "metadata": {},
     "output_type": "execute_result"
    }
   ],
   "source": [
    "len(MB.source_id.unique()) == len(MB)"
   ]
  },
  {
   "cell_type": "code",
   "execution_count": 63,
   "id": "stock-offer",
   "metadata": {},
   "outputs": [],
   "source": [
    "# MB[MB.name.duplicated()]"
   ]
  },
  {
   "cell_type": "code",
   "execution_count": 64,
   "id": "standing-metropolitan",
   "metadata": {},
   "outputs": [],
   "source": [
    "# MB.loc[(MB.source_id == 100141) | (MB.source_id == 102146)]"
   ]
  },
  {
   "cell_type": "code",
   "execution_count": 65,
   "id": "finished-couple",
   "metadata": {},
   "outputs": [
    {
     "name": "stdout",
     "output_type": "stream",
     "text": [
      "All good.\n"
     ]
    }
   ],
   "source": [
    "# Clean name\n",
    "MB.name = MB.name.map(lambda x: x.replace('  ', ' '))\n",
    "MB.address = MB.address.map(lambda x: x.strip().replace('  ', ' ').replace('  ', ' '))\n",
    "precheck(MB, \"Province of Manitoba\", source_id = True, name = True, address = True)"
   ]
  },
  {
   "cell_type": "code",
   "execution_count": 66,
   "id": "constant-tomorrow",
   "metadata": {},
   "outputs": [],
   "source": [
    "# cc.loc[(cc.provider == \"Province of Manitoba\") & (cc.source_full_address.str.contains('20 Island Shore Blvd'))]"
   ]
  },
  {
   "cell_type": "code",
   "execution_count": 67,
   "id": "heated-allergy",
   "metadata": {
    "scrolled": true
   },
   "outputs": [
    {
     "name": "stdout",
     "output_type": "stream",
     "text": [
      "Filling data from Province of Manitoba\n",
      "All rows found.\n"
     ]
    }
   ],
   "source": [
    "fill_missing(MB, \"Province of Manitoba\", by = \"name & source_id & address\", phone = True)"
   ]
  },
  {
   "cell_type": "markdown",
   "id": "prime-drink",
   "metadata": {},
   "source": [
    "**Post-op Check:**"
   ]
  },
  {
   "cell_type": "code",
   "execution_count": 68,
   "id": "gross-language",
   "metadata": {
    "scrolled": true
   },
   "outputs": [],
   "source": [
    "# MB[['name', 'address', 'phone']]"
   ]
  },
  {
   "cell_type": "code",
   "execution_count": 69,
   "id": "animal-montana",
   "metadata": {
    "scrolled": true
   },
   "outputs": [],
   "source": [
    "# cc.loc[cc.provider == \"Province of Manitoba\"]#[['name', 'source_full_address', 'phone']]"
   ]
  },
  {
   "cell_type": "markdown",
   "id": "stable-editing",
   "metadata": {},
   "source": [
    "### SK <a class = \"anchor\" id=\"sk\"></a>"
   ]
  },
  {
   "cell_type": "code",
   "execution_count": 70,
   "id": "mineral-twelve",
   "metadata": {},
   "outputs": [
    {
     "data": {
      "text/plain": [
       "False"
      ]
     },
     "execution_count": 70,
     "metadata": {},
     "output_type": "execute_result"
    }
   ],
   "source": [
    "SK.rename(columns = {\n",
    "    'facility_name': 'name',\n",
    "    'full_address':'address'\n",
    "}, inplace = True)\n",
    "\n",
    "len(SK.address.unique()) == len(SK)"
   ]
  },
  {
   "cell_type": "code",
   "execution_count": 71,
   "id": "assigned-depression",
   "metadata": {},
   "outputs": [],
   "source": [
    "# 68\tSaskatoon Lutheran Early Learning Center incomplete phone number\n",
    "SK.loc[SK.address == \"502 - 5th Street North, Martensville, SK, S0K 2T0\", \"phone\"] = \"306-931-4633\""
   ]
  },
  {
   "cell_type": "code",
   "execution_count": 72,
   "id": "preceding-durham",
   "metadata": {},
   "outputs": [
    {
     "data": {
      "text/plain": [
       "False"
      ]
     },
     "execution_count": 72,
     "metadata": {},
     "output_type": "execute_result"
    }
   ],
   "source": [
    "len(SK.name.unique()) == len(SK)"
   ]
  },
  {
   "cell_type": "code",
   "execution_count": 73,
   "id": "adopted-strike",
   "metadata": {},
   "outputs": [],
   "source": [
    "# SK.address.sort_values().to_list()"
   ]
  },
  {
   "cell_type": "code",
   "execution_count": 74,
   "id": "silent-mercury",
   "metadata": {},
   "outputs": [],
   "source": [
    "# OK, samme address different phone extensions - CHECK IN FINAL - looks good\n",
    "# SK[SK.address == '1940 McIntyre Street, Regina, SK, S4P 2R3 (Downtown)']"
   ]
  },
  {
   "cell_type": "code",
   "execution_count": 75,
   "id": "actual-electric",
   "metadata": {
    "scrolled": true
   },
   "outputs": [
    {
     "name": "stdout",
     "output_type": "stream",
     "text": [
      "All good.\n"
     ]
    }
   ],
   "source": [
    "# Clean SK\n",
    "SK.name = SK.name.map(lambda x: x.replace('  ', ' '))\n",
    "SK.address = SK.address.map(lambda x: x.replace('  ', ' '))\n",
    "\n",
    "precheck(SK, \"Province of Saskatchewan\", name = True, address = True)"
   ]
  },
  {
   "cell_type": "code",
   "execution_count": 76,
   "id": "organized-panama",
   "metadata": {},
   "outputs": [
    {
     "name": "stdout",
     "output_type": "stream",
     "text": [
      "Filling data from Province of Saskatchewan\n",
      "All rows found.\n"
     ]
    }
   ],
   "source": [
    "fill_missing(SK, \"Province of Saskatchewan\", by = \"name & address\", phone = True)"
   ]
  },
  {
   "cell_type": "markdown",
   "id": "portuguese-latter",
   "metadata": {},
   "source": [
    "**Post-op Check:**"
   ]
  },
  {
   "cell_type": "code",
   "execution_count": 77,
   "id": "dress-organ",
   "metadata": {},
   "outputs": [],
   "source": [
    "# cc.loc[cc.name == \"Saskatoon Lutheran Early Learning Center\"]"
   ]
  },
  {
   "cell_type": "code",
   "execution_count": 78,
   "id": "formed-basket",
   "metadata": {
    "scrolled": true
   },
   "outputs": [],
   "source": [
    "# SK[['name', 'address', 'phone']]"
   ]
  },
  {
   "cell_type": "code",
   "execution_count": 79,
   "id": "social-brunswick",
   "metadata": {
    "scrolled": true
   },
   "outputs": [],
   "source": [
    "# cc.loc[(cc.provider == \"Province of Saskatchewan\")][['name', 'source_full_address', 'phone']]#.sort_values(by = \"name\")"
   ]
  },
  {
   "cell_type": "markdown",
   "id": "thermal-hierarchy",
   "metadata": {},
   "source": [
    "### AB <a class=\"anchor\" id=\"ab\"></a>"
   ]
  },
  {
   "cell_type": "code",
   "execution_count": 80,
   "id": "waiting-initial",
   "metadata": {},
   "outputs": [],
   "source": [
    "AB.rename(columns = {\n",
    "    'Program Name' : 'name',\n",
    "    'Program Address' : 'address',\n",
    "    'Pseudo ProgramID': 'source_id',\n",
    "    'Phone Number' : 'phone'\n",
    "                    }, inplace = True)"
   ]
  },
  {
   "cell_type": "code",
   "execution_count": 81,
   "id": "angry-arizona",
   "metadata": {},
   "outputs": [],
   "source": [
    "AB.drop_duplicates(inplace = True)\n",
    "AB.drop_duplicates(subset = ['source_id', 'name', 'address'], inplace = True)\n",
    "AB.reset_index(inplace = True)"
   ]
  },
  {
   "cell_type": "code",
   "execution_count": 82,
   "id": "searching-joining",
   "metadata": {},
   "outputs": [
    {
     "data": {
      "text/plain": [
       "False"
      ]
     },
     "execution_count": 82,
     "metadata": {},
     "output_type": "execute_result"
    }
   ],
   "source": [
    "len(AB.name.unique()) == len(AB)"
   ]
  },
  {
   "cell_type": "code",
   "execution_count": 83,
   "id": "clean-oxide",
   "metadata": {},
   "outputs": [
    {
     "data": {
      "text/plain": [
       "False"
      ]
     },
     "execution_count": 83,
     "metadata": {},
     "output_type": "execute_result"
    }
   ],
   "source": [
    "len(AB.address.unique()) == len(AB)"
   ]
  },
  {
   "cell_type": "code",
   "execution_count": 84,
   "id": "absent-applicant",
   "metadata": {},
   "outputs": [
    {
     "data": {
      "text/plain": [
       "True"
      ]
     },
     "execution_count": 84,
     "metadata": {},
     "output_type": "execute_result"
    }
   ],
   "source": [
    "len(AB.source_id.unique()) == len(AB)"
   ]
  },
  {
   "cell_type": "code",
   "execution_count": 85,
   "id": "casual-alloy",
   "metadata": {
    "scrolled": true
   },
   "outputs": [
    {
     "name": "stdout",
     "output_type": "stream",
     "text": [
      "All good.\n"
     ]
    }
   ],
   "source": [
    "# Name cleaning\n",
    "AB.name = AB.name.map(lambda x: x.replace('  ', ' '))\n",
    "AB.address = AB.address.map(lambda x: x.replace('  ', ' '))\n",
    "\n",
    "\n",
    "precheck(AB, \"Province of Alberta\", name = True, address = True, source_id = True)"
   ]
  },
  {
   "cell_type": "code",
   "execution_count": 86,
   "id": "graphic-student",
   "metadata": {},
   "outputs": [
    {
     "name": "stdout",
     "output_type": "stream",
     "text": [
      "Filling data from Province of Alberta\n",
      "All rows found.\n"
     ]
    }
   ],
   "source": [
    "fill_missing(AB, \"Province of Alberta\", by = \"source_id\", phone = True)"
   ]
  },
  {
   "cell_type": "markdown",
   "id": "liable-hawaiian",
   "metadata": {},
   "source": [
    "**Post-op check:**"
   ]
  },
  {
   "cell_type": "code",
   "execution_count": 87,
   "id": "regulated-version",
   "metadata": {},
   "outputs": [
    {
     "data": {
      "text/html": [
       "<div>\n",
       "<style scoped>\n",
       "    .dataframe tbody tr th:only-of-type {\n",
       "        vertical-align: middle;\n",
       "    }\n",
       "\n",
       "    .dataframe tbody tr th {\n",
       "        vertical-align: top;\n",
       "    }\n",
       "\n",
       "    .dataframe thead th {\n",
       "        text-align: right;\n",
       "    }\n",
       "</style>\n",
       "<table border=\"1\" class=\"dataframe\">\n",
       "  <thead>\n",
       "    <tr style=\"text-align: right;\">\n",
       "      <th></th>\n",
       "      <th>source_id</th>\n",
       "      <th>Type of program</th>\n",
       "      <th>name</th>\n",
       "      <th>address</th>\n",
       "      <th>phone</th>\n",
       "    </tr>\n",
       "  </thead>\n",
       "  <tbody>\n",
       "    <tr>\n",
       "      <th>2908</th>\n",
       "      <td>180F60691DCF55197DAE21618FAA6F6F</td>\n",
       "      <td>DAY CARE PROGRAM</td>\n",
       "      <td>SUCKER CREEK FIRST NATION DAYCARE</td>\n",
       "      <td>UNIT 2009; BLK 2000 SE-18-74-14-5</td>\n",
       "      <td>7805232969</td>\n",
       "    </tr>\n",
       "    <tr>\n",
       "      <th>2909</th>\n",
       "      <td>8A5642A0DBA99868C88AD74B3842FE64</td>\n",
       "      <td>DAY CARE PROGRAM</td>\n",
       "      <td>CLEVER CUBS PRESCHOOL ACADEMY INC.</td>\n",
       "      <td>UNIT 205, 35 CRANFORD WAY SE</td>\n",
       "      <td>4038501939</td>\n",
       "    </tr>\n",
       "    <tr>\n",
       "      <th>2910</th>\n",
       "      <td>BA5DA2371FDB54FA99E6DC23D332A315</td>\n",
       "      <td>DAY CARE PROGRAM</td>\n",
       "      <td>GLOBAL KIDS II</td>\n",
       "      <td>UNIT 170, 7212 MACLEOD TRAIL SE</td>\n",
       "      <td>4034785922</td>\n",
       "    </tr>\n",
       "    <tr>\n",
       "      <th>2911</th>\n",
       "      <td>0381BFAED077653EF485AE5AE4B3E444</td>\n",
       "      <td>DAY CARE PROGRAM</td>\n",
       "      <td>MOSAIC MONTESSORI PARKDALE</td>\n",
       "      <td>3512 - 5 AVENUE NW</td>\n",
       "      <td>4039849090</td>\n",
       "    </tr>\n",
       "    <tr>\n",
       "      <th>2912</th>\n",
       "      <td>D7E8BD6C99C01ABC34162F8DA374ABCB</td>\n",
       "      <td>OUT OF SCHOOL CARE PROGRAM</td>\n",
       "      <td>MINI TREASURES OUT OF SCHOOL CARE</td>\n",
       "      <td>310-500 TIMBERLANDS DRIVE</td>\n",
       "      <td>5872733499</td>\n",
       "    </tr>\n",
       "    <tr>\n",
       "      <th>2913</th>\n",
       "      <td>F78B6BE2223082D198D73A5B2A6171F3</td>\n",
       "      <td>DAY CARE PROGRAM</td>\n",
       "      <td>MINI TREASURES DAYCARE</td>\n",
       "      <td>310-500 TIMBERLANDS DRIVE</td>\n",
       "      <td>5872733499</td>\n",
       "    </tr>\n",
       "    <tr>\n",
       "      <th>2914</th>\n",
       "      <td>D08B691412B0558E1799A67F1575B5F5</td>\n",
       "      <td>DAY CARE PROGRAM</td>\n",
       "      <td>BUTTERFLY KISSES EARLY LEARNING CENTRE</td>\n",
       "      <td>5019 53 STREET</td>\n",
       "      <td>7807098682</td>\n",
       "    </tr>\n",
       "    <tr>\n",
       "      <th>2915</th>\n",
       "      <td>9E48CFB7FC5B3634E3441573CCFDCDD7</td>\n",
       "      <td>DAY CARE PROGRAM</td>\n",
       "      <td>ORDER TO REMEDY POSTPONED, ORDER TO REMEDY POS...</td>\n",
       "      <td>14804 78 STREET</td>\n",
       "      <td>7807099434</td>\n",
       "    </tr>\n",
       "    <tr>\n",
       "      <th>2916</th>\n",
       "      <td>3B78F6A7105008DFF4F6E12A7BA68583</td>\n",
       "      <td>OUT OF SCHOOL CARE PROGRAM</td>\n",
       "      <td>KEPLER ACADEMY EARLY LEARNING AND CHILDCARE OS...</td>\n",
       "      <td>#511, 11 WESTWIND DRIVE</td>\n",
       "      <td>5879208936</td>\n",
       "    </tr>\n",
       "    <tr>\n",
       "      <th>2917</th>\n",
       "      <td>F546433A786E8F9BB966BC679E4DC771</td>\n",
       "      <td>DAY CARE PROGRAM</td>\n",
       "      <td>KEPLER ACADEMY EARLY LEARNING AND CHILDCARE WE...</td>\n",
       "      <td>#511, 11 WESTWIND DRIVE</td>\n",
       "      <td>5879208936</td>\n",
       "    </tr>\n",
       "  </tbody>\n",
       "</table>\n",
       "</div>"
      ],
      "text/plain": [
       "                             source_id             Type of program  \\\n",
       "2908  180F60691DCF55197DAE21618FAA6F6F            DAY CARE PROGRAM   \n",
       "2909  8A5642A0DBA99868C88AD74B3842FE64            DAY CARE PROGRAM   \n",
       "2910  BA5DA2371FDB54FA99E6DC23D332A315            DAY CARE PROGRAM   \n",
       "2911  0381BFAED077653EF485AE5AE4B3E444            DAY CARE PROGRAM   \n",
       "2912  D7E8BD6C99C01ABC34162F8DA374ABCB  OUT OF SCHOOL CARE PROGRAM   \n",
       "2913  F78B6BE2223082D198D73A5B2A6171F3            DAY CARE PROGRAM   \n",
       "2914  D08B691412B0558E1799A67F1575B5F5            DAY CARE PROGRAM   \n",
       "2915  9E48CFB7FC5B3634E3441573CCFDCDD7            DAY CARE PROGRAM   \n",
       "2916  3B78F6A7105008DFF4F6E12A7BA68583  OUT OF SCHOOL CARE PROGRAM   \n",
       "2917  F546433A786E8F9BB966BC679E4DC771            DAY CARE PROGRAM   \n",
       "\n",
       "                                                   name  \\\n",
       "2908                  SUCKER CREEK FIRST NATION DAYCARE   \n",
       "2909                 CLEVER CUBS PRESCHOOL ACADEMY INC.   \n",
       "2910                                     GLOBAL KIDS II   \n",
       "2911                         MOSAIC MONTESSORI PARKDALE   \n",
       "2912                  MINI TREASURES OUT OF SCHOOL CARE   \n",
       "2913                             MINI TREASURES DAYCARE   \n",
       "2914             BUTTERFLY KISSES EARLY LEARNING CENTRE   \n",
       "2915  ORDER TO REMEDY POSTPONED, ORDER TO REMEDY POS...   \n",
       "2916  KEPLER ACADEMY EARLY LEARNING AND CHILDCARE OS...   \n",
       "2917  KEPLER ACADEMY EARLY LEARNING AND CHILDCARE WE...   \n",
       "\n",
       "                                address       phone  \n",
       "2908  UNIT 2009; BLK 2000 SE-18-74-14-5  7805232969  \n",
       "2909       UNIT 205, 35 CRANFORD WAY SE  4038501939  \n",
       "2910    UNIT 170, 7212 MACLEOD TRAIL SE  4034785922  \n",
       "2911                 3512 - 5 AVENUE NW  4039849090  \n",
       "2912          310-500 TIMBERLANDS DRIVE  5872733499  \n",
       "2913          310-500 TIMBERLANDS DRIVE  5872733499  \n",
       "2914                     5019 53 STREET  7807098682  \n",
       "2915                    14804 78 STREET  7807099434  \n",
       "2916            #511, 11 WESTWIND DRIVE  5879208936  \n",
       "2917            #511, 11 WESTWIND DRIVE  5879208936  "
      ]
     },
     "execution_count": 87,
     "metadata": {},
     "output_type": "execute_result"
    }
   ],
   "source": [
    "AB[['source_id', 'Type of program', 'name', 'address', 'phone']].tail(10)"
   ]
  },
  {
   "cell_type": "code",
   "execution_count": 88,
   "id": "different-professional",
   "metadata": {
    "scrolled": true
   },
   "outputs": [
    {
     "data": {
      "text/html": [
       "<div>\n",
       "<style scoped>\n",
       "    .dataframe tbody tr th:only-of-type {\n",
       "        vertical-align: middle;\n",
       "    }\n",
       "\n",
       "    .dataframe tbody tr th {\n",
       "        vertical-align: top;\n",
       "    }\n",
       "\n",
       "    .dataframe thead th {\n",
       "        text-align: right;\n",
       "    }\n",
       "</style>\n",
       "<table border=\"1\" class=\"dataframe\">\n",
       "  <thead>\n",
       "    <tr style=\"text-align: right;\">\n",
       "      <th></th>\n",
       "      <th>source_id</th>\n",
       "      <th>source_facility_type</th>\n",
       "      <th>name</th>\n",
       "      <th>source_full_address</th>\n",
       "      <th>phone</th>\n",
       "    </tr>\n",
       "    <tr>\n",
       "      <th>id</th>\n",
       "      <th></th>\n",
       "      <th></th>\n",
       "      <th></th>\n",
       "      <th></th>\n",
       "      <th></th>\n",
       "    </tr>\n",
       "  </thead>\n",
       "  <tbody>\n",
       "    <tr>\n",
       "      <th>3863</th>\n",
       "      <td>180F60691DCF55197DAE21618FAA6F6F</td>\n",
       "      <td>DAY CARE PROGRAM</td>\n",
       "      <td>SUCKER CREEK FIRST NATION DAYCARE</td>\n",
       "      <td>UNIT 2009; BLK 2000 SE-18-74-14-5</td>\n",
       "      <td>7805232969</td>\n",
       "    </tr>\n",
       "    <tr>\n",
       "      <th>3864</th>\n",
       "      <td>8A5642A0DBA99868C88AD74B3842FE64</td>\n",
       "      <td>DAY CARE PROGRAM</td>\n",
       "      <td>CLEVER CUBS PRESCHOOL ACADEMY INC.</td>\n",
       "      <td>UNIT 205, 35 CRANFORD WAY SE</td>\n",
       "      <td>4038501939</td>\n",
       "    </tr>\n",
       "    <tr>\n",
       "      <th>3865</th>\n",
       "      <td>BA5DA2371FDB54FA99E6DC23D332A315</td>\n",
       "      <td>DAY CARE PROGRAM</td>\n",
       "      <td>GLOBAL KIDS II</td>\n",
       "      <td>UNIT 170, 7212 MACLEOD TRAIL SE</td>\n",
       "      <td>4034785922</td>\n",
       "    </tr>\n",
       "    <tr>\n",
       "      <th>3866</th>\n",
       "      <td>0381BFAED077653EF485AE5AE4B3E444</td>\n",
       "      <td>DAY CARE PROGRAM</td>\n",
       "      <td>MOSAIC MONTESSORI PARKDALE</td>\n",
       "      <td>3512 - 5 AVENUE NW</td>\n",
       "      <td>4039849090</td>\n",
       "    </tr>\n",
       "    <tr>\n",
       "      <th>3867</th>\n",
       "      <td>D7E8BD6C99C01ABC34162F8DA374ABCB</td>\n",
       "      <td>OUT OF SCHOOL CARE PROGRAM</td>\n",
       "      <td>MINI TREASURES OUT OF SCHOOL CARE</td>\n",
       "      <td>310-500 TIMBERLANDS DRIVE</td>\n",
       "      <td>5872733499</td>\n",
       "    </tr>\n",
       "    <tr>\n",
       "      <th>3868</th>\n",
       "      <td>F78B6BE2223082D198D73A5B2A6171F3</td>\n",
       "      <td>DAY CARE PROGRAM</td>\n",
       "      <td>MINI TREASURES DAYCARE</td>\n",
       "      <td>310-500 TIMBERLANDS DRIVE</td>\n",
       "      <td>5872733499</td>\n",
       "    </tr>\n",
       "    <tr>\n",
       "      <th>3869</th>\n",
       "      <td>D08B691412B0558E1799A67F1575B5F5</td>\n",
       "      <td>DAY CARE PROGRAM</td>\n",
       "      <td>BUTTERFLY KISSES EARLY LEARNING CENTRE</td>\n",
       "      <td>5019 53 STREET</td>\n",
       "      <td>7807098682</td>\n",
       "    </tr>\n",
       "    <tr>\n",
       "      <th>3870</th>\n",
       "      <td>9E48CFB7FC5B3634E3441573CCFDCDD7</td>\n",
       "      <td>DAY CARE PROGRAM</td>\n",
       "      <td>ORDER TO REMEDY POSTPONED, ORDER TO REMEDY POS...</td>\n",
       "      <td>14804 78 STREET</td>\n",
       "      <td>7807099434</td>\n",
       "    </tr>\n",
       "    <tr>\n",
       "      <th>3871</th>\n",
       "      <td>3B78F6A7105008DFF4F6E12A7BA68583</td>\n",
       "      <td>OUT OF SCHOOL CARE PROGRAM</td>\n",
       "      <td>KEPLER ACADEMY EARLY LEARNING AND CHILDCARE OS...</td>\n",
       "      <td>#511, 11 WESTWIND DRIVE</td>\n",
       "      <td>5879208936</td>\n",
       "    </tr>\n",
       "    <tr>\n",
       "      <th>3872</th>\n",
       "      <td>F546433A786E8F9BB966BC679E4DC771</td>\n",
       "      <td>DAY CARE PROGRAM</td>\n",
       "      <td>KEPLER ACADEMY EARLY LEARNING AND CHILDCARE WE...</td>\n",
       "      <td>#511, 11 WESTWIND DRIVE</td>\n",
       "      <td>5879208936</td>\n",
       "    </tr>\n",
       "  </tbody>\n",
       "</table>\n",
       "</div>"
      ],
      "text/plain": [
       "                             source_id        source_facility_type  \\\n",
       "id                                                                   \n",
       "3863  180F60691DCF55197DAE21618FAA6F6F            DAY CARE PROGRAM   \n",
       "3864  8A5642A0DBA99868C88AD74B3842FE64            DAY CARE PROGRAM   \n",
       "3865  BA5DA2371FDB54FA99E6DC23D332A315            DAY CARE PROGRAM   \n",
       "3866  0381BFAED077653EF485AE5AE4B3E444            DAY CARE PROGRAM   \n",
       "3867  D7E8BD6C99C01ABC34162F8DA374ABCB  OUT OF SCHOOL CARE PROGRAM   \n",
       "3868  F78B6BE2223082D198D73A5B2A6171F3            DAY CARE PROGRAM   \n",
       "3869  D08B691412B0558E1799A67F1575B5F5            DAY CARE PROGRAM   \n",
       "3870  9E48CFB7FC5B3634E3441573CCFDCDD7            DAY CARE PROGRAM   \n",
       "3871  3B78F6A7105008DFF4F6E12A7BA68583  OUT OF SCHOOL CARE PROGRAM   \n",
       "3872  F546433A786E8F9BB966BC679E4DC771            DAY CARE PROGRAM   \n",
       "\n",
       "                                                   name  \\\n",
       "id                                                        \n",
       "3863                  SUCKER CREEK FIRST NATION DAYCARE   \n",
       "3864                 CLEVER CUBS PRESCHOOL ACADEMY INC.   \n",
       "3865                                     GLOBAL KIDS II   \n",
       "3866                         MOSAIC MONTESSORI PARKDALE   \n",
       "3867                  MINI TREASURES OUT OF SCHOOL CARE   \n",
       "3868                             MINI TREASURES DAYCARE   \n",
       "3869             BUTTERFLY KISSES EARLY LEARNING CENTRE   \n",
       "3870  ORDER TO REMEDY POSTPONED, ORDER TO REMEDY POS...   \n",
       "3871  KEPLER ACADEMY EARLY LEARNING AND CHILDCARE OS...   \n",
       "3872  KEPLER ACADEMY EARLY LEARNING AND CHILDCARE WE...   \n",
       "\n",
       "                    source_full_address       phone  \n",
       "id                                                   \n",
       "3863  UNIT 2009; BLK 2000 SE-18-74-14-5  7805232969  \n",
       "3864       UNIT 205, 35 CRANFORD WAY SE  4038501939  \n",
       "3865    UNIT 170, 7212 MACLEOD TRAIL SE  4034785922  \n",
       "3866                 3512 - 5 AVENUE NW  4039849090  \n",
       "3867          310-500 TIMBERLANDS DRIVE  5872733499  \n",
       "3868          310-500 TIMBERLANDS DRIVE  5872733499  \n",
       "3869                     5019 53 STREET  7807098682  \n",
       "3870                    14804 78 STREET  7807099434  \n",
       "3871            #511, 11 WESTWIND DRIVE  5879208936  \n",
       "3872            #511, 11 WESTWIND DRIVE  5879208936  "
      ]
     },
     "execution_count": 88,
     "metadata": {},
     "output_type": "execute_result"
    }
   ],
   "source": [
    "cc.loc[cc.provider == \"Province of Alberta\"][['source_id', 'source_facility_type', 'name', 'source_full_address', 'phone']].tail(10)"
   ]
  },
  {
   "cell_type": "markdown",
   "id": "relative-revision",
   "metadata": {},
   "source": [
    "### QC <a class=\"anchor\" id=\"qc\"></a>"
   ]
  },
  {
   "cell_type": "code",
   "execution_count": 89,
   "id": "recognized-issue",
   "metadata": {},
   "outputs": [],
   "source": [
    "QC.rename(columns = {'Nom de l\\'installation' : 'name',\n",
    "                     'Adresse' : 'address',\n",
    "                     'Téléphone': 'phone',\n",
    "                     'Adresse courriel' : 'email',\n",
    "                     'Télécopieur' : 'fax'\n",
    "                    }, inplace = True)"
   ]
  },
  {
   "cell_type": "code",
   "execution_count": 90,
   "id": "animal-wheel",
   "metadata": {
    "scrolled": true
   },
   "outputs": [],
   "source": [
    "QC.drop_duplicates(inplace = True)"
   ]
  },
  {
   "cell_type": "code",
   "execution_count": 91,
   "id": "unlike-sussex",
   "metadata": {},
   "outputs": [
    {
     "data": {
      "text/plain": [
       "3573"
      ]
     },
     "execution_count": 91,
     "metadata": {},
     "output_type": "execute_result"
    }
   ],
   "source": [
    "len(cc.loc[cc.provider == \"Province of Québec\"])"
   ]
  },
  {
   "cell_type": "code",
   "execution_count": 92,
   "id": "separated-wonder",
   "metadata": {},
   "outputs": [
    {
     "data": {
      "text/plain": [
       "3576"
      ]
     },
     "execution_count": 92,
     "metadata": {},
     "output_type": "execute_result"
    }
   ],
   "source": [
    "len(QC)"
   ]
  },
  {
   "cell_type": "code",
   "execution_count": 93,
   "id": "ignored-contest",
   "metadata": {},
   "outputs": [
    {
     "data": {
      "text/plain": [
       "False"
      ]
     },
     "execution_count": 93,
     "metadata": {},
     "output_type": "execute_result"
    }
   ],
   "source": [
    "len(QC.name.unique()) == len(QC)"
   ]
  },
  {
   "cell_type": "code",
   "execution_count": 94,
   "id": "interested-treaty",
   "metadata": {},
   "outputs": [
    {
     "data": {
      "text/plain": [
       "False"
      ]
     },
     "execution_count": 94,
     "metadata": {},
     "output_type": "execute_result"
    }
   ],
   "source": [
    "len(QC.address.unique()) == len(QC)"
   ]
  },
  {
   "cell_type": "code",
   "execution_count": 95,
   "id": "formed-gross",
   "metadata": {
    "scrolled": true
   },
   "outputs": [
    {
     "name": "stdout",
     "output_type": "stream",
     "text": [
      "All good.\n"
     ]
    }
   ],
   "source": [
    "# Name cleaning\n",
    "QC.name = QC.name.map(lambda x: x.strip().replace('  ', ' '))\n",
    "QC.address = QC.address.map(lambda x: x.strip().replace('  ', ' ').replace('  ', ' ').replace('  ', ' '))\n",
    "\n",
    "\n",
    "# Check\n",
    "precheck(QC, \"Province of Québec\", name = True, address = True)"
   ]
  },
  {
   "cell_type": "code",
   "execution_count": 96,
   "id": "generous-final",
   "metadata": {},
   "outputs": [
    {
     "name": "stdout",
     "output_type": "stream",
     "text": [
      "Filling data from Province of Québec\n",
      "All rows found.\n"
     ]
    }
   ],
   "source": [
    "# Operation\n",
    "fill_missing(QC, \"Province of Québec\", by = \"name & address\", phone = True, email = True)"
   ]
  },
  {
   "cell_type": "code",
   "execution_count": 151,
   "id": "above-failing",
   "metadata": {},
   "outputs": [],
   "source": [
    "# QC[['name', 'address', 'phone', 'email']].head(15)"
   ]
  },
  {
   "cell_type": "code",
   "execution_count": 150,
   "id": "experienced-detector",
   "metadata": {},
   "outputs": [],
   "source": [
    "# cc.loc[cc.provider == \"Province of Québec\"][['name', 'source_full_address', 'phone', 'email']].head(15)"
   ]
  },
  {
   "cell_type": "markdown",
   "id": "integral-supervisor",
   "metadata": {},
   "source": [
    "----\n",
    "## Verify Counts <a anchor=\"href\" id=\"verify\"></a>"
   ]
  },
  {
   "cell_type": "code",
   "execution_count": 120,
   "id": "durable-johnson",
   "metadata": {},
   "outputs": [],
   "source": [
    "locations = [NT, NU, YT, PE, NS, NB, NL, QC, ON,MB,SK,AB,BC]\n",
    "null_phone = []\n",
    "null_contact = []\n",
    "null_email = []\n",
    "\n",
    "for l in locations:\n",
    "    try:\n",
    "        null_phone.append(len(l.loc[l.phone.isnull()]))\n",
    "    except AttributeError:\n",
    "        null_phone.append(len(l))\n",
    "        \n",
    "for l in locations:\n",
    "    try:\n",
    "        null_contact.append(len(l.loc[l.contact.isnull()]))\n",
    "    except AttributeError:\n",
    "        null_contact.append(len(l))\n",
    "        \n",
    "for l in locations:\n",
    "    try:\n",
    "        null_email.append(len(l.loc[l.email.isnull()]))\n",
    "    except AttributeError:\n",
    "        null_email.append(len(l))"
   ]
  },
  {
   "cell_type": "code",
   "execution_count": 121,
   "id": "alternate-introduction",
   "metadata": {},
   "outputs": [
    {
     "data": {
      "text/plain": [
       "21505"
      ]
     },
     "execution_count": 121,
     "metadata": {},
     "output_type": "execute_result"
    }
   ],
   "source": [
    "len(cc.loc[cc.contact.isnull() & (cc.provider != \"GoDayCare.com\")])"
   ]
  },
  {
   "cell_type": "code",
   "execution_count": 122,
   "id": "lined-harris",
   "metadata": {},
   "outputs": [
    {
     "data": {
      "text/plain": [
       "21513"
      ]
     },
     "execution_count": 122,
     "metadata": {},
     "output_type": "execute_result"
    }
   ],
   "source": [
    "sum(null_contact)\n",
    "# 8 less nulls in cc"
   ]
  },
  {
   "cell_type": "code",
   "execution_count": 135,
   "id": "expressed-gasoline",
   "metadata": {},
   "outputs": [
    {
     "data": {
      "text/plain": [
       "7173"
      ]
     },
     "execution_count": 135,
     "metadata": {},
     "output_type": "execute_result"
    }
   ],
   "source": [
    "len(cc.loc[cc.phone.isnull() & (cc.provider != \"GoDayCare.com\")])"
   ]
  },
  {
   "cell_type": "code",
   "execution_count": 134,
   "id": "fifth-pizza",
   "metadata": {},
   "outputs": [
    {
     "data": {
      "text/plain": [
       "7175"
      ]
     },
     "execution_count": 134,
     "metadata": {},
     "output_type": "execute_result"
    }
   ],
   "source": [
    "sum(null_phone)\n",
    "# 2 less in cc"
   ]
  },
  {
   "cell_type": "code",
   "execution_count": 125,
   "id": "simple-premium",
   "metadata": {},
   "outputs": [
    {
     "data": {
      "text/plain": [
       "12999"
      ]
     },
     "execution_count": 125,
     "metadata": {},
     "output_type": "execute_result"
    }
   ],
   "source": [
    "len(cc.loc[cc.email.isnull() & (cc.provider != \"GoDayCare.com\")])"
   ]
  },
  {
   "cell_type": "code",
   "execution_count": 126,
   "id": "quarterly-student",
   "metadata": {},
   "outputs": [
    {
     "data": {
      "text/plain": [
       "13003"
      ]
     },
     "execution_count": 126,
     "metadata": {},
     "output_type": "execute_result"
    }
   ],
   "source": [
    "sum(null_email)\n",
    "# 4 less nulls in cc"
   ]
  },
  {
   "cell_type": "markdown",
   "id": "stylish-respondent",
   "metadata": {},
   "source": [
    "**1:** Determine which providers dont match the number of missing vals in the final df:"
   ]
  },
  {
   "cell_type": "code",
   "execution_count": 107,
   "id": "desperate-polish",
   "metadata": {},
   "outputs": [],
   "source": [
    "provs = cc.loc[(cc.phone.isnull()) & (cc.provider != \"GoDayCare.com\") & (cc.provider != \"Province of Ontario\")].provider.unique().tolist()\n",
    "\n",
    "provider_dict = {\n",
    "    'Northwest Territories' : NT,\n",
    "    'Province of New Brunswick' : NB,\n",
    "    'Province of Manitoba' : MB,\n",
    "    'Province of Québec' : QC,\n",
    "    'Province of Nova Scotia' : NS,\n",
    "    'Province of British Columbia': BC,\n",
    "    'Nunavut':NU,\n",
    "    'Province of Newfoundland and Labrador': NL\n",
    "                }\n"
   ]
  },
  {
   "cell_type": "code",
   "execution_count": 131,
   "id": "relevant-bidder",
   "metadata": {},
   "outputs": [
    {
     "name": "stdout",
     "output_type": "stream",
     "text": [
      "Northwest Territories\n",
      "True\n",
      "Province of New Brunswick\n",
      "True\n",
      "Province of Manitoba\n",
      "True\n",
      "Province of Québec\n",
      "False\n",
      "Province of Nova Scotia\n",
      "True\n",
      "Province of British Columbia\n",
      "True\n"
     ]
    }
   ],
   "source": [
    "NB['phone'] = NB.address.map(get_phone).to_list()\n",
    "\n",
    "for p in provs:\n",
    "    print(p)\n",
    "    df = provider_dict[p]\n",
    "    print(len(cc.loc[(cc.phone.isnull()) & (cc.provider == p)]) == len(df.loc[df.phone.isnull()]))"
   ]
  },
  {
   "cell_type": "code",
   "execution_count": 132,
   "id": "joint-puzzle",
   "metadata": {},
   "outputs": [
    {
     "data": {
      "text/plain": [
       "104"
      ]
     },
     "execution_count": 132,
     "metadata": {},
     "output_type": "execute_result"
    }
   ],
   "source": [
    "len(QC.loc[QC.phone.isnull()])"
   ]
  },
  {
   "cell_type": "code",
   "execution_count": 133,
   "id": "mechanical-battery",
   "metadata": {},
   "outputs": [
    {
     "data": {
      "text/plain": [
       "105"
      ]
     },
     "execution_count": 133,
     "metadata": {},
     "output_type": "execute_result"
    }
   ],
   "source": [
    "len(cc.loc[(cc.phone.isnull()) & (cc.provider == \"Province of Québec\")])"
   ]
  },
  {
   "cell_type": "markdown",
   "id": "secure-exploration",
   "metadata": {},
   "source": [
    "Correction where address and name are the same in MB"
   ]
  },
  {
   "cell_type": "code",
   "execution_count": 111,
   "id": "balanced-account",
   "metadata": {},
   "outputs": [],
   "source": [
    "# correction where address and name are the same\n",
    "cc.at[(cc.phone.isnull()) & (cc.provider == \"Province of Manitoba\"), 'phone'] = \"(204) 586-9625\"\n",
    "cc.at[4539, \"phone\"] = \"(204) 228-5963\""
   ]
  },
  {
   "cell_type": "markdown",
   "id": "aware-houston",
   "metadata": {},
   "source": [
    "Manual forward-fill of phones and emails missing in QC duplicates"
   ]
  },
  {
   "cell_type": "code",
   "execution_count": 112,
   "id": "desirable-coordinate",
   "metadata": {
    "scrolled": false
   },
   "outputs": [
    {
     "name": "stdout",
     "output_type": "stream",
     "text": [
      "400, 3e Rue Fraser\n",
      "418, rue Rouer\n",
      "55, rue Principale\n",
      "20, rue des Coquillages\n",
      "795, rue Commerciale Nord\n",
      "860, boulevard Raymond\n",
      "2600, rue du Collège\n",
      "2890, rue Notre-Dame\n",
      "1945, rue Mullins, bureau 180\n",
      "8055, rue Collerette\n",
      "1200, route des Rivières\n",
      "220, rue Saint-Marc\n"
     ]
    }
   ],
   "source": [
    "idx = [5031, 5033, 5035, 5036, 5038, 5193, 5569, 5733, 5920, 6710, 7130, 7811]\n",
    "# cc.loc[(cc.phone.isnull()) & (cc.provider == \"Province of Québec\")].name.isin(QC.loc[QC.phone.isnull()].name)\n",
    "\n",
    "for cca in cc.iloc[idx].source_full_address:\n",
    "    try:\n",
    "        print(cca)\n",
    "        # forward-fill phone by hand\n",
    "        phone_temp=cc.loc[(cc.source_full_address == cca) & (cc.phone.notnull())].phone.tolist()[0]\n",
    "        idxp = cc.loc[(cc.source_full_address == cca) & (cc.phone.isnull())].index.tolist()\n",
    "        cc.at[idxp[0], 'phone'] = phone_temp\n",
    "\n",
    "        # forward-fill email by hand\n",
    "        email_temp=cc.loc[(cc.source_full_address == cca) & (cc.email.notnull())].email.tolist()[0]\n",
    "        idxe = cc.loc[(cc.source_full_address == cca) & (cc.email.isnull())].index.tolist()\n",
    "        cc.at[idxe[0], 'email'] = email_temp\n",
    "    except IndexError:\n",
    "        pass"
   ]
  },
  {
   "cell_type": "code",
   "execution_count": 113,
   "id": "overhead-pharmacy",
   "metadata": {},
   "outputs": [],
   "source": [
    "# cc.loc[(cc.source_full_address == cca) & (cc.email.notnull())].email.tolist()[0]"
   ]
  },
  {
   "cell_type": "code",
   "execution_count": 114,
   "id": "neither-excerpt",
   "metadata": {},
   "outputs": [],
   "source": [
    "# cc.loc[(cc.source_full_address == cca) & (cc.phone.notnull())]"
   ]
  },
  {
   "cell_type": "markdown",
   "id": "intended-theater",
   "metadata": {},
   "source": [
    "**2:** Providers that have email columns in raw data but contain missing values"
   ]
  },
  {
   "cell_type": "code",
   "execution_count": 136,
   "id": "static-version",
   "metadata": {},
   "outputs": [
    {
     "name": "stdout",
     "output_type": "stream",
     "text": [
      "Province of Québec\n",
      "False\n",
      "Province of Nova Scotia\n",
      "True\n",
      "Province of British Columbia\n",
      "True\n",
      "Nunavut\n",
      "True\n"
     ]
    }
   ],
   "source": [
    "#cc.loc[(cc.email.isnull()) & (cc.provider != \"GoDayCare.com\") & (cc.provider != \"Province of Ontario\")].provider.unique().tolist()\n",
    "\n",
    "provsemail = [\n",
    " 'Province of Québec',\n",
    " 'Province of Nova Scotia',\n",
    " 'Province of British Columbia',\n",
    " 'Nunavut']\n",
    "\n",
    "for p in provsemail:\n",
    "    print(p)\n",
    "    df = provider_dict[p]\n",
    "    print(len(cc.loc[(cc.email.isnull()) & (cc.provider == p)]) == len(df.loc[df.email.isnull()]))"
   ]
  },
  {
   "cell_type": "code",
   "execution_count": 116,
   "id": "honey-frost",
   "metadata": {},
   "outputs": [
    {
     "data": {
      "text/html": [
       "<div>\n",
       "<style scoped>\n",
       "    .dataframe tbody tr th:only-of-type {\n",
       "        vertical-align: middle;\n",
       "    }\n",
       "\n",
       "    .dataframe tbody tr th {\n",
       "        vertical-align: top;\n",
       "    }\n",
       "\n",
       "    .dataframe thead th {\n",
       "        text-align: right;\n",
       "    }\n",
       "</style>\n",
       "<table border=\"1\" class=\"dataframe\">\n",
       "  <thead>\n",
       "    <tr style=\"text-align: right;\">\n",
       "      <th></th>\n",
       "      <th>source_id</th>\n",
       "      <th>name</th>\n",
       "      <th>source_facility_type</th>\n",
       "      <th>facility_type</th>\n",
       "      <th>ages</th>\n",
       "      <th>capacity</th>\n",
       "      <th>infant</th>\n",
       "      <th>toddler</th>\n",
       "      <th>school_age</th>\n",
       "      <th>source_full_address</th>\n",
       "      <th>...</th>\n",
       "      <th>postal_code</th>\n",
       "      <th>city</th>\n",
       "      <th>province</th>\n",
       "      <th>provider</th>\n",
       "      <th>licence_status</th>\n",
       "      <th>longitude</th>\n",
       "      <th>latitude</th>\n",
       "      <th>contact</th>\n",
       "      <th>email</th>\n",
       "      <th>phone</th>\n",
       "    </tr>\n",
       "    <tr>\n",
       "      <th>id</th>\n",
       "      <th></th>\n",
       "      <th></th>\n",
       "      <th></th>\n",
       "      <th></th>\n",
       "      <th></th>\n",
       "      <th></th>\n",
       "      <th></th>\n",
       "      <th></th>\n",
       "      <th></th>\n",
       "      <th></th>\n",
       "      <th></th>\n",
       "      <th></th>\n",
       "      <th></th>\n",
       "      <th></th>\n",
       "      <th></th>\n",
       "      <th></th>\n",
       "      <th></th>\n",
       "      <th></th>\n",
       "      <th></th>\n",
       "      <th></th>\n",
       "      <th></th>\n",
       "    </tr>\n",
       "  </thead>\n",
       "  <tbody>\n",
       "    <tr>\n",
       "      <th>7061</th>\n",
       "      <td>NaN</td>\n",
       "      <td>SERVICE DE GARDE TASIURVIK INC.</td>\n",
       "      <td>CPE</td>\n",
       "      <td>Day Care</td>\n",
       "      <td>NaN</td>\n",
       "      <td>65</td>\n",
       "      <td>Y</td>\n",
       "      <td>Y</td>\n",
       "      <td>NaN</td>\n",
       "      <td>, C.P. 280</td>\n",
       "      <td>...</td>\n",
       "      <td>J0M 1M0</td>\n",
       "      <td>Inukjuak</td>\n",
       "      <td>QC</td>\n",
       "      <td>Province of Québec</td>\n",
       "      <td>NaN</td>\n",
       "      <td>NaN</td>\n",
       "      <td>NaN</td>\n",
       "      <td>None</td>\n",
       "      <td>None</td>\n",
       "      <td>None</td>\n",
       "    </tr>\n",
       "    <tr>\n",
       "      <th>8040</th>\n",
       "      <td>NaN</td>\n",
       "      <td>CENTRE ENFANCE ET FAMILLE DE STEP BY STEP / ST...</td>\n",
       "      <td>CPE</td>\n",
       "      <td>Day Care</td>\n",
       "      <td>NaN</td>\n",
       "      <td>20</td>\n",
       "      <td>Y</td>\n",
       "      <td>Y</td>\n",
       "      <td>NaN</td>\n",
       "      <td>, C.P. 771</td>\n",
       "      <td>...</td>\n",
       "      <td>J0L 1B0</td>\n",
       "      <td>Kahnawake</td>\n",
       "      <td>QC</td>\n",
       "      <td>Province of Québec</td>\n",
       "      <td>NaN</td>\n",
       "      <td>NaN</td>\n",
       "      <td>NaN</td>\n",
       "      <td>None</td>\n",
       "      <td>None</td>\n",
       "      <td>None</td>\n",
       "    </tr>\n",
       "  </tbody>\n",
       "</table>\n",
       "<p>2 rows × 24 columns</p>\n",
       "</div>"
      ],
      "text/plain": [
       "     source_id                                               name  \\\n",
       "id                                                                  \n",
       "7061       NaN                    SERVICE DE GARDE TASIURVIK INC.   \n",
       "8040       NaN  CENTRE ENFANCE ET FAMILLE DE STEP BY STEP / ST...   \n",
       "\n",
       "     source_facility_type facility_type ages capacity infant toddler  \\\n",
       "id                                                                     \n",
       "7061                  CPE      Day Care  NaN       65      Y       Y   \n",
       "8040                  CPE      Day Care  NaN       20      Y       Y   \n",
       "\n",
       "     school_age source_full_address  ... postal_code       city province  \\\n",
       "id                                   ...                                   \n",
       "7061        NaN          , C.P. 280  ...     J0M 1M0   Inukjuak       QC   \n",
       "8040        NaN          , C.P. 771  ...     J0L 1B0  Kahnawake       QC   \n",
       "\n",
       "                provider licence_status longitude latitude contact email  \\\n",
       "id                                                                         \n",
       "7061  Province of Québec            NaN       NaN      NaN    None  None   \n",
       "8040  Province of Québec            NaN       NaN      NaN    None  None   \n",
       "\n",
       "      phone  \n",
       "id           \n",
       "7061   None  \n",
       "8040   None  \n",
       "\n",
       "[2 rows x 24 columns]"
      ]
     },
     "execution_count": 116,
     "metadata": {},
     "output_type": "execute_result"
    }
   ],
   "source": [
    "cc.loc[(cc.provider == \"Province of Québec\") & (cc.email.isnull()) & (cc.name.duplicated()) & (cc.source_full_address.duplicated())]"
   ]
  },
  {
   "cell_type": "code",
   "execution_count": 117,
   "id": "opposed-section",
   "metadata": {},
   "outputs": [],
   "source": [
    "# QC.loc[QC.address == \"220, rue Saint-Marc\"]"
   ]
  },
  {
   "cell_type": "code",
   "execution_count": 118,
   "id": "champion-conjunction",
   "metadata": {},
   "outputs": [],
   "source": [
    "# cc.loc[cc.source_full_address == \"220, rue Saint-Marc\"]"
   ]
  },
  {
   "cell_type": "markdown",
   "id": "developmental-packaging",
   "metadata": {},
   "source": [
    "**3:** Providers that have contact columns in raw data but contain missing values\n"
   ]
  },
  {
   "cell_type": "code",
   "execution_count": 119,
   "id": "reported-stations",
   "metadata": {},
   "outputs": [
    {
     "name": "stdout",
     "output_type": "stream",
     "text": [
      "True\n"
     ]
    }
   ],
   "source": [
    "cc.loc[(cc.contact.isnull()) & (cc.provider != \"GoDayCare.com\") & (cc.provider != \"Province of Ontario\")].provider.unique().tolist()\n",
    "\n",
    "print(len(cc.loc[(cc.contact.isnull()) & (cc.provider == 'Province of Newfoundland and Labrador')]) == len(NL.loc[NL.contact.isnull()]))"
   ]
  },
  {
   "cell_type": "markdown",
   "id": "figured-prime",
   "metadata": {},
   "source": [
    "**4:** Export"
   ]
  },
  {
   "cell_type": "code",
   "execution_count": 130,
   "id": "capital-stockholm",
   "metadata": {},
   "outputs": [],
   "source": [
    "cc.contact.replace(\"none\", \"\", inplace = True)\n",
    "cc.to_csv(\"childcare-alpha.csv\")"
   ]
  },
  {
   "cell_type": "markdown",
   "id": "precious-boating",
   "metadata": {},
   "source": [
    "## [Top](#top)"
   ]
  }
 ],
 "metadata": {
  "kernelspec": {
   "display_name": "Python 3",
   "language": "python",
   "name": "python3"
  },
  "language_info": {
   "codemirror_mode": {
    "name": "ipython",
    "version": 3
   },
   "file_extension": ".py",
   "mimetype": "text/x-python",
   "name": "python",
   "nbconvert_exporter": "python",
   "pygments_lexer": "ipython3",
   "version": "3.7.0"
  }
 },
 "nbformat": 4,
 "nbformat_minor": 5
}
