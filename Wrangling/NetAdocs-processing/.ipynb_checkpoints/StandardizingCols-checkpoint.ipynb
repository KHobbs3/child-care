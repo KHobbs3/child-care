{
 "cells": [
  {
   "cell_type": "markdown",
   "metadata": {},
   "source": [
    "**IN:** raw data \n",
    "\n",
    "**OUT:** input data for opentab"
   ]
  },
  {
   "cell_type": "code",
   "execution_count": 1,
   "metadata": {},
   "outputs": [],
   "source": [
    "import pandas as pd\n",
    "import os\n",
    "import glob\n",
    "import re\n",
    "import numpy as np"
   ]
  },
  {
   "cell_type": "code",
   "execution_count": 2,
   "metadata": {},
   "outputs": [],
   "source": [
    "os.chdir('/Users/kt/Documents/work/STATCAN/ODECF/Collection-ODECF/data/childcare')"
   ]
  },
  {
   "cell_type": "code",
   "execution_count": 3,
   "metadata": {
    "scrolled": false
   },
   "outputs": [
    {
     "data": {
      "text/plain": [
       "['NT-childcare.csv',\n",
       " 'QC-CPE-GARD-MF.csv',\n",
       " 'NB-childcare.csv',\n",
       " 'AB-childcare.csv',\n",
       " 'NL-childcare.csv',\n",
       " 'odec.csv',\n",
       " 'MB-childcare.csv',\n",
       " 'PE-childcare.csv',\n",
       " 'NS-Child_Care_Directory.csv',\n",
       " 'SK-childcare.csv',\n",
       " 'ON-childcare.csv',\n",
       " 'YT-childcare.csv',\n",
       " 'odecf_godaycares_2020-10-19.csv',\n",
       " 'ON-childcare-dictionary.csv',\n",
       " 'NU-childcare.csv',\n",
       " 'BC-childcare_locations.csv']"
      ]
     },
     "execution_count": 3,
     "metadata": {},
     "output_type": "execute_result"
    }
   ],
   "source": [
    "glob.glob('*.csv')"
   ]
  },
  {
   "cell_type": "code",
   "execution_count": 4,
   "metadata": {},
   "outputs": [],
   "source": [
    "NT = pd.read_csv('NT-childcare.csv')\n",
    "QC = pd.read_csv('QC-CPE-GARD-MF.csv')\n",
    "NB = pd.read_csv('NB-childcare.csv')\n",
    "AB = pd.read_csv('AB-childcare.csv')\n",
    "NL = pd.read_csv('NL-childcare.csv')\n",
    "MB = pd.read_csv('MB-childcare.csv')\n",
    "PE = pd.read_csv('PE-childcare.csv')\n",
    "NS = pd.read_csv('NS-Child_Care_Directory.csv')\n",
    "SK = pd.read_csv('SK-childcare.csv')\n",
    "ON = pd.read_csv('ON-childcare.csv')\n",
    "YT = pd.read_csv('YT-childcare.csv')\n",
    "NU = pd.read_csv('NU-childcare.csv')\n",
    "BC = pd.read_csv('BC-childcare_locations.csv')\n",
    "godc = pd.read_csv('odecf_godaycares_2020-10-19.csv')"
   ]
  },
  {
   "cell_type": "markdown",
   "metadata": {},
   "source": [
    "complete | prov | details | updated src\n",
    "----------|------|----------|-----------\n",
    "[-] | NT | No relevant columns | -\n",
    "[x] | QC | `MF` - home care. `CPE/GARD` - day care. `CR` - `infant` & `toddler` | X\n",
    "[x] | NB | - | X\n",
    "[x] | AB | Facilities offering care in private residences were considered home cares. | X\n",
    "[-] | NL | No relevant columns | -\n",
    "[x] | MB | - | X\n",
    "[x] | PE | `toddler`: 2-5 Years, `infant`: Under 2, `school_age`: School Age | X\n",
    "[x] | NS | Grouped `preschool` with `toddler` | X\n",
    "[x] | SK | Src file updated to include details col | X\n",
    "[-] | ON | No relevant columns | -\n",
    "[x] | YT | If \"and older\" was included in text, all ages above were marked as \"Y\". `toddler`, `preschool`, `kindergarten` were grouped as `toddler`. | X\n",
    "[x] | NU | Added age columns only (no home info). preschool = toddler age. | X\n",
    "[x] | BC | Added `toddler` column only. See descriptions. | X\n",
    "[x] | GoDayCare.com | "
   ]
  },
  {
   "cell_type": "markdown",
   "metadata": {},
   "source": [
    "---\n",
    "### QC\n",
    "**Type de service de garde:**\n",
    "\n",
    "MF - home care\n",
    "CPE/GARD - day care\n",
    "\n",
    "**Place à contribution réduite**\n",
    "\n",
    "CR - reduced contribution place: The Reduced Contribution Program was created for children between 0 and 5 years old\n",
    "https://www.mfa.gouv.qc.ca/en/services-de-garde/parents/programme-contribution-reduite/Pages/index.aspx\n",
    "\n"
   ]
  },
  {
   "cell_type": "code",
   "execution_count": 5,
   "metadata": {},
   "outputs": [],
   "source": [
    "QC['facility_type'] = QC['Type de service de garde'].apply(lambda x: \"Day Care\" if x == \"CPE\" or x == \"GARD\" else \"Home\")"
   ]
  },
  {
   "cell_type": "code",
   "execution_count": 6,
   "metadata": {},
   "outputs": [],
   "source": [
    "QC['infant'] = QC['Place à contribution réduite'].apply(lambda x: \"Y\" if x == \"CR\" else None)\n",
    "QC['toddler'] = QC['Place à contribution réduite'].apply(lambda x: \"Y\" if x == \"CR\" else None)"
   ]
  },
  {
   "cell_type": "markdown",
   "metadata": {},
   "source": [
    "Check:"
   ]
  },
  {
   "cell_type": "code",
   "execution_count": 7,
   "metadata": {},
   "outputs": [],
   "source": [
    "# QC.groupby(['Place à contribution réduite', 'infant', 'toddler']).describe()\n",
    "# QC.groupby(['Type de service de garde', 'facility_type']).nunique()"
   ]
  },
  {
   "cell_type": "markdown",
   "metadata": {},
   "source": [
    "### NB"
   ]
  },
  {
   "cell_type": "code",
   "execution_count": 8,
   "metadata": {},
   "outputs": [],
   "source": [
    "NB.age = NB.age.astype(str)\n",
    "NB['infant']=NB.age.apply(lambda x: \"Y\" if \"Infant\" in x else (\"N\" if x != \"\" else None))\n",
    "NB['toddler']=NB.age.apply(lambda x: \"Y\" if \"Preschool\" in x else (\"N\" if x != \"\" else None))\n",
    "NB['school_age']=NB.age.apply(lambda x: \"Y\" if \"School-age\" in x else (\"N\" if x != \"\" else None))"
   ]
  },
  {
   "cell_type": "code",
   "execution_count": 9,
   "metadata": {},
   "outputs": [],
   "source": [
    "NB['facility_type']=NB.type.apply(lambda x: \"Home\" if x == \"Home\" else \"Day Care\")\n",
    "# NB['day_care']=NB.type.apply(lambda x: \"Y\" if \"Centre\" in x else \"N\")"
   ]
  },
  {
   "cell_type": "markdown",
   "metadata": {},
   "source": [
    "check:"
   ]
  },
  {
   "cell_type": "code",
   "execution_count": 10,
   "metadata": {
    "scrolled": false
   },
   "outputs": [],
   "source": [
    "# NB.groupby(['type', 'facility_type']).describe()"
   ]
  },
  {
   "cell_type": "code",
   "execution_count": 11,
   "metadata": {},
   "outputs": [],
   "source": [
    "# NB.groupby(['age','infant', 'toddler', 'school_age']).max()[['facility']]"
   ]
  },
  {
   "cell_type": "markdown",
   "metadata": {},
   "source": [
    "### AB\n",
    "\n",
    "There are many types of licensed child care options available:\n",
    "* day care programs that serve infants, toddlers and pre-school-aged children\n",
    "* family day homes offer care in a private residence for up to 6 children, including the caregiver’s own children, with one caregiver\n",
    "* group family child care programs offer care in a private residence and have between 7 and 10 children with 2 caregivers\n",
    "* out-of-school-care programs operate before and after school, during lunch hours and sometimes when school is closed\n",
    "* pre-school programs offer child care for 4 or less hours per day for pre-school aged children\n",
    "\n",
    "https://www.alberta.ca/finding-quality-child-care.aspx\n",
    "\n",
    "<mark> Let those offering care in private residences be considered home cares. </mark>"
   ]
  },
  {
   "cell_type": "code",
   "execution_count": 12,
   "metadata": {},
   "outputs": [],
   "source": [
    "AB['facility_type'] = AB['Type of program'].apply(lambda x: \"Home\" if \"FAMILY\" in x else (\"Day Care\" if x != \"\" else None))"
   ]
  },
  {
   "cell_type": "markdown",
   "metadata": {},
   "source": [
    "Check:"
   ]
  },
  {
   "cell_type": "code",
   "execution_count": 13,
   "metadata": {},
   "outputs": [],
   "source": [
    "# AB.groupby(['Type of program', 'facility_type']).describe()"
   ]
  },
  {
   "cell_type": "markdown",
   "metadata": {},
   "source": [
    "### MB"
   ]
  },
  {
   "cell_type": "code",
   "execution_count": 14,
   "metadata": {},
   "outputs": [],
   "source": [
    "MB['facility_type'] = MB['Type of Facility'].apply(lambda x: \"Home\" if \"Home\" in x else (\"Day Care\" if x != \"\" else None))"
   ]
  },
  {
   "cell_type": "code",
   "execution_count": 15,
   "metadata": {},
   "outputs": [],
   "source": [
    "MB['Age Type']=MB['Age Type'].astype(str)\n",
    "MB['infant']=MB['Age Type'].apply(lambda x: \"Y\" if \"Infant\" in x else (\"N\" if x != \"\" else None))\n",
    "MB['toddler']=MB['Age Type'].apply(lambda x: \"Y\" if \"Preschool\" in x else (\"N\" if x != \"\" else None))\n",
    "MB['school_age']=MB['Age Type'].apply(lambda x: \"Y\" if \"School Age\" in x else (\"N\" if x != \"\" else None))"
   ]
  },
  {
   "cell_type": "markdown",
   "metadata": {},
   "source": [
    "Check:"
   ]
  },
  {
   "cell_type": "code",
   "execution_count": 16,
   "metadata": {
    "scrolled": true
   },
   "outputs": [],
   "source": [
    "# MB.groupby(['Type of Facility', 'facility_type']).describe()\n",
    "# MB.groupby(['Age Type', 'infant', 'toddler', 'school_age']).describe()"
   ]
  },
  {
   "cell_type": "markdown",
   "metadata": {},
   "source": [
    "### PE\n",
    "\n",
    "`toddler`: 2-5 Years\n",
    "\n",
    "`infant`: Under 2\n",
    "\n",
    "`school_age`: School Age"
   ]
  },
  {
   "cell_type": "code",
   "execution_count": 17,
   "metadata": {},
   "outputs": [],
   "source": [
    "# Infant - Under 2 Years\n",
    "def infant(x):\n",
    "    try:\n",
    "        if x != \"Not Specified\":\n",
    "            re.match(r'^[a-zA-Z]{5}\\s[0-9]{1}\\s[a-zA-Z]{5}', x)[0]\n",
    "            return \"Y\"\n",
    "        else:\n",
    "            return None\n",
    "    except TypeError:\n",
    "        return \"N\"\n",
    "    \n",
    "PE['infant'] = PE['Centre Accepts'].apply(infant)"
   ]
  },
  {
   "cell_type": "code",
   "execution_count": 18,
   "metadata": {},
   "outputs": [],
   "source": [
    "# Toddler - 2 Years, 3 Years, 4 Years, 5 Years\n",
    "def toddler(x):\n",
    "    try:\n",
    "        if x != \"Not Specified\" and x != \"Under 2 Years\":\n",
    "            re.match(r'.*[0-9]{1}\\s[a-zA-Z]{5}', x)[0]\n",
    "            return \"Y\"\n",
    "        elif x == \"Under 2 Years\":\n",
    "            return \"N\"\n",
    "        else:\n",
    "            return None\n",
    "    except TypeError:\n",
    "        return \"N\"\n",
    "    \n",
    "PE['toddler'] = PE['Centre Accepts'].apply(toddler)"
   ]
  },
  {
   "cell_type": "code",
   "execution_count": 19,
   "metadata": {},
   "outputs": [],
   "source": [
    "# School Age\n",
    "PE['school_age'] = PE['Centre Accepts'].apply(lambda x: \"Y\" if \"School Age\" in x else (None if x == \"Not Specified\" else \"N\"))"
   ]
  },
  {
   "cell_type": "markdown",
   "metadata": {},
   "source": [
    "Check:"
   ]
  },
  {
   "cell_type": "code",
   "execution_count": 20,
   "metadata": {},
   "outputs": [],
   "source": [
    "# PE.groupby(['Centre Accepts', 'infant', 'toddler', 'school_age']).describe()"
   ]
  },
  {
   "cell_type": "markdown",
   "metadata": {},
   "source": [
    "### NS"
   ]
  },
  {
   "cell_type": "code",
   "execution_count": 21,
   "metadata": {
    "scrolled": true
   },
   "outputs": [],
   "source": [
    "# NS.info()"
   ]
  },
  {
   "cell_type": "code",
   "execution_count": 22,
   "metadata": {},
   "outputs": [],
   "source": [
    "tod1 = BC[BC.SRVC_30MOS_5YRS_YN == \"Y\"].index.to_list()\n",
    "tod2 = BC[BC.SRVC_OOS_KINDER_YN == \"Y\"].index.to_list()\n",
    "toddler_ix = tod1+tod2"
   ]
  },
  {
   "cell_type": "code",
   "execution_count": 23,
   "metadata": {},
   "outputs": [],
   "source": [
    "NS['facility_type'] = NS.FACILITY_TYPE.apply(lambda x: \"Home\" if x == \"Family Home Day Care Agency\" else \"Day Care\")\n",
    "NS['infant'] = NS.AGE_INFANT.apply(lambda x: \"Y\" if x == \"Yes\" else \"N\")\n",
    "NS['toddler'] = NS.AGE_TODDLER.apply(lambda x: \"Y\" if x == \"Yes\" else \"N\")\n",
    "NS['school_age'] = NS.AGE_SCHOOL_AGE.apply(lambda x: \"Y\" if x == \"Yes\" else \"N\")"
   ]
  },
  {
   "cell_type": "markdown",
   "metadata": {},
   "source": [
    "Check:"
   ]
  },
  {
   "cell_type": "code",
   "execution_count": 24,
   "metadata": {},
   "outputs": [],
   "source": [
    "# NS.groupby(['FACILITY_TYPE', 'facility_type']).describe()\n",
    "# NS.groupby(['AGE_INFANT', 'infant']).describe()"
   ]
  },
  {
   "cell_type": "markdown",
   "metadata": {},
   "source": [
    "### SK"
   ]
  },
  {
   "cell_type": "code",
   "execution_count": 25,
   "metadata": {},
   "outputs": [],
   "source": [
    "SK.details = SK.details.astype(str)"
   ]
  },
  {
   "cell_type": "code",
   "execution_count": 26,
   "metadata": {},
   "outputs": [],
   "source": [
    "# Type\n",
    "SK['facility_type'] = SK.details.apply(lambda x: \"Home\" if \"home\" in x.lower() else (\"Day Care\" if \"centre\" in x.lower() else None))"
   ]
  },
  {
   "cell_type": "code",
   "execution_count": 27,
   "metadata": {},
   "outputs": [],
   "source": [
    "# Age\n",
    "SK['infant'] = SK.details.apply(lambda x: \"Y\" if \"6 weeks - 18 months\" in x.lower() \n",
    "                                or \"6 weeks - 30 months\" in x.lower() \n",
    "                                or \"infants\" in x.lower()\n",
    "                                else (\"N\" if \"kindergarten\" in x.lower() else None))\n",
    "SK['toddler'] = SK.details.apply(lambda x: \"Y\" if \"6 weeks - 30 months\" in x.lower() or \"kindergarten\" in x.lower() else (\"N\" if \"6 weeks - 18 months\" in x.lower() else None))\n",
    "SK['school_age'] = SK.infant.apply(lambda x: None if x is None else \"N\")"
   ]
  },
  {
   "cell_type": "markdown",
   "metadata": {},
   "source": [
    "Check:"
   ]
  },
  {
   "cell_type": "code",
   "execution_count": 28,
   "metadata": {},
   "outputs": [],
   "source": [
    "# SK.groupby(['details', 'facility_type']).describe()\n",
    "# SK.groupby(['details', 'infant', 'toddler', 'school_age']).describe()"
   ]
  },
  {
   "cell_type": "markdown",
   "metadata": {},
   "source": [
    "### YT\n",
    "\n",
    "**Given age group hierarchy:**\n",
    "\n",
    "infant < toddler < preschool < kindergarten < school age\n",
    "\n",
    "**Adjusted age group hierarchy:**\n",
    "\n",
    "infant < toddler (+ preschool + kindergarten) < school age\n",
    "\n",
    "<mark> if \"and older\" was included in text, all ages above were marked as \"Y\". </mark>"
   ]
  },
  {
   "cell_type": "code",
   "execution_count": 29,
   "metadata": {},
   "outputs": [],
   "source": [
    "def toddler(x):\n",
    "    try:\n",
    "        # for 'infant(s) and older' entries\n",
    "        if re.match('\\s{0,1}[a-z]{6,7} and older', x)[0]:\n",
    "            return 'Y'\n",
    "    except TypeError:\n",
    "        if 'toddler' in x.lower():\n",
    "            return 'Y'\n",
    "        elif 'pre-school' in x.lower():\n",
    "            return 'Y'\n",
    "        elif 'kindergarten' in x.lower():\n",
    "            return 'Y'\n",
    "        else:\n",
    "            return \"N\""
   ]
  },
  {
   "cell_type": "code",
   "execution_count": 30,
   "metadata": {},
   "outputs": [],
   "source": [
    "YT['infant'] = YT.age.apply(lambda x: \"Y\" if \"infant\" in x else \"N\")\n",
    "YT['school_age'] = YT.age.apply(lambda x: \"Y\" if \"school-age\" in x or \"and older\" in x else \"N\")\n",
    "YT['toddler'] = YT.age.apply(toddler)"
   ]
  },
  {
   "cell_type": "markdown",
   "metadata": {},
   "source": [
    "Check:"
   ]
  },
  {
   "cell_type": "code",
   "execution_count": 31,
   "metadata": {},
   "outputs": [],
   "source": [
    "# YT.groupby(['age', 'infant', 'toddler', 'school_age']).describe()"
   ]
  },
  {
   "cell_type": "markdown",
   "metadata": {},
   "source": [
    "### NU"
   ]
  },
  {
   "cell_type": "code",
   "execution_count": 32,
   "metadata": {},
   "outputs": [],
   "source": [
    "NU['infant'] = NU.Infants.apply(lambda x: \"Y\" if x != 0 else \"N\")\n",
    "NU['toddler'] = NU.Preschooler.apply(lambda x: \"Y\" if x != 0 else \"N\")\n",
    "NU['school_age'] = NU['School age'].apply(lambda x: \"Y\" if x != 0 else \"N\")"
   ]
  },
  {
   "cell_type": "markdown",
   "metadata": {},
   "source": [
    "Check:"
   ]
  },
  {
   "cell_type": "code",
   "execution_count": 33,
   "metadata": {},
   "outputs": [],
   "source": [
    "# NU.groupby(['toddler', 'Preschooler']).describe()"
   ]
  },
  {
   "cell_type": "markdown",
   "metadata": {},
   "source": [
    "### BC\n",
    "\n",
    "`SRVC_UNDER36_IND` indicates whether or not the facility offers child care services to children under 36 months of age, i.e., Y or N **infant**\n",
    "\n",
    "`SRVC_30MOS_5YRS_IND` indicates whether or not the facility offers child care services to children between the ages of 30 months and 5 years, i.e., Y or N **toddler**\n",
    "\n",
    "`SRVC_LICPRE_IND` indicates whether or not the facility is a licensed preschool, i.e., Y or N\n",
    "\n",
    "`SRVC_OOS_KINDER_IND` indicates whether or not the facility offers care for out of school care for kindergarten aged children, i.e., Y or N **toddler**\n",
    "\n",
    "`SRVC_OOS_GR1_AGE12_IND` indicates whether or not the facility offers care for out of school care for children in grade 1 up to the age of 12, i.e., Y or N **school_age**\n",
    "\n"
   ]
  },
  {
   "cell_type": "code",
   "execution_count": 52,
   "metadata": {},
   "outputs": [],
   "source": [
    "# BC.info()"
   ]
  },
  {
   "cell_type": "code",
   "execution_count": 35,
   "metadata": {},
   "outputs": [],
   "source": [
    "# Find indices of both toddler identifiable columns\n",
    "tod1 = BC[BC.SRVC_30MOS_5YRS_YN == \"Y\"].index.to_list()\n",
    "tod2 = BC[BC.SRVC_OOS_KINDER_YN == \"Y\"].index.to_list()\n",
    "toddler_ix = tod1+tod2"
   ]
  },
  {
   "cell_type": "code",
   "execution_count": 36,
   "metadata": {},
   "outputs": [],
   "source": [
    "BC['toddler'] = 'N'\n",
    "BC.loc[toddler_ix, 'toddler'] = \"Y\""
   ]
  },
  {
   "cell_type": "markdown",
   "metadata": {},
   "source": [
    "Check:"
   ]
  },
  {
   "cell_type": "code",
   "execution_count": 37,
   "metadata": {},
   "outputs": [],
   "source": [
    "# BC.groupby(['toddler', 'SRVC_30MOS_5YRS_YN', 'SRVC_OOS_KINDER_YN']).describe()"
   ]
  },
  {
   "cell_type": "markdown",
   "metadata": {},
   "source": [
    "#### GoDayCare.com\n"
   ]
  },
  {
   "cell_type": "code",
   "execution_count": 38,
   "metadata": {},
   "outputs": [],
   "source": [
    "godc.Age_Groups = godc.Age_Groups.replace(np.nan, None)\n",
    "godc.Age_Groups = godc.Age_Groups.astype(str)"
   ]
  },
  {
   "cell_type": "code",
   "execution_count": 39,
   "metadata": {},
   "outputs": [],
   "source": [
    "godc['infant'] = godc.Age_Groups.map(lambda x: \"Y\" if \"Infant\" in x else (None if x == \"None\" else \"N\"))\n",
    "godc['toddler'] = godc.Age_Groups.map(lambda x: \"Y\" if \"Toddler\" in x or \"Preschool\" in x or \"Kindergarten\" in x else (None if x == \"None\" else \"N\"))\n",
    "godc['school_age'] = godc.Age_Groups.map(lambda x: \"Y\" if \"Schoolage\" in x else (None if x == \"None\" else \"N\"))"
   ]
  },
  {
   "cell_type": "markdown",
   "metadata": {},
   "source": [
    "Check:"
   ]
  },
  {
   "cell_type": "code",
   "execution_count": 40,
   "metadata": {},
   "outputs": [],
   "source": [
    "# godc.groupby(['Age_Groups', 'infant', 'toddler', 'school_age']).describe()"
   ]
  },
  {
   "cell_type": "markdown",
   "metadata": {},
   "source": [
    "---\n",
    "\n",
    "### Export"
   ]
  },
  {
   "cell_type": "markdown",
   "metadata": {},
   "source": [
    "##### To verify"
   ]
  },
  {
   "cell_type": "code",
   "execution_count": 41,
   "metadata": {},
   "outputs": [],
   "source": [
    "# os.chdir('/Users/kt/Documents/work/STATCAN/ODECF/Wrangling-ODECF/output/childcare/standardized')"
   ]
  },
  {
   "cell_type": "code",
   "execution_count": 42,
   "metadata": {},
   "outputs": [],
   "source": [
    "# SK.groupby(['details', 'home_day_care', 'day_care', 'infant', 'toddler', 'school_age']).describe().to_csv(\"SK-childcare-verify.csv\")\n",
    "# YT.groupby(['age', 'infant', 'toddler', 'school_age']).describe().to_csv(\"YT-childcare-verify.csv\")\n",
    "# PE.groupby(['Centre Accepts', 'infant', 'toddler', 'school_age']).describe().to_csv('PE-childcare-verify.csv')"
   ]
  },
  {
   "cell_type": "markdown",
   "metadata": {},
   "source": [
    "**OK**"
   ]
  },
  {
   "cell_type": "code",
   "execution_count": 43,
   "metadata": {},
   "outputs": [
    {
     "data": {
      "text/plain": [
       "'/Users/kt/Documents/work/STATCAN/ODECF/Collection-ODECF/data/childcare'"
      ]
     },
     "execution_count": 43,
     "metadata": {},
     "output_type": "execute_result"
    }
   ],
   "source": [
    "os.getcwd()"
   ]
  },
  {
   "cell_type": "code",
   "execution_count": 44,
   "metadata": {},
   "outputs": [],
   "source": [
    "os.chdir('/Users/kt/.config/opentabulate.con/data/input/')"
   ]
  },
  {
   "cell_type": "code",
   "execution_count": 45,
   "metadata": {},
   "outputs": [],
   "source": [
    "godc.to_csv('godaycare.csv')"
   ]
  },
  {
   "cell_type": "code",
   "execution_count": 46,
   "metadata": {},
   "outputs": [],
   "source": [
    "PE.to_csv('PE-childcare.csv')"
   ]
  },
  {
   "cell_type": "code",
   "execution_count": 47,
   "metadata": {},
   "outputs": [],
   "source": [
    "YT.to_csv('YT-childcare.csv')\n",
    "SK.to_csv('SK-childcare.csv')\n",
    "PE.to_csv('PE-childcare.csv')\n",
    "NB.to_csv('NB-childcare.csv')\n",
    "AB.to_csv('AB-childcare.csv')\n",
    "MB.to_csv('MB-childcare.csv')\n",
    "NS.to_csv('NS-childcare.csv')\n",
    "NU.to_csv('NU-childcare.csv')\n",
    "BC.to_csv('BC-childcare.csv')\n",
    "QC.to_csv('QC-childcare.csv', encoding = \"utf-8-sig\")"
   ]
  },
  {
   "cell_type": "markdown",
   "metadata": {},
   "source": [
    "##### Unchanged"
   ]
  },
  {
   "cell_type": "code",
   "execution_count": 48,
   "metadata": {},
   "outputs": [],
   "source": [
    "ON.to_csv('ON-childcare.csv')\n",
    "NT.to_csv('NT-childcare.csv')\n",
    "NL.to_csv('NL-childcare.csv')"
   ]
  }
 ],
 "metadata": {
  "kernelspec": {
   "display_name": "Python 3",
   "language": "python",
   "name": "python3"
  },
  "language_info": {
   "codemirror_mode": {
    "name": "ipython",
    "version": 3
   },
   "file_extension": ".py",
   "mimetype": "text/x-python",
   "name": "python",
   "nbconvert_exporter": "python",
   "pygments_lexer": "ipython3",
   "version": "3.7.4"
  }
 },
 "nbformat": 4,
 "nbformat_minor": 4
}
