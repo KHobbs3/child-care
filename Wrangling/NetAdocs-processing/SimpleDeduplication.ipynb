{
 "cells": [
  {
   "cell_type": "markdown",
   "metadata": {},
   "source": [
    "**IN:** output data from opentab\n",
    "\n",
    "**OUT:** deduplicated data to be merged"
   ]
  },
  {
   "cell_type": "code",
   "execution_count": 1,
   "metadata": {},
   "outputs": [],
   "source": [
    "import pandas as pd\n",
    "import os\n",
    "import glob\n",
    "import re\n",
    "import numpy as np"
   ]
  },
  {
   "cell_type": "code",
   "execution_count": 2,
   "metadata": {},
   "outputs": [],
   "source": [
    "os.chdir('/Users/kt/.config/opentabulate.con/data/output/')"
   ]
  },
  {
   "cell_type": "code",
   "execution_count": 3,
   "metadata": {},
   "outputs": [
    {
     "data": {
      "text/plain": [
       "['NT-childcare.csv',\n",
       " 'NB-childcare.csv',\n",
       " 'NS-childcare.csv',\n",
       " 'AB-childcare.csv',\n",
       " 'NL-childcare.csv',\n",
       " 'MB-childcare.csv',\n",
       " 'QC-childcare.csv',\n",
       " 'PE-childcare.csv',\n",
       " 'BC-childcare.csv',\n",
       " 'SK-childcare.csv',\n",
       " 'ON-childcare.csv',\n",
       " 'YT-childcare.csv',\n",
       " 'NU-childcare.csv',\n",
       " 'godaycare.csv']"
      ]
     },
     "execution_count": 3,
     "metadata": {},
     "output_type": "execute_result"
    }
   ],
   "source": [
    "glob.glob('*.csv')"
   ]
  },
  {
   "cell_type": "code",
   "execution_count": 4,
   "metadata": {},
   "outputs": [],
   "source": [
    "nt = pd.read_csv('NT-childcare.csv')\n",
    "qc = pd.read_csv('QC-childcare.csv', encoding = \"utf-8-sig\")\n",
    "ab = pd.read_csv('AB-childcare.csv')\n",
    "mb = pd.read_csv('MB-childcare.csv')\n",
    "on = pd.read_csv('ON-childcare.csv')\n",
    "pe = pd.read_csv('PE-childcare.csv')\n",
    "gdc = pd.read_csv('godaycare.csv')\n",
    "nb = pd.read_csv('NB-childcare.csv')"
   ]
  },
  {
   "cell_type": "markdown",
   "metadata": {},
   "source": [
    "prov | duplicates | dups dropped\n",
    "------|----------|-----------\n",
    "QC | Y (3523) | Y\n",
    "AB | Y (14364) | Y\n",
    "MB | Y (1174) | Y\n",
    "ON | Y (3) | Y\n",
    "PE | N | -\n",
    "godaycare | Y (29) | Y\n",
    "NB | Y (2) | Y\n",
    "NT | Y (151) | Y\n",
    "NS | N | -\n",
    "NL | N | -\n",
    "SK | N | -\n",
    "YT | N | -\n",
    "NU | N | -\n",
    "* duplicates determined by unique identifier column if present, or through conditional highlighting entire excel sheet if not."
   ]
  },
  {
   "cell_type": "markdown",
   "metadata": {},
   "source": [
    "### QC\n",
    "\n",
    "Duplicates = rows with **all** column values identical"
   ]
  },
  {
   "cell_type": "code",
   "execution_count": 5,
   "metadata": {},
   "outputs": [],
   "source": [
    "# qc[qc.duplicated()]"
   ]
  },
  {
   "cell_type": "code",
   "execution_count": 6,
   "metadata": {},
   "outputs": [
    {
     "name": "stdout",
     "output_type": "stream",
     "text": [
      "Num of rows removed:  3523 \n",
      "Num of rows remaining:  3573\n"
     ]
    }
   ],
   "source": [
    "qc2 = qc.drop_duplicates()\n",
    "print(\"Num of rows removed: \", len(qc) - len(qc2), \"\\nNum of rows remaining: \", len(qc2))"
   ]
  },
  {
   "cell_type": "markdown",
   "metadata": {},
   "source": [
    "### AB\n",
    "Duplicates = rows with **all** column values identical"
   ]
  },
  {
   "cell_type": "code",
   "execution_count": 7,
   "metadata": {},
   "outputs": [
    {
     "name": "stdout",
     "output_type": "stream",
     "text": [
      "Num of rows removed:  14364 \n",
      "Num of rows remaining:  2918\n"
     ]
    }
   ],
   "source": [
    "# ab[ab.duplicated()]\n",
    "ab2 = ab.drop_duplicates()\n",
    "print(\"Num of rows removed: \", len(ab) - len(ab2), \"\\nNum of rows remaining: \", len(ab2))"
   ]
  },
  {
   "cell_type": "markdown",
   "metadata": {},
   "source": [
    "### MB\n",
    "Duplicates = rows with **all** column values identical. Although address data is suppressed for \"Family or Group Child Care Home *\", the source_id still accounts for distinct identification."
   ]
  },
  {
   "cell_type": "code",
   "execution_count": 8,
   "metadata": {},
   "outputs": [
    {
     "name": "stdout",
     "output_type": "stream",
     "text": [
      "Num of rows removed:  1174 \n",
      "Num of rows remaining:  1110\n"
     ]
    }
   ],
   "source": [
    "mb2 = mb.drop_duplicates()\n",
    "print(\"Num of rows removed: \", len(mb) - len(mb2), \"\\nNum of rows remaining: \", len(mb2))"
   ]
  },
  {
   "cell_type": "markdown",
   "metadata": {},
   "source": [
    "### ON"
   ]
  },
  {
   "cell_type": "code",
   "execution_count": 9,
   "metadata": {},
   "outputs": [
    {
     "name": "stdout",
     "output_type": "stream",
     "text": [
      "Num of rows removed:  3 \n",
      "Num of rows remaining:  6992\n"
     ]
    }
   ],
   "source": [
    "# on[on.duplicated()]\n",
    "on2 = on.drop_duplicates()\n",
    "print(\"Num of rows removed: \", len(on) - len(on2), \"\\nNum of rows remaining: \", len(on2))"
   ]
  },
  {
   "cell_type": "markdown",
   "metadata": {},
   "source": [
    "### PE\n"
   ]
  },
  {
   "cell_type": "code",
   "execution_count": 17,
   "metadata": {},
   "outputs": [
    {
     "data": {
      "text/html": [
       "<div>\n",
       "<style scoped>\n",
       "    .dataframe tbody tr th:only-of-type {\n",
       "        vertical-align: middle;\n",
       "    }\n",
       "\n",
       "    .dataframe tbody tr th {\n",
       "        vertical-align: top;\n",
       "    }\n",
       "\n",
       "    .dataframe thead th {\n",
       "        text-align: right;\n",
       "    }\n",
       "</style>\n",
       "<table border=\"1\" class=\"dataframe\">\n",
       "  <thead>\n",
       "    <tr style=\"text-align: right;\">\n",
       "      <th></th>\n",
       "      <th>name</th>\n",
       "      <th>ages</th>\n",
       "      <th>infant</th>\n",
       "      <th>toddler</th>\n",
       "      <th>school_age</th>\n",
       "      <th>full_address</th>\n",
       "      <th>provider</th>\n",
       "    </tr>\n",
       "  </thead>\n",
       "  <tbody>\n",
       "  </tbody>\n",
       "</table>\n",
       "</div>"
      ],
      "text/plain": [
       "Empty DataFrame\n",
       "Columns: [name, ages, infant, toddler, school_age, full_address, provider]\n",
       "Index: []"
      ]
     },
     "execution_count": 17,
     "metadata": {},
     "output_type": "execute_result"
    }
   ],
   "source": [
    "pe[pe.duplicated()]"
   ]
  },
  {
   "cell_type": "markdown",
   "metadata": {},
   "source": [
    "### GoDayCare"
   ]
  },
  {
   "cell_type": "code",
   "execution_count": 11,
   "metadata": {},
   "outputs": [
    {
     "name": "stdout",
     "output_type": "stream",
     "text": [
      "Num of rows removed:  29 \n",
      "Num of rows remaining:  3264\n"
     ]
    }
   ],
   "source": [
    "# gdc[gdc.duplicated()]\n",
    "gdc2 = gdc.drop_duplicates()\n",
    "print(\"Num of rows removed: \", len(gdc) - len(gdc2), \"\\nNum of rows remaining: \", len(gdc2))"
   ]
  },
  {
   "cell_type": "markdown",
   "metadata": {},
   "source": [
    "### NB"
   ]
  },
  {
   "cell_type": "code",
   "execution_count": 12,
   "metadata": {},
   "outputs": [
    {
     "name": "stdout",
     "output_type": "stream",
     "text": [
      "Num of rows removed:  2 \n",
      "Num of rows remaining:  824\n"
     ]
    }
   ],
   "source": [
    "# nb[nb.duplicated()]\n",
    "nb2 = nb.drop_duplicates()\n",
    "print(\"Num of rows removed: \", len(nb) - len(nb2), \"\\nNum of rows remaining: \", len(nb2))"
   ]
  },
  {
   "cell_type": "markdown",
   "metadata": {},
   "source": [
    "### NT"
   ]
  },
  {
   "cell_type": "code",
   "execution_count": 13,
   "metadata": {},
   "outputs": [
    {
     "name": "stdout",
     "output_type": "stream",
     "text": [
      "Num of rows removed:  151 \n",
      "Num of rows remaining:  131\n"
     ]
    }
   ],
   "source": [
    "nt2 = nt.drop_duplicates()\n",
    "print(\"Num of rows removed: \", len(nt) - len(nt2), \"\\nNum of rows remaining: \", len(nt2))"
   ]
  },
  {
   "cell_type": "markdown",
   "metadata": {},
   "source": [
    "---\n",
    "### Export"
   ]
  },
  {
   "cell_type": "code",
   "execution_count": 14,
   "metadata": {},
   "outputs": [
    {
     "data": {
      "text/plain": [
       "'/Users/kt/.config/opentabulate.con/data/output'"
      ]
     },
     "execution_count": 14,
     "metadata": {},
     "output_type": "execute_result"
    }
   ],
   "source": [
    "os.getcwd()"
   ]
  },
  {
   "cell_type": "code",
   "execution_count": 15,
   "metadata": {},
   "outputs": [],
   "source": [
    "os.chdir('/Users/kt/Documents/work/STATCAN/ODECF/Wrangling-ODECF/output/childcare/deduplicated')"
   ]
  },
  {
   "cell_type": "code",
   "execution_count": 18,
   "metadata": {},
   "outputs": [],
   "source": [
    "nt2.to_csv('NT-childcare.csv')\n",
    "qc2.to_csv('QC-childcare.csv', encoding = 'utf-8-sig')\n",
    "ab2.to_csv('AB-childcare.csv')\n",
    "on2.to_csv('ON-childcare.csv')\n",
    "gdc2.to_csv('godaycare.csv')\n",
    "nb2.to_csv('NB-childcare.csv')\n",
    "mb2.to_csv('MB-childcare.csv')"
   ]
  },
  {
   "cell_type": "code",
   "execution_count": null,
   "metadata": {},
   "outputs": [],
   "source": []
  }
 ],
 "metadata": {
  "kernelspec": {
   "display_name": "Python 3",
   "language": "python",
   "name": "python3"
  },
  "language_info": {
   "codemirror_mode": {
    "name": "ipython",
    "version": 3
   },
   "file_extension": ".py",
   "mimetype": "text/x-python",
   "name": "python",
   "nbconvert_exporter": "python",
   "pygments_lexer": "ipython3",
   "version": "3.7.4"
  }
 },
 "nbformat": 4,
 "nbformat_minor": 4
}
