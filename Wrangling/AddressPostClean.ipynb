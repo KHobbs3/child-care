{
 "cells": [
  {
   "cell_type": "markdown",
   "metadata": {},
   "source": [
    "#### Address post cleaning\n",
    "\n",
    "**IN:** parsed file\n",
    "\n",
    "**OUT:** final database file"
   ]
  },
  {
   "cell_type": "code",
   "execution_count": 1,
   "metadata": {},
   "outputs": [],
   "source": [
    "from postal.parser import parse_address\n",
    "import pandas as pd\n",
    "import os\n",
    "import re"
   ]
  },
  {
   "cell_type": "code",
   "execution_count": 2,
   "metadata": {},
   "outputs": [],
   "source": [
    "os.chdir('/Users/kt/Documents/work/STATCAN/ODECF/Wrangling-ODECF/output/childcare/parsed/')"
   ]
  },
  {
   "cell_type": "code",
   "execution_count": 3,
   "metadata": {},
   "outputs": [],
   "source": [
    "df=pd.read_csv('childcare-parsed.csv')"
   ]
  },
  {
   "cell_type": "markdown",
   "metadata": {},
   "source": [
    "---\n",
    "#### Part 3: Completing missing information\n",
    "* province"
   ]
  },
  {
   "cell_type": "code",
   "execution_count": 4,
   "metadata": {},
   "outputs": [],
   "source": [
    "df.loc[df.provider == \"Province of Manitoba\", 'province'] = 'MB'\n",
    "df.loc[df.provider == \"Province of Alberta\", 'province'] = 'AB'\n",
    "df.loc[df.provider == \"Province of Saskatchewan\", 'province'] = 'SK'\n",
    "df.loc[df.provider == \"Province of British Columbia\", 'province'] = 'BC'\n",
    "df.loc[df.provider == \"Province of Quèbec\", 'province'] = 'QC'\n",
    "df.loc[df.provider == \"Province of New Brunswick\", 'province'] = 'NB'\n",
    "df.loc[df.provider == \"Province of Newfoundland and Labrador\", 'province'] = 'NL'\n",
    "df.loc[df.provider == \"Province of Nova Scotia\", 'province'] = 'NS'\n",
    "df.loc[df.provider == \"Province of Prince Edward Island\", 'province'] = 'PE'\n",
    "df.loc[df.provider == \"Nunavut\", 'province'] = 'NU'\n",
    "df.loc[df.provider == \"Yukon Territory\", 'province'] = 'YT'\n",
    "df.loc[df.provider == \"Northwest Territories\", 'province'] = 'NT'"
   ]
  },
  {
   "cell_type": "code",
   "execution_count": 5,
   "metadata": {},
   "outputs": [],
   "source": [
    "df.province = df.province.astype(str) \n",
    "prov_abbrev = {\n",
    "              \"Alberta\": \"AB\",\n",
    "              \"British Columbia\": \"BC\",\n",
    "              \"Saskatchewan\": \"SK\",\n",
    "              \"Manitoba\": \"MB\",\n",
    "              \"Ontario\": \"ON\",\n",
    "              \"Quebec\": \"QC\",\n",
    "              \"Newfoundland And Labrador\": \"NL\",\n",
    "              \"New Brunswick\": \"NB\",\n",
    "              \"Nova Scotia\": \"NS\",\n",
    "              \"Northwest Territories\": \"NT\",\n",
    "              \"Nunavut\": \"NU\",\n",
    "              \"Prince Edward Island\": \"PE\",\n",
    "              \"Yukon Territory\": \"YT\"}\n",
    "\n",
    "def complete_address(x):\n",
    "    \"\"\"Converts full province name to abbreviated in the reference set.\n",
    "    Returns full address with changes intended for improved parsing efficacy.\"\"\"\n",
    "    for k in prov_abbrev.keys():\n",
    "        try:\n",
    "            mach = re.search(k, x)[0]\n",
    "            return x.replace(mach, prov_abbrev[mach])\n",
    "        except TypeError:\n",
    "            pass\n",
    "    return x"
   ]
  },
  {
   "cell_type": "code",
   "execution_count": 6,
   "metadata": {},
   "outputs": [],
   "source": [
    "df.province = df.province.map(lambda x: re.sub(x, complete_address(x), x))"
   ]
  },
  {
   "cell_type": "markdown",
   "metadata": {},
   "source": [
    "* fill city column with those removed from the full_address"
   ]
  },
  {
   "cell_type": "code",
   "execution_count": 7,
   "metadata": {},
   "outputs": [],
   "source": [
    "colsort = ['source_id','name','source_facility_type','facility_type',\n",
    "            'ages', 'capacity', 'infant', 'toddler', 'school_age',\n",
    "           'source_full_address', 'full_address','street_number', 'street_name','unit', 'postal_code', 'city', 'province', \n",
    "           'provider','licence_status', 'longitude', 'latitude']\n",
    "df = df.reindex(colsort, axis=1)"
   ]
  },
  {
   "cell_type": "code",
   "execution_count": 9,
   "metadata": {},
   "outputs": [],
   "source": [
    "# df.drop(columns = ['Unnamed: 0'], inplace = True)"
   ]
  },
  {
   "cell_type": "code",
   "execution_count": 10,
   "metadata": {},
   "outputs": [],
   "source": [
    "df.to_csv('../final/childcare-facilities.csv', encoding = 'utf-8')"
   ]
  }
 ],
 "metadata": {
  "kernelspec": {
   "display_name": "Python 3",
   "language": "python",
   "name": "python3"
  },
  "language_info": {
   "codemirror_mode": {
    "name": "ipython",
    "version": 3
   },
   "file_extension": ".py",
   "mimetype": "text/x-python",
   "name": "python",
   "nbconvert_exporter": "python",
   "pygments_lexer": "ipython3",
   "version": "3.7.4"
  }
 },
 "nbformat": 4,
 "nbformat_minor": 4
}
