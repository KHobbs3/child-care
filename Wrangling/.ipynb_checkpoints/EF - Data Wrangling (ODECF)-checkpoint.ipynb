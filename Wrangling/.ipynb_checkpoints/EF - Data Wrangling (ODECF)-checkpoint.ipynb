{
 "cells": [
  {
   "cell_type": "markdown",
   "metadata": {},
   "source": [
    "#### Educational Facilities Scrape - Wrangling"
   ]
  },
  {
   "cell_type": "code",
   "execution_count": 1,
   "metadata": {},
   "outputs": [],
   "source": [
    "import numpy as np \n",
    "import pandas as pd\n",
    "from postal.parser import parse_address\n",
    "\n",
    "from geopy import *\n",
    "import geopandas\n",
    "from geopy.extra.rate_limiter import RateLimiter\n",
    "\n",
    "import re\n",
    "import time\n",
    "import glob"
   ]
  },
  {
   "cell_type": "code",
   "execution_count": 2,
   "metadata": {},
   "outputs": [
    {
     "name": "stderr",
     "output_type": "stream",
     "text": [
      "//anaconda3/lib/python3.7/site-packages/ipykernel_launcher.py:1: DeprecationWarning: `country_bias` argument of the Nominatim.__init__ is deprecated and will be removed in geopy 2.0. Use Nominatim.geocode(country_codes='CAN') instead.\n",
      "  \"\"\"Entry point for launching an IPython kernel.\n"
     ]
    }
   ],
   "source": [
    "locator = Nominatim(user_agent=\"myGeocoder\", country_bias = \"CAN\")"
   ]
  },
  {
   "cell_type": "code",
   "execution_count": 3,
   "metadata": {},
   "outputs": [],
   "source": [
    "# path = '../Collection-ODECF/data/education/'\n",
    "# file = 'AB-education.csv'\n",
    "# df = pd.read_csv(path + file)"
   ]
  },
  {
   "cell_type": "code",
   "execution_count": 4,
   "metadata": {},
   "outputs": [],
   "source": [
    "paths = glob.glob('../Collection-ODECF/data/education/*-education.csv')\n",
    "files = ['QU', 'NL', 'YU', 'MB', 'NT', 'NB', 'NS', 'AB', 'PE', 'BC', 'SK', 'ON']"
   ]
  },
  {
   "cell_type": "code",
   "execution_count": 10,
   "metadata": {
    "scrolled": true
   },
   "outputs": [
    {
     "name": "stdout",
     "output_type": "stream",
     "text": [
      "QU - cleaning address column\n",
      "QU - adding provider and province columns\n",
      "qu - export\n",
      "NL - cleaning address column\n",
      "NL - adding provider and province columns\n",
      "nl - export\n",
      "YU - cleaning address column\n",
      "YU - adding provider and province columns\n",
      "yu - export\n",
      "MB - cleaning address column\n",
      "MB - adding provider and province columns\n",
      "mb - export\n",
      "NT - cleaning address column\n",
      "NT - adding provider and province columns\n",
      "nt - export\n",
      "NB - cleaning address column\n",
      "NB - adding provider and province columns\n",
      "nb - export\n",
      "NS - cleaning address column\n",
      "NS - adding provider and province columns\n",
      "ns - export\n",
      "AB - cleaning address column\n",
      "AB - adding provider and province columns\n",
      "ab - export\n",
      "PE - cleaning address column\n",
      "PE - adding provider and province columns\n",
      "pe - export\n",
      "BC - cleaning address column\n",
      "BC - adding provider and province columns\n",
      "bc - export\n",
      "SK - cleaning address column\n",
      "SK - adding provider and province columns\n",
      "sk - export\n",
      "ON - cleaning address column\n",
      "ON - adding provider and province columns\n",
      "on - export\n"
     ]
    }
   ],
   "source": [
    "for p,f in zip(paths, files):\n",
    "    df = pd.read_csv(p)\n",
    "    \n",
    "    # clean address column\n",
    "    print(\"{} - cleaning address column\".format(f))\n",
    "    phone = df.Address.str.extract(r'([(]{0,1}[0-9]{3}[)]{0,1}\\s{0,1}\\-{0,1}[0-9]{3}\\-{0,1}[0-9]*)')\n",
    "    df['phone'] = phone\n",
    "    df.Address = df.Address.str.replace(r'([(]{0,1}[0-9]{3}[)]{0,1}\\s{0,1}\\-{0,1}[0-9]{3}\\-{0,1}[0-9]*)', '')\n",
    "    \n",
    "    # add missing columns\n",
    "    print(\"{} - adding provider and province columns\".format(f))\n",
    "    df['provider'] = 'ESDC'\n",
    "    df['province'] = f.lower()\n",
    "    \n",
    "    # geocode\n",
    "#     t = time.localtime(time.time())\n",
    "#     print(\"Geocoding {}\".format(f))\n",
    "#     print(\"Time of epoch = {}:{}:{}\".format(t.tm_hour,t.tm_min, t.tm_sec))\n",
    "\n",
    "#         # 1 - convenient function to delay between geocoding calls\n",
    "#     geocode = RateLimiter(locator.geocode, min_delay_seconds=1)\n",
    "\n",
    "#         # 2 - create location column\n",
    "#     temp_loc = df.Address.apply(geocode)\n",
    "    \n",
    "#         # 3 - create latitude and longitude cols from temp_loc (returns tuple)\n",
    "#     df['latitude'] = temp_loc.apply(lambda loc: tuple(loc.point)[0] if loc else None)\n",
    "#     df['longitude'] = temp_loc.apply(lambda loc: tuple(loc.point)[1] if loc else None)\n",
    "\n",
    "#     print(\"percent coverage: {}\".format(sum(df.latitude.notnull())/len(df)*100))\n",
    "    \n",
    "    # export\n",
    "    print(\"{} - export\".format(f.lower()))\n",
    "    df.to_csv(\"output/education/{}-education.csv\".format(f.lower()))"
   ]
  },
  {
   "cell_type": "markdown",
   "metadata": {},
   "source": [
    "---\n",
    "Parse Address"
   ]
  },
  {
   "cell_type": "code",
   "execution_count": null,
   "metadata": {},
   "outputs": [],
   "source": [
    "res1 = [('6730', 'house_number'), ('university drive', 'road'), ('lacombe', 'city'), ('alberta', 'state'), ('canada', 'country')]\n",
    "res2 = [('university drive', 'road'), ('lacombe', 'city'), ('alberta', 'state'), ('canada', 'country')]\n",
    "\n",
    "def ishousenum(res):\n",
    "    \"\"\" does the house_number already exist in the tuple?\"\"\"\n",
    "    for tup in res:\n",
    "        if 'house_number' == tup[1]:\n",
    "            return True"
   ]
  },
  {
   "cell_type": "code",
   "execution_count": null,
   "metadata": {},
   "outputs": [],
   "source": [
    "def parse_all(x):\n",
    "    res = parse_address(x)\n",
    "    \n",
    "    if ishousenum(res) == True:\n",
    "        pass\n",
    "    else:\n",
    "        res.append(('none', 'house_number'))\n",
    "        \n",
    "    return res\n",
    "\n",
    "parsed = df.Address.map(parse_all)"
   ]
  },
  {
   "cell_type": "code",
   "execution_count": null,
   "metadata": {},
   "outputs": [],
   "source": [
    "parsed"
   ]
  },
  {
   "cell_type": "code",
   "execution_count": null,
   "metadata": {},
   "outputs": [],
   "source": [
    "def Convert(tup, di):\n",
    "    for v, k in tup:\n",
    "        di.setdefault(k, []).append(v) \n",
    "    return di \n",
    "      \n",
    "dictionary = {} \n",
    "parsed.map(lambda x: Convert(x, dictionary))"
   ]
  },
  {
   "cell_type": "code",
   "execution_count": null,
   "metadata": {},
   "outputs": [],
   "source": [
    "len(dictionary['postcode'])"
   ]
  },
  {
   "cell_type": "code",
   "execution_count": null,
   "metadata": {},
   "outputs": [],
   "source": [
    "dictionary"
   ]
  },
  {
   "cell_type": "code",
   "execution_count": null,
   "metadata": {},
   "outputs": [],
   "source": [
    "df['street_number'] = dictionary['house_number']\n",
    "df['street_name'] = dictionary['road']\n",
    "df['city'] = dictionary['city']\n",
    "df['unit'] = dictionary['unit']\n",
    "df['postal_code'] = dictionary['postcode']"
   ]
  },
  {
   "cell_type": "code",
   "execution_count": null,
   "metadata": {},
   "outputs": [],
   "source": [
    "ab['street_name'] = str_name\n",
    "ab['street_number'] = str_num"
   ]
  }
 ],
 "metadata": {
  "kernelspec": {
   "display_name": "Python 3",
   "language": "python",
   "name": "python3"
  },
  "language_info": {
   "codemirror_mode": {
    "name": "ipython",
    "version": 3
   },
   "file_extension": ".py",
   "mimetype": "text/x-python",
   "name": "python",
   "nbconvert_exporter": "python",
   "pygments_lexer": "ipython3",
   "version": "3.7.4"
  }
 },
 "nbformat": 4,
 "nbformat_minor": 4
}
