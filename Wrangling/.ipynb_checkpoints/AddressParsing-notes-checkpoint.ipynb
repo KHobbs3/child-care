{
 "cells": [
  {
   "cell_type": "markdown",
   "metadata": {},
   "source": [
    "### Address Parsing\n",
    "\n",
    "**Full dataset is separated into two parts:**\n",
    "\n",
    "1. All provinces/sources - (NB, godaycare.com)\n",
    "2. NB, godaycare.com which have city and 2-letter province abbreviations in `full_address`"
   ]
  },
  {
   "cell_type": "code",
   "execution_count": 55,
   "metadata": {},
   "outputs": [],
   "source": [
    "from postal.parser import parse_address\n",
    "import pandas as pd\n",
    "import os\n",
    "import re"
   ]
  },
  {
   "cell_type": "code",
   "execution_count": 56,
   "metadata": {},
   "outputs": [],
   "source": [
    "os.chdir('/Users/kt/Documents/work/STATCAN/ODECF/Wrangling-ODECF/output/childcare/merged/')"
   ]
  },
  {
   "cell_type": "code",
   "execution_count": 57,
   "metadata": {},
   "outputs": [],
   "source": [
    "cc1 = pd.read_csv('childcare-1.csv')"
   ]
  },
  {
   "cell_type": "markdown",
   "metadata": {},
   "source": [
    "---\n",
    "#### Pre-processing\n",
    "1. remove phone numbers from `full_address`\n",
    "2. remove postal codes from `full_address` and fill nas in `postal_code`\n",
    "3. remove province names from `full_address`\n",
    "4. general cleaning of `full_address` (remove unwanted char)"
   ]
  },
  {
   "cell_type": "markdown",
   "metadata": {},
   "source": [
    "1. remove phone numbers from `full_address`"
   ]
  },
  {
   "cell_type": "code",
   "execution_count": 58,
   "metadata": {},
   "outputs": [],
   "source": [
    "def phone_rmv(x):\n",
    "    \"\"\"To remove phone numbers structured as ' (XXX) XXX-XXXX' from full address column.\"\"\"\n",
    "    try:\n",
    "        p = re.compile('\\s\\(\\d{3}\\)\\s\\d{3}\\-\\d{4}')\n",
    "        p.search(x)[0]\n",
    "        update = x.replace(p.search(x)[0], '')\n",
    "        return update\n",
    "    except TypeError:\n",
    "        return x"
   ]
  },
  {
   "cell_type": "code",
   "execution_count": 59,
   "metadata": {},
   "outputs": [],
   "source": [
    "cc1.full_address = cc1.full_address.map(phone_rmv)"
   ]
  },
  {
   "cell_type": "markdown",
   "metadata": {},
   "source": [
    "2. remove postal codes from `full_address` and fill nas in `postal_code`"
   ]
  },
  {
   "cell_type": "code",
   "execution_count": 60,
   "metadata": {},
   "outputs": [],
   "source": [
    "pcs=[]\n",
    "def pc_extract(x):\n",
    "    \"\"\"To extract postal code from full address and place in list, \n",
    "    which can be appended to df and fill NAs in postal code column.\n",
    "    Also returns full address with postal code removed.\"\"\"\n",
    "    try:\n",
    "        pc = re.compile('[A-Z]{1}\\d{1}[A-Z]{1}\\s\\d{1}[A-Z]{1}\\d{1}')\n",
    "        pcs.append(pc.search(x)[0])\n",
    "        return x.replace(pc.search(x)[0], '')\n",
    "    except TypeError:\n",
    "        pcs.append(None)\n",
    "        return x\n",
    "    \n",
    "cc1.full_address = cc1.full_address.map(pc_extract)\n",
    "\n",
    "# fill missing postal codes from what was extracted from full address using pc_extract\n",
    "cc1.postal_code.fillna(value = pd.Series(pcs),inplace = True)"
   ]
  },
  {
   "cell_type": "code",
   "execution_count": 61,
   "metadata": {},
   "outputs": [],
   "source": [
    "# cc1.loc[cc1.provider == 'Province of Manitoba', 'full_address'] = cc1.loc[cc1.provider == 'Province of Manitoba', 'full_address'].map(lambda x: x + \", Canada\" if x != \"None\" else x)"
   ]
  },
  {
   "cell_type": "code",
   "execution_count": 62,
   "metadata": {},
   "outputs": [],
   "source": [
    "# cc1.loc[cc1.provider == 'Province of Saskatchewan', 'full_address'] = cc1.loc[cc1.provider == 'Province of Saskatchewan', 'full_address'].map(lambda x: x + \", Canada\" if x != \"None\" else x)"
   ]
  },
  {
   "cell_type": "markdown",
   "metadata": {},
   "source": [
    "3. Convert 2-letter province abbreviations to full. Complete address for better parsing."
   ]
  },
  {
   "cell_type": "code",
   "execution_count": 63,
   "metadata": {},
   "outputs": [],
   "source": [
    "prov_abbrev = {\n",
    "              \"Alberta\": \"AB\",\n",
    "              \"British Columbia\": \"BC\",\n",
    "              \"Saskatchewan\": \"SK\",\n",
    "              \"Manitoba\": \"MB\",\n",
    "              \"Ontario\": \"ON\",\n",
    "              \"Quebec\": \"QC\",\n",
    "              \"Newfoundland And Labrador\": \"NL\",\n",
    "              \"New Brunswick\": \"NB\",\n",
    "              \"Nova Scotia\": \"NS\",\n",
    "              \"Northwest Territories\": \"NT\",\n",
    "              \"Nunavut\": \"NU\",\n",
    "              \"Prince Edward Island\": \"PE\",\n",
    "              \"Yukon Territory\": \"YT\"}\n",
    "\n",
    "long_prov = dict((v, k) for k, v in prov_abbrev.items())"
   ]
  },
  {
   "cell_type": "code",
   "execution_count": 84,
   "metadata": {},
   "outputs": [],
   "source": [
    "def complete_address(x):\n",
    "    \"\"\"Converts abbreviated province name to full and appends Canada.\n",
    "    Returns full address with changes for improved parsing efficacy.\"\"\"\n",
    "    for k in long_prov.keys():\n",
    "        try:\n",
    "            mach = re.search(k, x)[0]\n",
    "            return x.replace(mach, long_prov[mach] + \", Canada\")\n",
    "        except TypeError:\n",
    "            pass\n",
    "    return x"
   ]
  },
  {
   "cell_type": "code",
   "execution_count": 83,
   "metadata": {},
   "outputs": [],
   "source": [
    "t = '16 Elm Street Thompson, MB'\n",
    "for k in long_prov.keys():\n",
    "    try:\n",
    "        if m = re.search(k,t)[0]:\n",
    "            print(t.replace(m, long_prov[m] + ', Canada'))\n",
    "    except TypeError:\n",
    "        pass\n"
   ]
  },
  {
   "cell_type": "code",
   "execution_count": 86,
   "metadata": {},
   "outputs": [
    {
     "data": {
      "text/plain": [
       "'16 Elm Street Thompson'"
      ]
     },
     "execution_count": 86,
     "metadata": {},
     "output_type": "execute_result"
    }
   ],
   "source": [
    "complete_address('16 Elm Street Thompson')"
   ]
  },
  {
   "cell_type": "code",
   "execution_count": 91,
   "metadata": {},
   "outputs": [],
   "source": [
    "cc1['full_address'] = cc1.full_address.map(lambda x: complete_address(x))"
   ]
  },
  {
   "cell_type": "code",
   "execution_count": 92,
   "metadata": {},
   "outputs": [],
   "source": [
    "# cc1[['full_address', 'temp_address', 'provider']].to_csv('../parsed/check.csv')"
   ]
  },
  {
   "cell_type": "markdown",
   "metadata": {},
   "source": [
    "3. general clean up"
   ]
  },
  {
   "cell_type": "code",
   "execution_count": 93,
   "metadata": {
    "scrolled": true
   },
   "outputs": [],
   "source": [
    "# clean up YT\n",
    "cc1.loc[cc1.provider == 'Yukon Territory'].full_address.replace({', ':''}, regex=True, inplace = True)"
   ]
  },
  {
   "cell_type": "code",
   "execution_count": 94,
   "metadata": {},
   "outputs": [],
   "source": [
    "# remove commas from AB and QC to improve parser\n",
    "cc1[(cc1.provider == 'Province of Alberta') | (cc1.provider == 'Province of Quèbec')].full_address.replace({',':''}, regex=True, inplace = True)"
   ]
  },
  {
   "cell_type": "markdown",
   "metadata": {},
   "source": [
    "---\n",
    "### **Address Parse section 1**"
   ]
  },
  {
   "cell_type": "code",
   "execution_count": 95,
   "metadata": {},
   "outputs": [],
   "source": [
    "cc1.full_address = cc1.full_address.astype(str)\n",
    "parsed = cc1.full_address.map(parse_address)"
   ]
  },
  {
   "cell_type": "code",
   "execution_count": 96,
   "metadata": {},
   "outputs": [],
   "source": [
    "units = [x[0][0] if len(x) == 3 else None for x in parsed]\n",
    "str_num = [x[0][0] if len(x) == 2 else (x[1][0] if len(x) == 3 else None) for x in parsed]\n",
    "str_name = [x[1][0] if len(x) == 2 else (x[2][0] if len(x) == 3 else None) for x in parsed]"
   ]
  },
  {
   "cell_type": "code",
   "execution_count": 97,
   "metadata": {},
   "outputs": [],
   "source": [
    "cc1['unit'] = pd.Series(units)\n",
    "cc1.street_name.fillna(value = pd.Series(str_name), inplace = True)\n",
    "cc1.street_number.fillna(value = pd.Series(str_num), inplace = True)"
   ]
  },
  {
   "cell_type": "markdown",
   "metadata": {},
   "source": [
    "Export sample:"
   ]
  },
  {
   "cell_type": "code",
   "execution_count": 98,
   "metadata": {},
   "outputs": [],
   "source": [
    "cc1.sample(int(len(cc1)*0.02)).to_csv(\"../parsed/childcare-0.02-percent.csv\", encoding = \"utf-8-sig\")"
   ]
  },
  {
   "cell_type": "code",
   "execution_count": null,
   "metadata": {
    "scrolled": true
   },
   "outputs": [],
   "source": [
    "# cc.set_index('provider').filter(regex='GoDayCare\\.com', axis =0)"
   ]
  },
  {
   "cell_type": "markdown",
   "metadata": {},
   "source": [
    "---\n",
    "Part 2:\n",
    "---\n",
    "NB + godaycare.com data"
   ]
  },
  {
   "cell_type": "code",
   "execution_count": null,
   "metadata": {},
   "outputs": [],
   "source": [
    "cc2 = pd.read_csv('childcare-2.csv')\n",
    "cc2.full_address=cc2.full_address.astype(str)"
   ]
  },
  {
   "cell_type": "markdown",
   "metadata": {},
   "source": [
    "Remove postal code and phonenumber"
   ]
  },
  {
   "cell_type": "code",
   "execution_count": null,
   "metadata": {},
   "outputs": [],
   "source": [
    "cc2.full_address = cc2.full_address.map(phone_rmv)\n",
    "cc2.full_address = cc2.full_address.map(pc_extract)"
   ]
  },
  {
   "cell_type": "markdown",
   "metadata": {},
   "source": [
    "Format full_address and remove city and 2-letter province abbreviations"
   ]
  },
  {
   "cell_type": "code",
   "execution_count": null,
   "metadata": {},
   "outputs": [],
   "source": [
    "## add prov to new brunswick to catch cities for removal\n",
    "cc2.loc[cc2.provider == 'Province of New Brunswick', 'full_address'] = cc2.loc[cc2.provider == 'Province of New Brunswick', 'full_address'].map(lambda x: x + \"NB\")"
   ]
  },
  {
   "cell_type": "code",
   "execution_count": null,
   "metadata": {},
   "outputs": [],
   "source": [
    "cc2.full_address.replace({',':''},regex = True, inplace = True)"
   ]
  },
  {
   "cell_type": "code",
   "execution_count": 18,
   "metadata": {},
   "outputs": [],
   "source": [
    "# grab list of all cities and provinces used in GoDayCare.com facilities\n",
    "# godc_prov = cc2.loc[cc2.provider == 'GoDayCare.com'].province.astype(str).to_list()\n",
    "# godc_cit = cc2.loc[cc2.provider == 'GoDayCare.com'].city.astype(str).to_list()\n",
    "\n"
   ]
  },
  {
   "cell_type": "code",
   "execution_count": null,
   "metadata": {},
   "outputs": [],
   "source": [
    "def prov_convert(x):\n",
    "    \"\"\"convert full province name to 2-letter abbreviation\"\"\"\n",
    "    if x in prov_abbrev.keys():\n",
    "        return prov_abbrev[x]\n",
    "\n",
    "godc_prov_abb = []\n",
    "\n",
    "for p in godc_prov:\n",
    "    godc_prov_abb.append(prov_convert(p))"
   ]
  },
  {
   "cell_type": "code",
   "execution_count": null,
   "metadata": {},
   "outputs": [],
   "source": [
    "# create unique set of city - province concatenations to reference in full_address for removal\n",
    "citprov = set()\n",
    "for c,p in zip(godc_cit, godc_prov_abb):\n",
    "    citprov.add(\"{} {}\".format(c,p))"
   ]
  },
  {
   "cell_type": "code",
   "execution_count": null,
   "metadata": {},
   "outputs": [],
   "source": [
    "def citprov_rmv2(x):\n",
    "    for cp in citprov:\n",
    "        if cp.lower() in x.lower():\n",
    "#             print(\"{} in {}\".format(cp, x))\n",
    "            return x.lower().replace(cp.lower(), '')\n",
    "        else:\n",
    "            pass\n",
    "            \n",
    "            \n",
    "cc2['temp_address'] = cc2.full_address.map(citprov_rmv2)"
   ]
  },
  {
   "cell_type": "code",
   "execution_count": null,
   "metadata": {},
   "outputs": [],
   "source": [
    "cc2.temp_address.replace({'NB': ''}, regex = True, inplace = True)"
   ]
  },
  {
   "cell_type": "code",
   "execution_count": null,
   "metadata": {},
   "outputs": [],
   "source": [
    "cc2.temp_address.fillna(value = cc2.full_address, inplace = True)"
   ]
  },
  {
   "cell_type": "markdown",
   "metadata": {},
   "source": [
    "Check:"
   ]
  },
  {
   "cell_type": "code",
   "execution_count": null,
   "metadata": {},
   "outputs": [],
   "source": [
    "cc2[['full_address', 'temp_address', 'provider', 'province']].to_csv('../parsed/citprov_removal.csv', encoding = 'utf-8-sig')"
   ]
  },
  {
   "cell_type": "markdown",
   "metadata": {},
   "source": [
    "---\n",
    "#### Parsing"
   ]
  },
  {
   "cell_type": "code",
   "execution_count": null,
   "metadata": {},
   "outputs": [],
   "source": []
  }
 ],
 "metadata": {
  "kernelspec": {
   "display_name": "Python 3",
   "language": "python",
   "name": "python3"
  },
  "language_info": {
   "codemirror_mode": {
    "name": "ipython",
    "version": 3
   },
   "file_extension": ".py",
   "mimetype": "text/x-python",
   "name": "python",
   "nbconvert_exporter": "python",
   "pygments_lexer": "ipython3",
   "version": "3.7.4"
  }
 },
 "nbformat": 4,
 "nbformat_minor": 4
}
