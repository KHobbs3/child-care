{
 "cells": [
  {
   "cell_type": "markdown",
   "metadata": {},
   "source": [
    "#### Address parsing\n",
    "\n",
    "**IN:** cleaned file\n",
    "\n",
    "**OUT:** parsed file"
   ]
  },
  {
   "cell_type": "code",
   "execution_count": 1,
   "metadata": {},
   "outputs": [],
   "source": [
    "from postal.parser import parse_address\n",
    "import pandas as pd\n",
    "import os\n",
    "import re"
   ]
  },
  {
   "cell_type": "code",
   "execution_count": 3,
   "metadata": {},
   "outputs": [],
   "source": [
    "os.chdir('/Users/kt/Documents/work/STATCAN/ODECF/Wrangling-ODECF/output/childcare/precleaned/')"
   ]
  },
  {
   "cell_type": "code",
   "execution_count": 4,
   "metadata": {},
   "outputs": [],
   "source": [
    "df=pd.read_csv('childcare-precleaned.csv')"
   ]
  },
  {
   "cell_type": "code",
   "execution_count": 5,
   "metadata": {},
   "outputs": [],
   "source": [
    "df.full_address = df.full_address.astype(str)\n",
    "parsed = df.full_address.map(parse_address)"
   ]
  },
  {
   "cell_type": "code",
   "execution_count": 6,
   "metadata": {},
   "outputs": [
    {
     "data": {
      "text/plain": [
       "{'house': [],\n",
       " 'city_district': [],\n",
       " 'country': [],\n",
       " 'city': [],\n",
       " 'po_box': [],\n",
       " 'postcode': [],\n",
       " 'unit': [],\n",
       " 'suburb': [],\n",
       " 'state_district': [],\n",
       " 'level': [],\n",
       " 'island': [],\n",
       " 'house_number': [],\n",
       " 'road': [],\n",
       " 'state': []}"
      ]
     },
     "execution_count": 6,
     "metadata": {},
     "output_type": "execute_result"
    }
   ],
   "source": [
    "# initialize dictionary\n",
    "keys = set()\n",
    "for p in parsed:\n",
    "        for v,k in p:\n",
    "            keys.add(k)\n",
    "            \n",
    "parsed_dict = {k: [] for k in keys} \n",
    "parsed_dict"
   ]
  },
  {
   "cell_type": "code",
   "execution_count": 7,
   "metadata": {},
   "outputs": [],
   "source": [
    "keylst = [k for k in keys]"
   ]
  },
  {
   "cell_type": "code",
   "execution_count": 8,
   "metadata": {},
   "outputs": [],
   "source": [
    "master = {k: [] for k in keys} \n",
    "master\n",
    "\n",
    "for p in parsed:\n",
    "    # make a dict of all the keys and values in each address parse\n",
    "    currentkeys = []\n",
    "    \n",
    "    # separate the parsed tuple and add to list\n",
    "    for v,k in p:\n",
    "        currentkeys.append(k)\n",
    "    \n",
    "    # initialize dictionary for current address parse bits\n",
    "    current = {k: [] for k in currentkeys} \n",
    "    \n",
    "    # complete current dictionary\n",
    "    for v,k in p:\n",
    "        current[k] = v\n",
    "        \n",
    "    # iter through all the possible keys in master dict, which need to be of equal length\n",
    "    for masterkey in keylst:\n",
    "        # if theres the dict key in current address, retrieve the value and append it to our master dict\n",
    "        if masterkey in current.keys():\n",
    "            master[masterkey].append(current[masterkey])\n",
    "\n",
    "        # else, append a space holder\n",
    "        else:\n",
    "            master[masterkey].append('')\n",
    "\n"
   ]
  },
  {
   "cell_type": "code",
   "execution_count": 9,
   "metadata": {},
   "outputs": [
    {
     "name": "stdout",
     "output_type": "stream",
     "text": [
      "house 25162\n",
      "city_district 25162\n",
      "country 25162\n",
      "city 25162\n",
      "po_box 25162\n",
      "postcode 25162\n",
      "unit 25162\n",
      "suburb 25162\n",
      "state_district 25162\n",
      "level 25162\n",
      "island 25162\n",
      "house_number 25162\n",
      "road 25162\n",
      "state 25162\n"
     ]
    }
   ],
   "source": [
    "for k,v in master.items():\n",
    "    print(k, len(v))"
   ]
  },
  {
   "cell_type": "code",
   "execution_count": 10,
   "metadata": {},
   "outputs": [],
   "source": [
    "master_df = pd.DataFrame(master)"
   ]
  },
  {
   "cell_type": "code",
   "execution_count": 11,
   "metadata": {},
   "outputs": [],
   "source": [
    "df['unit'] = master_df.unit\n",
    "df.street_name.fillna(value = master_df.road, inplace = True)\n",
    "df.street_number.fillna(value = master_df.house_number, inplace = True)\n",
    "# df.street_number.fillna(value = master_df.postcode, inplace = True)\n",
    "df.unit.fillna(value = master_df.level, inplace = True)"
   ]
  },
  {
   "cell_type": "markdown",
   "metadata": {},
   "source": [
    "Export 5% sample"
   ]
  },
  {
   "cell_type": "code",
   "execution_count": null,
   "metadata": {},
   "outputs": [],
   "source": [
    "# df[['name', 'source_full_address', 'full_address', 'street_number', 'street_name', 'unit', 'city', 'province', 'provider']].to_csv(\"../childcare-validate.csv\", encoding = \"utf-8-sig\")"
   ]
  },
  {
   "cell_type": "code",
   "execution_count": 13,
   "metadata": {},
   "outputs": [
    {
     "data": {
      "text/plain": [
       "'/Users/kt/Documents/work/STATCAN/ODECF/Wrangling-ODECF/output/childcare/precleaned'"
      ]
     },
     "execution_count": 13,
     "metadata": {},
     "output_type": "execute_result"
    }
   ],
   "source": [
    "os.getcwd()"
   ]
  },
  {
   "cell_type": "code",
   "execution_count": 18,
   "metadata": {},
   "outputs": [],
   "source": [
    "df.city.fillna(value = pd.Series(master['city']), inplace = True)"
   ]
  },
  {
   "cell_type": "code",
   "execution_count": 19,
   "metadata": {},
   "outputs": [],
   "source": [
    "df.to_csv('../parsed/childcare-parsed.csv')"
   ]
  }
 ],
 "metadata": {
  "kernelspec": {
   "display_name": "Python 3",
   "language": "python",
   "name": "python3"
  },
  "language_info": {
   "codemirror_mode": {
    "name": "ipython",
    "version": 3
   },
   "file_extension": ".py",
   "mimetype": "text/x-python",
   "name": "python",
   "nbconvert_exporter": "python",
   "pygments_lexer": "ipython3",
   "version": "3.7.4"
  }
 },
 "nbformat": 4,
 "nbformat_minor": 4
}
