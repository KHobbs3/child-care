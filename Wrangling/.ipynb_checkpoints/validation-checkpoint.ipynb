{
 "cells": [
  {
   "cell_type": "code",
   "execution_count": 1,
   "metadata": {},
   "outputs": [],
   "source": [
    "import pandas as pd\n",
    "import glob\n",
    "import os"
   ]
  },
  {
   "cell_type": "code",
   "execution_count": 2,
   "metadata": {},
   "outputs": [],
   "source": [
    "master = pd.read_csv('output/childcare/parsed/childcare-parsed.csv')"
   ]
  },
  {
   "cell_type": "code",
   "execution_count": 3,
   "metadata": {},
   "outputs": [],
   "source": [
    "# 1--------\n",
    "# determine number of rows for each of the file prior to deduplication\n",
    "os.chdir('/Users/kt/.config/opentabulate.con/data/output/')\n",
    "\n",
    "orig = []\n",
    "orig_len = []\n",
    "for c in glob.glob('*.csv'):\n",
    "    orig.append(c)\n",
    "    orig_len.append(len(pd.read_csv(c)))\n",
    "\n",
    "# 2--------\n",
    "# determine number of rows for each of the deduplicated files\n",
    "os.chdir('/Users/kt/Documents/work/STATCAN/ODECF/Wrangling-ODECF/output/childcare/deduplicated/')\n",
    "\n",
    "dedup = []\n",
    "len_each = []\n",
    "\n",
    "for c in glob.glob('*.csv'):\n",
    "    dedup.append(c)\n",
    "    len_each.append(len(pd.read_csv(c)))\n",
    "    \n",
    "# + determine number of rows for each of the standardized (non-duplicated) files\n",
    "os.chdir('/Users/kt/.config/opentabulate.con/data/output/')\n",
    "\n",
    "std = []\n",
    "\n",
    "for c in glob.glob('*.csv'):\n",
    "    if c not in dedup:\n",
    "        std.append(c)\n",
    "        len_each.append(len(pd.read_csv(c)))"
   ]
  },
  {
   "cell_type": "code",
   "execution_count": 4,
   "metadata": {},
   "outputs": [
    {
     "name": "stdout",
     "output_type": "stream",
     "text": [
      "Rows before deduplication: 44408\n",
      "Rows after deduplication: 25162\n",
      "Rows after merge: 25162\n"
     ]
    }
   ],
   "source": [
    "print(\"Rows before deduplication: {}\\nRows after deduplication: {}\\nRows after merge: {}\".format(sum(orig_len), sum(len_each), len(master)))"
   ]
  },
  {
   "cell_type": "code",
   "execution_count": 23,
   "metadata": {},
   "outputs": [
    {
     "name": "stdout",
     "output_type": "stream",
     "text": [
      "NT-childcare.csv === before: 282\n",
      "NB-childcare.csv === before: 826\n",
      "NS-childcare.csv === before: 367\n",
      "AB-childcare.csv === before: 17282\n",
      "NL-childcare.csv === before: 185\n",
      "MB-childcare.csv === before: 2284\n",
      "QC-childcare.csv === before: 7096\n",
      "PE-childcare.csv === before: 77\n",
      "BC-childcare.csv === before: 5030\n",
      "SK-childcare.csv === before: 580\n",
      "ON-childcare.csv === before: 6995\n",
      "YT-childcare.csv === before: 50\n",
      "NU-childcare.csv === before: 61\n",
      "godaycare.csv === before: 3293\n"
     ]
    }
   ],
   "source": [
    "# 3----------\n",
    "# orig - deduplicated lengths to determine the expected number of rows removed from each\n",
    "\n",
    "os.chdir('/Users/kt/Documents/work/STATCAN/ODECF/Wrangling-ODECF/output/childcare/deduplicated/')\n",
    "for o, ol in zip(orig, orig_len):\n",
    "        print(\"{} === before: {}\".format(o, ol))"
   ]
  },
  {
   "cell_type": "code",
   "execution_count": 21,
   "metadata": {},
   "outputs": [
    {
     "name": "stdout",
     "output_type": "stream",
     "text": [
      "NT-childcare.csv === after: 131\n",
      "NB-childcare.csv === after: 824\n",
      "AB-childcare.csv === after: 2918\n",
      "MB-childcare.csv === after: 1110\n",
      "QC-childcare.csv === after: 3573\n",
      "ON-childcare.csv === after: 6992\n",
      "godaycare.csv === after: 3264\n"
     ]
    },
    {
     "data": {
      "text/plain": [
       "'godaycare.csv'"
      ]
     },
     "execution_count": 21,
     "metadata": {},
     "output_type": "execute_result"
    }
   ],
   "source": [
    "os.chdir('/Users/kt/Documents/work/STATCAN/ODECF/Wrangling-ODECF/output/childcare/deduplicated/')\n",
    "\n",
    "for d in dedup:\n",
    "    print(\"{} === after: {}\".format(d, len(pd.read_csv(d))))"
   ]
  },
  {
   "cell_type": "code",
   "execution_count": 28,
   "metadata": {},
   "outputs": [
    {
     "name": "stdout",
     "output_type": "stream",
     "text": [
      "Expected rows removed from deduplication: 19246\n"
     ]
    }
   ],
   "source": [
    "ntdiff = 282 - 131\n",
    "nbdiff = 826-824\n",
    "abdiff = 17282 - 2918\n",
    "mbdiff = 2284-1110\n",
    "qcdiff = 7096-3573\n",
    "ondiff = 6995-6992\n",
    "gdcdiff = 3293-3264\n",
    "\n",
    "diffs = [ntdiff, nbdiff, abdiff, mbdiff, qcdiff, ondiff, gdcdiff]\n"
   ]
  },
  {
   "cell_type": "code",
   "execution_count": 31,
   "metadata": {},
   "outputs": [
    {
     "name": "stdout",
     "output_type": "stream",
     "text": [
      "Expected rows removed from deduplication: 19246\n",
      "Rows removed from deduplication: 19246\n",
      "Expected final row count: 25162\n",
      "Actual final row count: 25162\n"
     ]
    }
   ],
   "source": [
    "print(\"Expected rows removed from deduplication: {}\\nRows removed from deduplication: {}\\nExpected final row count: {}\\nActual final row count: {}\".format(sum(diffs), sum(orig_len) - sum(len_each), sum(orig_len)-sum(diffs), len(master)))"
   ]
  }
 ],
 "metadata": {
  "kernelspec": {
   "display_name": "Python 3",
   "language": "python",
   "name": "python3"
  },
  "language_info": {
   "codemirror_mode": {
    "name": "ipython",
    "version": 3
   },
   "file_extension": ".py",
   "mimetype": "text/x-python",
   "name": "python",
   "nbconvert_exporter": "python",
   "pygments_lexer": "ipython3",
   "version": "3.7.4"
  }
 },
 "nbformat": 4,
 "nbformat_minor": 4
}
