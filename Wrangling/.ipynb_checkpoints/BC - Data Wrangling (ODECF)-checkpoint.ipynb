{
 "cells": [
  {
   "cell_type": "markdown",
   "metadata": {},
   "source": [
    "### British Columbia data\n",
    "Retreived from: \n",
    "1. https://catalogue.data.gov.bc.ca/dataset/child-care-map-data\n",
    "2. https://catalogue.data.gov.bc.ca/dataset/strongstart-bc-centre-locations"
   ]
  },
  {
   "cell_type": "code",
   "execution_count": 54,
   "metadata": {},
   "outputs": [],
   "source": [
    "import numpy as np \n",
    "import pandas as pd\n",
    "from postal.parser import parse_address"
   ]
  },
  {
   "cell_type": "code",
   "execution_count": 55,
   "metadata": {},
   "outputs": [],
   "source": [
    "bc_childcare = pd.read_csv('../Collection-ODECF/data/childcare/BC-childcare_locations.csv')\n",
    "bc_ss = pd.read_csv('../Collection-ODECF/data/childcare/BC-strongstarts20200828.csv')"
   ]
  },
  {
   "cell_type": "markdown",
   "metadata": {},
   "source": [
    "1. **Concatenate childcare and smartstart dataframes**"
   ]
  },
  {
   "cell_type": "code",
   "execution_count": 56,
   "metadata": {},
   "outputs": [],
   "source": [
    "bc_childcare.rename(columns = {'NAME' : 'FACILITY NAME',\n",
    "                              'ADDRESS_1' : 'FACILITY ADDRESS',\n",
    "                               'CITY' : 'FACILITY_CITY',\n",
    "                              'POSTAL_CODE' : 'FACILITY_POSTAL_CODE'\n",
    "                              }, inplace = True)"
   ]
  },
  {
   "cell_type": "code",
   "execution_count": 57,
   "metadata": {},
   "outputs": [
    {
     "name": "stdout",
     "output_type": "stream",
     "text": [
      "expected concatenated length:  5318\n",
      "expected concatenated cols (total - 4 same): 55\n"
     ]
    }
   ],
   "source": [
    "print(#\"bc_ss length: \", len(bc_ss), \n",
    "      #\"childcare length:\", len(bc_childcare), \n",
    "      \"expected concatenated length: \", len(bc_ss) + len(bc_childcare))\n",
    "\n",
    "print(#\"smartstart cols:\", len(bc_ss.columns), \n",
    "      #\"childcare cols:\", len(bc_childcare.columns),\n",
    "     \"expected concatenated cols (total - 4 same):\", len(bc_ss.columns) + len(bc_childcare.columns) - 4)"
   ]
  },
  {
   "cell_type": "code",
   "execution_count": 58,
   "metadata": {},
   "outputs": [
    {
     "name": "stdout",
     "output_type": "stream",
     "text": [
      "rows: 5318 cols: 55\n"
     ]
    }
   ],
   "source": [
    "BC = pd.concat([bc_childcare, bc_ss], ignore_index=True)\n",
    "print(\"rows:\", len(BC), \"cols:\", len(BC.columns))"
   ]
  },
  {
   "cell_type": "code",
   "execution_count": 59,
   "metadata": {},
   "outputs": [],
   "source": [
    "BC.to_csv('output/childcare/bc-childcare.csv')"
   ]
  },
  {
   "cell_type": "markdown",
   "metadata": {},
   "source": [
    "1. Add missing mandatory columns"
   ]
  },
  {
   "cell_type": "code",
   "execution_count": 60,
   "metadata": {},
   "outputs": [],
   "source": [
    "# bc_childcare['provider'] = 'Province of British Columbia'\n",
    "# bc_ss['provider'] = 'Province of British Columbia'\n",
    "\n",
    "# bc_childcare['province'] = 'bc'\n",
    "# bc_ss['province'] = 'bc'"
   ]
  },
  {
   "cell_type": "markdown",
   "metadata": {},
   "source": [
    "2. Rename existing mandatory columns"
   ]
  },
  {
   "cell_type": "code",
   "execution_count": 61,
   "metadata": {
    "scrolled": true
   },
   "outputs": [],
   "source": [
    "# bc_childcare.info()\n",
    "# bc_childcare.head()"
   ]
  },
  {
   "cell_type": "code",
   "execution_count": 62,
   "metadata": {
    "scrolled": true
   },
   "outputs": [],
   "source": [
    "# bc_ss.info()\n",
    "# bc_ss.head()"
   ]
  },
  {
   "cell_type": "markdown",
   "metadata": {},
   "source": [
    "----"
   ]
  },
  {
   "cell_type": "markdown",
   "metadata": {},
   "source": [
    "---"
   ]
  },
  {
   "cell_type": "markdown",
   "metadata": {},
   "source": [
    "4. **<mark> Manually add missing mandatory columns </mark>**\n",
    "    * clean non-null `ADDRESS_2` \n",
    "        * Swap with `ADDRESS_1` where sensical\n",
    "    * parse `ADDRESS_1` using libpostal"
   ]
  },
  {
   "cell_type": "markdown",
   "metadata": {},
   "source": [
    "*Swapping `full_address` and `ADDRESS2` where sensical*"
   ]
  },
  {
   "cell_type": "code",
   "execution_count": 63,
   "metadata": {},
   "outputs": [],
   "source": [
    "# indices to swap: 2110, 4078, 4114, 4115, 4549, 4954, 4995 \n",
    "swap = [2116, 4087, 4123, 4124, 4213, 4558, 4962, 5003]\n",
    "\n",
    "# BC.iloc[swap]"
   ]
  },
  {
   "cell_type": "code",
   "execution_count": 64,
   "metadata": {},
   "outputs": [
    {
     "ename": "AttributeError",
     "evalue": "'DataFrame' object has no attribute 'full_address'",
     "output_type": "error",
     "traceback": [
      "\u001b[0;31m---------------------------------------------------------------------------\u001b[0m",
      "\u001b[0;31mAttributeError\u001b[0m                            Traceback (most recent call last)",
      "\u001b[0;32m<ipython-input-64-b9adc3614f80>\u001b[0m in \u001b[0;36m<module>\u001b[0;34m\u001b[0m\n\u001b[0;32m----> 1\u001b[0;31m \u001b[0mtempfull\u001b[0m \u001b[0;34m=\u001b[0m \u001b[0mBC\u001b[0m\u001b[0;34m.\u001b[0m\u001b[0miloc\u001b[0m\u001b[0;34m[\u001b[0m\u001b[0mswap\u001b[0m\u001b[0;34m]\u001b[0m\u001b[0;34m.\u001b[0m\u001b[0mfull_address\u001b[0m\u001b[0;34m.\u001b[0m\u001b[0mto_list\u001b[0m\u001b[0;34m(\u001b[0m\u001b[0;34m)\u001b[0m\u001b[0;34m\u001b[0m\u001b[0;34m\u001b[0m\u001b[0m\n\u001b[0m\u001b[1;32m      2\u001b[0m \u001b[0mtempadd\u001b[0m \u001b[0;34m=\u001b[0m \u001b[0mBC\u001b[0m\u001b[0;34m.\u001b[0m\u001b[0miloc\u001b[0m\u001b[0;34m[\u001b[0m\u001b[0mswap\u001b[0m\u001b[0;34m]\u001b[0m\u001b[0;34m.\u001b[0m\u001b[0mADDRESS_2\u001b[0m\u001b[0;34m.\u001b[0m\u001b[0mto_list\u001b[0m\u001b[0;34m(\u001b[0m\u001b[0;34m)\u001b[0m\u001b[0;34m\u001b[0m\u001b[0;34m\u001b[0m\u001b[0m\n\u001b[1;32m      3\u001b[0m \u001b[0;34m\u001b[0m\u001b[0m\n\u001b[1;32m      4\u001b[0m \u001b[0;32mfor\u001b[0m \u001b[0mtf\u001b[0m\u001b[0;34m,\u001b[0m \u001b[0mta\u001b[0m \u001b[0;32min\u001b[0m \u001b[0mzip\u001b[0m\u001b[0;34m(\u001b[0m\u001b[0mtempfull\u001b[0m\u001b[0;34m,\u001b[0m \u001b[0mtempadd\u001b[0m\u001b[0;34m)\u001b[0m\u001b[0;34m:\u001b[0m\u001b[0;34m\u001b[0m\u001b[0;34m\u001b[0m\u001b[0m\n\u001b[1;32m      5\u001b[0m     \u001b[0mBC\u001b[0m\u001b[0;34m.\u001b[0m\u001b[0mfull_address\u001b[0m\u001b[0;34m.\u001b[0m\u001b[0mreplace\u001b[0m\u001b[0;34m(\u001b[0m\u001b[0mtf\u001b[0m\u001b[0;34m,\u001b[0m \u001b[0mta\u001b[0m\u001b[0;34m,\u001b[0m \u001b[0minplace\u001b[0m \u001b[0;34m=\u001b[0m \u001b[0;32mTrue\u001b[0m\u001b[0;34m)\u001b[0m\u001b[0;34m\u001b[0m\u001b[0;34m\u001b[0m\u001b[0m\n",
      "\u001b[0;32m//anaconda3/lib/python3.7/site-packages/pandas/core/generic.py\u001b[0m in \u001b[0;36m__getattr__\u001b[0;34m(self, name)\u001b[0m\n\u001b[1;32m   5272\u001b[0m             \u001b[0;32mif\u001b[0m \u001b[0mself\u001b[0m\u001b[0;34m.\u001b[0m\u001b[0m_info_axis\u001b[0m\u001b[0;34m.\u001b[0m\u001b[0m_can_hold_identifiers_and_holds_name\u001b[0m\u001b[0;34m(\u001b[0m\u001b[0mname\u001b[0m\u001b[0;34m)\u001b[0m\u001b[0;34m:\u001b[0m\u001b[0;34m\u001b[0m\u001b[0;34m\u001b[0m\u001b[0m\n\u001b[1;32m   5273\u001b[0m                 \u001b[0;32mreturn\u001b[0m \u001b[0mself\u001b[0m\u001b[0;34m[\u001b[0m\u001b[0mname\u001b[0m\u001b[0;34m]\u001b[0m\u001b[0;34m\u001b[0m\u001b[0;34m\u001b[0m\u001b[0m\n\u001b[0;32m-> 5274\u001b[0;31m             \u001b[0;32mreturn\u001b[0m \u001b[0mobject\u001b[0m\u001b[0;34m.\u001b[0m\u001b[0m__getattribute__\u001b[0m\u001b[0;34m(\u001b[0m\u001b[0mself\u001b[0m\u001b[0;34m,\u001b[0m \u001b[0mname\u001b[0m\u001b[0;34m)\u001b[0m\u001b[0;34m\u001b[0m\u001b[0;34m\u001b[0m\u001b[0m\n\u001b[0m\u001b[1;32m   5275\u001b[0m \u001b[0;34m\u001b[0m\u001b[0m\n\u001b[1;32m   5276\u001b[0m     \u001b[0;32mdef\u001b[0m \u001b[0m__setattr__\u001b[0m\u001b[0;34m(\u001b[0m\u001b[0mself\u001b[0m\u001b[0;34m,\u001b[0m \u001b[0mname\u001b[0m\u001b[0;34m:\u001b[0m \u001b[0mstr\u001b[0m\u001b[0;34m,\u001b[0m \u001b[0mvalue\u001b[0m\u001b[0;34m)\u001b[0m \u001b[0;34m->\u001b[0m \u001b[0;32mNone\u001b[0m\u001b[0;34m:\u001b[0m\u001b[0;34m\u001b[0m\u001b[0;34m\u001b[0m\u001b[0m\n",
      "\u001b[0;31mAttributeError\u001b[0m: 'DataFrame' object has no attribute 'full_address'"
     ]
    }
   ],
   "source": [
    "tempfull = BC.iloc[swap].full_address.to_list()\n",
    "tempadd = BC.iloc[swap].ADDRESS_2.to_list()\n",
    "\n",
    "for tf, ta in zip(tempfull, tempadd):\n",
    "    BC.full_address.replace(tf, ta, inplace = True)\n",
    "    BC.ADDRESS_2.replace(ta, tf, inplace = True)"
   ]
  },
  {
   "cell_type": "markdown",
   "metadata": {},
   "source": [
    "##### libpostal Address Parser Check\n",
    "\n",
    "    [x] addresses with units e.g. '104 - 3242 Westwood St'\n",
    "\n",
    "    [x] addresses with numerical street names e.g. '7348 16Th Ave', '20216 53 Ave'"
   ]
  },
  {
   "cell_type": "markdown",
   "metadata": {},
   "source": [
    "Parse `full_address` using `libpostal`"
   ]
  },
  {
   "cell_type": "code",
   "execution_count": null,
   "metadata": {},
   "outputs": [],
   "source": [
    "parsed = BC.full_address.map(parse_address)\n",
    "str_num = [x[0][0] for x in parsed]\n",
    "str_name = [x[-1][0] for x in parsed]"
   ]
  },
  {
   "cell_type": "code",
   "execution_count": null,
   "metadata": {},
   "outputs": [],
   "source": [
    "BC['street_number'] = str_num\n",
    "BC['street_name'] = str_name"
   ]
  },
  {
   "cell_type": "code",
   "execution_count": null,
   "metadata": {},
   "outputs": [],
   "source": [
    "BC.groupby('SERVICE_TYPE_CD').nunique()"
   ]
  },
  {
   "cell_type": "code",
   "execution_count": null,
   "metadata": {
    "scrolled": true
   },
   "outputs": [],
   "source": [
    "BC.info()"
   ]
  },
  {
   "cell_type": "code",
   "execution_count": null,
   "metadata": {},
   "outputs": [],
   "source": [
    "BC.to_csv('output/childcare/bc-childcare.csv')"
   ]
  },
  {
   "cell_type": "markdown",
   "metadata": {},
   "source": [
    "---\n",
    "\n",
    "# address_parser\n",
    "\n",
    "* Use regex to extract unit number where applicable\n",
    "* Use regex to extract the rest of the address (w/o unit number) to accurately parse Street Name and Street Number\n",
    "* Street Name = road name + road suffix + road direction\n",
    "        \n",
    "*Prepare data for pasring by extracting `unit` with regex*. \n",
    "\n",
    "For addresses containing several numbers separated by a whitespace, partition into two parts: the unit, the rest."
   ]
  },
  {
   "cell_type": "code",
   "execution_count": null,
   "metadata": {},
   "outputs": [],
   "source": [
    "# from address_parser import Parser\n",
    "# from phonetics import *\n",
    "# # parser = Parser()"
   ]
  },
  {
   "cell_type": "code",
   "execution_count": null,
   "metadata": {},
   "outputs": [],
   "source": [
    "# # identify addresses that may contain unit number as prefix\n",
    "# unit_adr = BC.full_address.str.extract(r'(^\\b[0-9]+\\s[0-9]+\\s[a-zA-Z]+\\s[a-zA-Z]+\\b)')\n",
    "\n",
    "# unit = unit_adr[0].str.extract(r'(^\\b[0-9]+)')\n",
    "# rest = unit_adr[0].str.replace(r'(^\\b[0-9]+\\s)', '')\n",
    "\n",
    "\n",
    "# BC['unit'] = unit\n",
    "# BC['rest'] = rest\n",
    "\n",
    "# # correct data types\n",
    "# BC.rest = BC.rest.astype(str)\n",
    "# BC.full_address = BC.full_address.astype(str)"
   ]
  },
  {
   "cell_type": "markdown",
   "metadata": {},
   "source": [
    "*parser no parsing!*"
   ]
  },
  {
   "cell_type": "code",
   "execution_count": null,
   "metadata": {},
   "outputs": [],
   "source": [
    "# def street_name(address):\n",
    "#         adr = parser.parse(address)\n",
    "#         str_name = \"{} {} {}\".format(adr.road.name, adr.road.suffix, adr.road.direction)\n",
    "#         return str_name.title()\n",
    "    \n",
    "    \n",
    "# def street_number(address):\n",
    "#     adr = parser.parse(address)\n",
    "#     if adr.number.number == -1:\n",
    "#         '''\n",
    "#         If the number is incorrect, use the end_number.\n",
    "#         This is likely an address with a range.\n",
    "#         '''\n",
    "#         return adr.number.end_number\n",
    "#     else:\n",
    "#         return adr.number.number"
   ]
  },
  {
   "cell_type": "code",
   "execution_count": null,
   "metadata": {},
   "outputs": [],
   "source": [
    "# def check_name(x):\n",
    "#     name = street_name(x).lower().strip()\n",
    "#     if name in x.lower():\n",
    "# #          print(\"{} in {}\".format(name, x.lower()))\n",
    "#         return True\n",
    "#     else:\n",
    "# #         print(\"{} not in {}\".format(name, x.lower()))\n",
    "#         return False"
   ]
  },
  {
   "cell_type": "code",
   "execution_count": null,
   "metadata": {},
   "outputs": [],
   "source": [
    "# prefix = BC.full_address.str.extract(r'(^\\b[0-9]+)')[0].to_list()\n",
    "\n",
    "# if prefix not in unit[0].to_list():\n",
    "#     # if number prefix is not in the unit list, its the address no.\n",
    "#     # check the street name for these ones as well.\n",
    "#     BC['street_number'] = prefix\n",
    "#     BC['street_name'] = BC.full_address.map(lambda addr: street_name(addr))\n",
    "#     BC['ref'] = BC.full_address.map(lambda x: check_name(x))\n",
    "        \n",
    "# else:\n",
    "#     BC['street_name'] = BC.rest.map(lambda addr: street_name(addr))\n",
    "    \n",
    "# BC['rest_street_name'] = BC.rest.map(lambda addr: street_name(addr))\n",
    "# BC['rest_street_number'] = BC.rest.map(lambda addr: street_number(addr))"
   ]
  },
  {
   "cell_type": "markdown",
   "metadata": {},
   "source": [
    "### Correct parser street names"
   ]
  },
  {
   "cell_type": "code",
   "execution_count": null,
   "metadata": {},
   "outputs": [],
   "source": [
    "# BC.iloc[536]"
   ]
  },
  {
   "cell_type": "code",
   "execution_count": null,
   "metadata": {
    "scrolled": true
   },
   "outputs": [],
   "source": [
    "# crct = BC.loc[(BC.rest != 'nan') & (BC.ref == False)].index\n",
    "\n",
    "# rplc = BC.iloc[crct].street_name.to_list()\n",
    "# wth = BC.iloc[crct].rest_street_name.to_list()\n",
    "\n",
    "# rplc_strno = BC.iloc[crct].street_number.to_list()\n",
    "# with_strno = BC.iloc[crct].rest_street_number.to_list()\n",
    "\n",
    "# counter = 0\n",
    "\n",
    "# for r,w, rno,wno in zip(rplc, wth, rplc_strno, with_strno):\n",
    "#     # trackers\n",
    "#     counter +=1 \n",
    "#     ind =  BC[BC.street_name == r].index.to_list()\n",
    "    \n",
    "#     # corrections\n",
    "#     BC.street_name.replace(r, w, inplace = True)\n",
    "#     BC.street_number.replace(rno, wno, inplace = True)\n",
    "    \n",
    "#     print(\"....... ({} / {})\\n replacing street name: {} with {} at index {} \\n replacing street number: {} with {} \\n .......\".format(counter, len(rplc), r,w,ind, rno, wno))\n",
    "    "
   ]
  },
  {
   "cell_type": "markdown",
   "metadata": {},
   "source": [
    "#### Correct parsers units\n",
    "Manually inspect where street numbers are the same as the unit numbers. keep only correct number."
   ]
  },
  {
   "cell_type": "code",
   "execution_count": null,
   "metadata": {},
   "outputs": [],
   "source": [
    "# BC.loc[BC.street_number == BC.unit,'unit'] = None"
   ]
  },
  {
   "cell_type": "code",
   "execution_count": null,
   "metadata": {
    "scrolled": true
   },
   "outputs": [],
   "source": [
    "# BC.loc[BC.street_number == BC.unit][['full_address','street_name','street_number','unit']].reset_index()"
   ]
  },
  {
   "cell_type": "code",
   "execution_count": null,
   "metadata": {},
   "outputs": [],
   "source": [
    "# BC.loc[(BC.rest != 'nan') & (BC.ref == False)][['full_address', 'rest', 'rest_street_name', 'ref', 'street_name', 'street_no', 'unit']]"
   ]
  },
  {
   "cell_type": "code",
   "execution_count": null,
   "metadata": {
    "scrolled": true
   },
   "outputs": [],
   "source": [
    "# BC.iloc[10:50][['full_address', 'rest', 'ref', 'street_name', 'street_number', 'unit']]"
   ]
  },
  {
   "cell_type": "markdown",
   "metadata": {},
   "source": [
    "#### Tidy & export\n",
    "* drop unneccessary cols used to correct addresses"
   ]
  },
  {
   "cell_type": "code",
   "execution_count": null,
   "metadata": {},
   "outputs": [],
   "source": [
    "# BC.drop(columns = ['ref', 'rest_street_name', 'rest_street_number', 'rest'], inplace = True)"
   ]
  },
  {
   "cell_type": "code",
   "execution_count": null,
   "metadata": {},
   "outputs": [],
   "source": [
    "# BC[BC.full_address.duplicated()]"
   ]
  },
  {
   "cell_type": "code",
   "execution_count": null,
   "metadata": {},
   "outputs": [],
   "source": [
    "# BC['street_name'] = BC.full_address.map(lambda addr: street_name(addr))\n",
    "# # BC['street_name_fill'] = BC.rest_addr2.map(lambda addr: street_name(addr))\n",
    "# # BC['street_name_fill2'] = BC.rest_addr3.map(lambda addr: street_name(addr))\n",
    "# BC['street_number'] = BC.rest_addr.map(lambda addr: street_number(addr))"
   ]
  },
  {
   "cell_type": "code",
   "execution_count": null,
   "metadata": {},
   "outputs": [],
   "source": [
    "#------------------------------------------------------\n",
    "# Using original address renders incorrect Street Names\n",
    "#------------------------------------------------------\n",
    "\n",
    "# BC['street_number'] = BC.full_address.map(lambda addr: street_number(addr))\n",
    "# BC['street_name'] = BC.full_address.map(lambda addr: street_name(addr))\n",
    "\n",
    "\n",
    "#------------------------------------------\n",
    "# Attempting to reformat og address renders \n",
    "# IndexError with parser\n",
    "#------------------------------------------\n",
    "# to_parse = []\n",
    "# for address, unit in zip(rest[0].to_list(), test2[0].to_list()):\n",
    "#     to_parse.append(\"{} unit {}\".format(address, unit))\n",
    "\n",
    "# BC['parse_me'] = to_parse\n",
    "# BC.parse_me = BC.parse_me\n",
    "\n",
    "# BC['street_number'] = BC.parse_me.map(lambda addr: street_number(addr))\n",
    "# BC['street_name'] = BC.parse_me.map(lambda addr: street_name(addr))"
   ]
  },
  {
   "cell_type": "code",
   "execution_count": null,
   "metadata": {},
   "outputs": [],
   "source": [
    "# BC.iloc[170:220][['full_address', 'street_name', 'street_name_fill', 'street_name_fill2', 'street_number', 'unit']]"
   ]
  },
  {
   "cell_type": "code",
   "execution_count": null,
   "metadata": {},
   "outputs": [],
   "source": [
    "BC.to_csv('output/childcare/bc-childcare.csv')"
   ]
  },
  {
   "cell_type": "code",
   "execution_count": null,
   "metadata": {},
   "outputs": [],
   "source": []
  }
 ],
 "metadata": {
  "kernelspec": {
   "display_name": "Python 3",
   "language": "python",
   "name": "python3"
  },
  "language_info": {
   "codemirror_mode": {
    "name": "ipython",
    "version": 3
   },
   "file_extension": ".py",
   "mimetype": "text/x-python",
   "name": "python",
   "nbconvert_exporter": "python",
   "pygments_lexer": "ipython3",
   "version": "3.7.4"
  }
 },
 "nbformat": 4,
 "nbformat_minor": 4
}
