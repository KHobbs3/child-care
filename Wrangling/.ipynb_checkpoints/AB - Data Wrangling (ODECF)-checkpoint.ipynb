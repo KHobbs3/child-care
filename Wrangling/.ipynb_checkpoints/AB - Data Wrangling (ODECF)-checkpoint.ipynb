{
 "cells": [
  {
   "cell_type": "markdown",
   "metadata": {},
   "source": [
    "### Alberta\n",
    "\n",
    "Retrieved from: https://open.alberta.ca/opendata/childcareinformation"
   ]
  },
  {
   "cell_type": "code",
   "execution_count": null,
   "metadata": {},
   "outputs": [],
   "source": [
    "import numpy as np\n",
    "import pandas as pd\n",
    "from postal.parser import parse_address\n",
    "\n",
    "from geopy import *\n",
    "import geopandas\n",
    "from geopy.extra.rate_limiter import RateLimiter"
   ]
  },
  {
   "cell_type": "code",
   "execution_count": null,
   "metadata": {
    "scrolled": true
   },
   "outputs": [],
   "source": [
    "ab = pd.read_csv('../Collection-ODECF/data/childcare/AB-childcare.csv')"
   ]
  },
  {
   "cell_type": "markdown",
   "metadata": {},
   "source": [
    "##### 1. Duplicate entry check:\n",
    "Facilities with the same name, phone number, and full address only differ in inspection report information. As such, the last entry was retained because it holds the most recent inspection date. Some facilites with the same name and address have multiple phone numbers. All were retained."
   ]
  },
  {
   "cell_type": "code",
   "execution_count": null,
   "metadata": {
    "scrolled": true
   },
   "outputs": [],
   "source": [
    "ab.groupby('Pseudo ProgramID').count()"
   ]
  },
  {
   "cell_type": "code",
   "execution_count": null,
   "metadata": {},
   "outputs": [],
   "source": [
    "len(ab)"
   ]
  },
  {
   "cell_type": "code",
   "execution_count": null,
   "metadata": {},
   "outputs": [],
   "source": [
    "# ab.drop_duplicates(subset = ['Program Address', 'Program Name', 'Phone Number'], keep = 'last', inplace = True)\n",
    "# ab.reset_index(inplace = True)\n",
    "# print(\"removed: \", 17282-len(ab), \"remaining: \", len(ab))"
   ]
  },
  {
   "cell_type": "code",
   "execution_count": null,
   "metadata": {},
   "outputs": [],
   "source": [
    "ab.columns"
   ]
  },
  {
   "cell_type": "markdown",
   "metadata": {},
   "source": [
    "2. **Add mandatory columns**\n",
    "    * Province\n",
    "    * Provider\n",
    "    * Street Name\n",
    "    * Street Number\n",
    "    * Unit\n"
   ]
  },
  {
   "cell_type": "code",
   "execution_count": 7,
   "metadata": {},
   "outputs": [],
   "source": [
    "ab['province'] = 'ab'"
   ]
  },
  {
   "cell_type": "code",
   "execution_count": 8,
   "metadata": {},
   "outputs": [],
   "source": [
    "# parsed = ab['Program Address'].map(parse_address)\n",
    "# str_num = [x[0][0] for x in parsed]\n",
    "# str_name = [x[-1][0] for x in parsed]"
   ]
  },
  {
   "cell_type": "code",
   "execution_count": 9,
   "metadata": {},
   "outputs": [],
   "source": [
    "# ab['street_name'] = str_name\n",
    "# ab['street_number'] = str_num"
   ]
  },
  {
   "cell_type": "markdown",
   "metadata": {},
   "source": [
    "##### libpostal Address Parser Check\n",
    "\n",
    "    [] addresses with ranges e.g. '102 - 10525 - 100 AVENUE'\n",
    "        no. = 102\n",
    "        name = 10525 100 avenue\n",
    "        \n",
    "        e.g. \n",
    "        \n",
    "    [] addresses with dashes but not a range e.g. '10206-103 ST'\n",
    "        no. = 10206-103\n",
    "        name = st\n",
    "        \n",
    "        e.g. '5104 -56 ST'\n",
    "        no. = 5104 -56\n",
    "        name = st\n",
    "\n",
    "    [] addresses with numerical street names e.g. 'NE 32 42 23 W4'\n",
    "        no. = 23 w4\n",
    "        name = ne 32\n",
    "\n",
    "    [] addresses with unit numbers e.g. '#260, 200 SOUTHRIDGE DRIVE'\n",
    "        no. = #260\n",
    "        name = SOUTHRIDGE DRIVE\n",
    "        \n",
    "        e.g. '10,11166 - 42 STREET SE'\n",
    "            no. and name = '10,11166 - 42 STREET SE'\n",
    "            \n",
    "            \n",
    "     [] other e.g. 'TPN, NE 1/4, SEC. 3-21-3-W5M'\n",
    "            no. and name = 'TPN, NE 1/4, SEC. 3-21-3-W5M'\n",
    "            \n",
    "            \n",
    "<mark> Write function for where name and number are the same </mark>\n",
    "     "
   ]
  },
  {
   "cell_type": "code",
   "execution_count": 10,
   "metadata": {},
   "outputs": [],
   "source": [
    "# ab['Program Address'].to_list()"
   ]
  },
  {
   "cell_type": "code",
   "execution_count": 11,
   "metadata": {},
   "outputs": [],
   "source": [
    "# ab.loc[ab['Program Address'] == 'TPN, NE 1/4, SEC. 3-21-3-W5M']"
   ]
  },
  {
   "cell_type": "code",
   "execution_count": 12,
   "metadata": {},
   "outputs": [],
   "source": [
    "# str_num[420]"
   ]
  },
  {
   "cell_type": "code",
   "execution_count": 13,
   "metadata": {},
   "outputs": [],
   "source": [
    "# str_name[420]"
   ]
  },
  {
   "cell_type": "markdown",
   "metadata": {},
   "source": [
    "3. **Geocode**\n",
    "\n",
    "    * Prepare full addresses for input\n",
    "    * Run Nominatim"
   ]
  },
  {
   "cell_type": "code",
   "execution_count": 14,
   "metadata": {
    "scrolled": true
   },
   "outputs": [],
   "source": [
    "# address = []\n",
    "# for addr, city, pc in zip(ab['Program Address'].to_list(), \n",
    "#                                      ab['Program City'].to_list(), \n",
    "#                                      ab['Postal Code'].to_list()):\n",
    "#         address.append(\"{} {}, Alberta {} Canada\".format(addr, \n",
    "#                                                            city, \n",
    "#                                                            pc))\n",
    "        \n",
    "# ab['full_address'] = address\n",
    "# ab.full_address"
   ]
  },
  {
   "cell_type": "code",
   "execution_count": 15,
   "metadata": {},
   "outputs": [],
   "source": [
    "# locator = Nominatim(user_agent=\"myGeocoder\", country_bias = \"CAN\")"
   ]
  },
  {
   "cell_type": "code",
   "execution_count": 16,
   "metadata": {
    "scrolled": true
   },
   "outputs": [],
   "source": [
    "# # 1 - convenient function to delay between geocoding calls\n",
    "# geocode = RateLimiter(locator.geocode, min_delay_seconds=1, )\n",
    "\n",
    "# # 2 - create location column\n",
    "# temp_loc = ab['full_address'].apply(geocode)\n"
   ]
  },
  {
   "cell_type": "code",
   "execution_count": 17,
   "metadata": {},
   "outputs": [],
   "source": [
    "# # 3 - create latitude and longitude cols from temp_loc (returns tuple)\n",
    "# ab['latitude'] = temp_loc.apply(lambda loc: tuple(loc.point)[0] if loc else None)\n",
    "# ab['longitude'] = temp_loc.apply(lambda loc: tuple(loc.point)[1] if loc else None)"
   ]
  },
  {
   "cell_type": "code",
   "execution_count": 18,
   "metadata": {},
   "outputs": [],
   "source": [
    "# print(\"percent coverage: \", sum(ab.latitude.notnull())/len(ab)*100)"
   ]
  },
  {
   "cell_type": "code",
   "execution_count": 19,
   "metadata": {},
   "outputs": [
    {
     "name": "stdout",
     "output_type": "stream",
     "text": [
      "<class 'pandas.core.frame.DataFrame'>\n",
      "RangeIndex: 17282 entries, 0 to 17281\n",
      "Data columns (total 18 columns):\n",
      " #   Column                    Non-Null Count  Dtype \n",
      "---  ------                    --------------  ----- \n",
      " 0   Unnamed: 0                17282 non-null  int64 \n",
      " 1   Pseudo ProgramID          17282 non-null  object\n",
      " 2   Type of program           17282 non-null  object\n",
      " 3   Program Name              17282 non-null  object\n",
      " 4   Program Address           17282 non-null  object\n",
      " 5   Program City              17282 non-null  object\n",
      " 6   Postal Code               17253 non-null  object\n",
      " 7   Phone Number              17282 non-null  int64 \n",
      " 8   Capacity                  17282 non-null  int64 \n",
      " 9   Accreditation Status      14610 non-null  object\n",
      " 10  Inspection Date           17282 non-null  object\n",
      " 11  Inspection Reason         17282 non-null  object\n",
      " 12  Non-Compliance            4461 non-null   object\n",
      " 13  Regulation-Schedule-Type  4462 non-null   object\n",
      " 14  Enforcement Action        4264 non-null   object\n",
      " 15  Remedy Date               4185 non-null   object\n",
      " 16  province                  17282 non-null  object\n",
      " 17  provider                  17282 non-null  object\n",
      "dtypes: int64(3), object(15)\n",
      "memory usage: 2.4+ MB\n"
     ]
    }
   ],
   "source": [
    "ab.info()"
   ]
  },
  {
   "cell_type": "code",
   "execution_count": 20,
   "metadata": {},
   "outputs": [],
   "source": [
    "ab.to_csv('output/childcare/ab-childcare.csv')"
   ]
  }
 ],
 "metadata": {
  "kernelspec": {
   "display_name": "Python 3",
   "language": "python",
   "name": "python3"
  },
  "language_info": {
   "codemirror_mode": {
    "name": "ipython",
    "version": 3
   },
   "file_extension": ".py",
   "mimetype": "text/x-python",
   "name": "python",
   "nbconvert_exporter": "python",
   "pygments_lexer": "ipython3",
   "version": "3.7.4"
  }
 },
 "nbformat": 4,
 "nbformat_minor": 4
}
