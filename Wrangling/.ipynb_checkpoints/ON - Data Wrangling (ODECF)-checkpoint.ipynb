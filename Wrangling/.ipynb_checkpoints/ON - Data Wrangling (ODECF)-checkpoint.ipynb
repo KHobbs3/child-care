{
 "cells": [
  {
   "cell_type": "markdown",
   "metadata": {},
   "source": [
    "### Ontario\n",
    "Retreived from: https://data.ontario.ca/dataset/licensed-child-care-facilities-in-ontario"
   ]
  },
  {
   "cell_type": "code",
   "execution_count": 1,
   "metadata": {},
   "outputs": [],
   "source": [
    "import pandas as pd\n",
    "from geopy import *\n",
    "import geopandas\n",
    "from geopy.extra.rate_limiter import RateLimiter"
   ]
  },
  {
   "cell_type": "code",
   "execution_count": 2,
   "metadata": {},
   "outputs": [],
   "source": [
    "on = pd.read_csv('../Collection-ODECF/data/childcare/ON-childcare.csv')"
   ]
  },
  {
   "cell_type": "code",
   "execution_count": 3,
   "metadata": {},
   "outputs": [],
   "source": [
    "# on['Address'] = on['Street Number'] + \" \" + on['Street Name'] + \" \" + on['Street Type']"
   ]
  },
  {
   "cell_type": "code",
   "execution_count": 4,
   "metadata": {},
   "outputs": [
    {
     "data": {
      "text/plain": [
       "6995"
      ]
     },
     "execution_count": 4,
     "metadata": {},
     "output_type": "execute_result"
    }
   ],
   "source": [
    "len(on)"
   ]
  },
  {
   "cell_type": "markdown",
   "metadata": {},
   "source": [
    "##### 1. Duplicate entry check:\n",
    "<mark> Facilities with the same name, postal code, and full address were defined as duplicates. The License Number and Original Issue Date differs in these \"duplicates\". All were retained. </mark>"
   ]
  },
  {
   "cell_type": "code",
   "execution_count": 5,
   "metadata": {
    "scrolled": true
   },
   "outputs": [],
   "source": [
    "# gb = on.groupby(['Child Care Center Name', 'Address', 'Postal Code', 'Program Type Desc']).nunique()\n",
    "# gb[['Original Issue Date', 'Licence Number']] > 1\n",
    "\n",
    "# print(\"Number of duplicates: \", len(on) - len(gb))"
   ]
  },
  {
   "cell_type": "code",
   "execution_count": 6,
   "metadata": {},
   "outputs": [],
   "source": [
    "# on.drop_duplicates(subset = ['Child Care Center Name', 'Address', 'Postal Code'], keep = 'first', inplace = True)\n",
    "# on.reset_index(inplace = True)"
   ]
  },
  {
   "cell_type": "code",
   "execution_count": 7,
   "metadata": {},
   "outputs": [],
   "source": [
    "# on.sort_values(by = 'Child Care Center Name').head(50)"
   ]
  },
  {
   "cell_type": "code",
   "execution_count": 8,
   "metadata": {},
   "outputs": [],
   "source": [
    "# on.drop_duplicates(subset = ['name', 'full_address', 'Postal Code'], keep = 'first', inplace = True)\n",
    "# on[on[['full_address', 'name']].duplicated()]"
   ]
  },
  {
   "cell_type": "markdown",
   "metadata": {},
   "source": [
    "\n",
    "#### 2. Geocoding addresses\n",
    "Create `full_address` column and geocode `latitude` and `longitude`"
   ]
  },
  {
   "cell_type": "code",
   "execution_count": 9,
   "metadata": {},
   "outputs": [],
   "source": [
    "# locator = Nominatim(user_agent=\"myGeocoder\", country_bias = \"CAN\")"
   ]
  },
  {
   "cell_type": "code",
   "execution_count": 10,
   "metadata": {},
   "outputs": [],
   "source": [
    "# # reformat address to be one string\n",
    "# address = []\n",
    "# for strnum, strnam, strtyp, city, pc in zip(on['Street Number'].to_list(), \n",
    "#                                      on['Street Name'].to_list(), \n",
    "#                                      on['Street Type'].to_list(),\n",
    "#                                       on['City'].to_list(),\n",
    "#                                      on['Postal Code'].to_list()):\n",
    "#         address.append(\"{} {}, {}, {}, Ontario Canada {}\".format(strnum, \n",
    "#                                                            strnam, \n",
    "#                                                            strtyp, \n",
    "#                                                            city, \n",
    "#                                                            pc))\n",
    "        \n",
    "# on['full_address'] = address\n",
    "# on.full_address"
   ]
  },
  {
   "cell_type": "markdown",
   "metadata": {},
   "source": [
    "<mark>**CAUTION:** Slow script below </mark>"
   ]
  },
  {
   "cell_type": "code",
   "execution_count": 11,
   "metadata": {},
   "outputs": [],
   "source": [
    "\n",
    "# # 1 - convenient function to delay between geocoding calls\n",
    "# geocode = RateLimiter(locator.geocode, min_delay_seconds=1)\n",
    "\n",
    "# # 2 - create location column\n",
    "# temp_loc = on['full_address'].apply(geocode)\n"
   ]
  },
  {
   "cell_type": "code",
   "execution_count": 12,
   "metadata": {},
   "outputs": [],
   "source": [
    "# # 3 - create latitude and longitude cols from temp_loc (returns tuple)\n",
    "# on['latitude'] = temp_loc.apply(lambda loc: tuple(loc.point)[0] if loc else None)\n",
    "# on['longitude'] = temp_loc.apply(lambda loc: tuple(loc.point)[1] if loc else None)"
   ]
  },
  {
   "cell_type": "code",
   "execution_count": 13,
   "metadata": {},
   "outputs": [],
   "source": [
    "# print(\"percent coverage: \", sum(on.latitude.notnull())/len(on)*100)"
   ]
  },
  {
   "cell_type": "markdown",
   "metadata": {},
   "source": [
    "3. **Add missing mandatory columns**\n",
    "    * provider"
   ]
  },
  {
   "cell_type": "code",
   "execution_count": 14,
   "metadata": {},
   "outputs": [],
   "source": [
    "on['provider'] = 'Province of Ontario'"
   ]
  },
  {
   "cell_type": "markdown",
   "metadata": {},
   "source": [
    "**Export**"
   ]
  },
  {
   "cell_type": "code",
   "execution_count": 15,
   "metadata": {},
   "outputs": [],
   "source": [
    "on.to_csv('output/childcare/on-childcare.csv')"
   ]
  }
 ],
 "metadata": {
  "kernelspec": {
   "display_name": "Python 3",
   "language": "python",
   "name": "python3"
  },
  "language_info": {
   "codemirror_mode": {
    "name": "ipython",
    "version": 3
   },
   "file_extension": ".py",
   "mimetype": "text/x-python",
   "name": "python",
   "nbconvert_exporter": "python",
   "pygments_lexer": "ipython3",
   "version": "3.7.4"
  }
 },
 "nbformat": 4,
 "nbformat_minor": 4
}
