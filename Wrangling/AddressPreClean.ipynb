{
 "cells": [
  {
   "cell_type": "markdown",
   "metadata": {},
   "source": [
    "#### Address cleaning\n",
    "\n",
    "**IN:** merged file\n",
    "\n",
    "**OUT:** cleaned file"
   ]
  },
  {
   "cell_type": "code",
   "execution_count": 32,
   "metadata": {},
   "outputs": [],
   "source": [
    "from postal.parser import parse_address\n",
    "import pandas as pd\n",
    "import os\n",
    "import re"
   ]
  },
  {
   "cell_type": "code",
   "execution_count": 33,
   "metadata": {},
   "outputs": [],
   "source": [
    "os.chdir('/Users/kt/Documents/work/STATCAN/ODECF/Wrangling-ODECF/output/childcare/merged/')"
   ]
  },
  {
   "cell_type": "code",
   "execution_count": 52,
   "metadata": {},
   "outputs": [],
   "source": [
    "df=pd.read_csv('childcare-merged.csv')\n",
    "df['source_full_address'] = df['full_address']"
   ]
  },
  {
   "cell_type": "code",
   "execution_count": 54,
   "metadata": {},
   "outputs": [],
   "source": [
    "# correct ontario street numbers that turn to dates\n",
    "df.loc[df.name == 'Petawawa Military Family Resource Centre Private Home Day Care', 'Street Number'] = ' 10-16'"
   ]
  },
  {
   "cell_type": "markdown",
   "metadata": {},
   "source": [
    "#### Full address cleaning\n",
    "\n",
    "**Globally:**\n",
    "1. Remove phone numbers \n",
    "2. Remove postal codes and fill in `postal_code` column\n",
    "3. General processing\n",
    "\n",
    "**Targeted:** to remove city (and province) names from full address\n",
    "4. Remove unneccessary commas \n",
    "    * AB, MB, SK, PE, YK, QC\n",
    "    \n",
    "5. Find and fix obvious errors in data\n",
    "    * rename NB streets\n",
    "    \n",
    "\n"
   ]
  },
  {
   "cell_type": "markdown",
   "metadata": {},
   "source": [
    "1. Remove phone numbers "
   ]
  },
  {
   "cell_type": "code",
   "execution_count": 35,
   "metadata": {},
   "outputs": [],
   "source": [
    "def phone_rmv(x):\n",
    "    \"\"\"To remove phone numbers structured as ' (XXX) XXX-XXXX' from full address column.\"\"\"\n",
    "    try:\n",
    "        p = re.compile('\\s\\(\\d{3}\\)\\s\\d{3}\\-\\d{4}')\n",
    "        p.search(x)[0]\n",
    "        update = x.replace(p.search(x)[0], '')\n",
    "        return update\n",
    "    except TypeError:\n",
    "        return x\n",
    "    \n",
    "df.full_address = df.full_address.map(phone_rmv)"
   ]
  },
  {
   "cell_type": "markdown",
   "metadata": {},
   "source": [
    "2. Remove postal codes and fill in `postal_code` column"
   ]
  },
  {
   "cell_type": "code",
   "execution_count": 36,
   "metadata": {},
   "outputs": [],
   "source": [
    "pcs=[]\n",
    "def pc_extract(x):\n",
    "    \"\"\"To extract postal code from full address and place in list, \n",
    "    which can be appended to df and fill NAs in postal code column.\n",
    "    Also returns full address with postal code removed.\"\"\"\n",
    "    try:\n",
    "        pc = re.compile('[a-zA-Z]{1}\\d{1}[A-Za-z]{1}\\s\\d{1}[A-Za-z]{1}\\d{1}')\n",
    "        pcs.append(pc.search(x)[0])\n",
    "        return x.replace(pc.search(x)[0], '')\n",
    "    except TypeError:\n",
    "        pcs.append(None)\n",
    "        return x\n",
    "    \n",
    "df.full_address = df.full_address.map(pc_extract)\n",
    "\n",
    "# fill missing postal codes from what was extracted from full address using pc_extract\n",
    "df.postal_code.fillna(value = pd.Series(pcs),inplace = True)"
   ]
  },
  {
   "cell_type": "markdown",
   "metadata": {},
   "source": [
    "3. General processing"
   ]
  },
  {
   "cell_type": "code",
   "execution_count": 49,
   "metadata": {},
   "outputs": [],
   "source": [
    "df.full_address = df.full_address.astype(str)\n",
    "\n",
    "# replace bad regex\n",
    "df.full_address.replace({\n",
    "    r'\\bappartement\\b ' : r'unit #',\n",
    "    r'\\bapt\\b ' : r'unit #',\n",
    "    r'\\bsuite\\b ' : r'#',\n",
    "    r'\\bSUITE\\b ' : r'#', \n",
    "    r'\\brd\\b #\\d+' : r'road \\d+',\n",
    "    r'\\broad\\b #\\d+' : r'road \\d+',\n",
    "    r'\\bhwy\\b #\\d+': r'highway \\d+',\n",
    "    r'\\bhighway\\b #\\d+': r'highway \\d+'\n",
    "    }, inplace = True)\n",
    "\n",
    "# remove bad regex\n",
    "bad = [\n",
    "    'ecole new era school m6',\n",
    "    r':',\n",
    "    r'\\&',\n",
    "    r'\\bbureau\\b \\d+',\n",
    "    r'\\bbureau\\b [a-zA-Z]',\n",
    "    r'\\bbureaux\\b \\d+',\n",
    "    r'\\bBox\\b \\d+',\n",
    "    r'\\blocal\\b [a-zA-Z]',\n",
    "    r'\\blocal\\b [a-zA-Z]\\d+',\n",
    "    r'\\blocal\\b \\d+',\n",
    "    r'\\bsuite\\b \\d+[a-zA-Z]',\n",
    "    r'\\bCP\\b \\d+',\n",
    "    r'\\bcp\\b \\d+',\n",
    "    r'\\bgym\\b',\n",
    "    r'\\bgymnasium\\b',\n",
    "    r'\\blibrary\\b \\d+',\n",
    "    r'\\,',\n",
    "    r'\\(.*\\)',\n",
    "    r'\\bc p\\b \\d+'\n",
    "]\n",
    "\n",
    "for b in bad:\n",
    "    df.full_address = df.full_address.map(lambda x: re.sub(b,'',x))\n",
    "\n",
    "    \n",
    "#------------------------------\n",
    "\n",
    "\n",
    "# remove commas from QC\n",
    "df.loc[df.provider == 'Province of Quèbec', 'full_address'] = df.loc[df.provider == 'Province of Quèbec', 'full_address'].replace({',':''}, regex = True)\n",
    "\n",
    "# replace dashes except from QC\n",
    "df.loc[df.provider != 'Province of Quèbec', 'full_address']=df.loc[df.provider != 'Province of Quèbec', 'full_address'].replace('-',' ',regex=True)\n",
    "\n",
    "# replace periods\n",
    "df.full_address=[x.replace('.','') for x in df.full_address.astype('str')]\n",
    "\n",
    "#replace multiple spaces\n",
    "df.full_address=df.full_address.replace(' +',' ',regex=True)\n",
    "\n",
    "# remove trailing white space\n",
    "df.full_address=df.full_address.str.strip()\n",
    "\n"
   ]
  },
  {
   "cell_type": "markdown",
   "metadata": {},
   "source": [
    "3. Remove unneccessary commas \n",
    "    * AB, MB, SK, PE, YT"
   ]
  },
  {
   "cell_type": "code",
   "execution_count": 38,
   "metadata": {},
   "outputs": [],
   "source": [
    "slct = ['Alberta', 'Manitoba', 'Saskatchewan', 'Prince Edward Island']\n",
    "\n",
    "for s in slct:\n",
    "    df.loc[df.provider == 'Province of {}'.format(s), 'full_address'] = df.loc[df.provider == 'Province of {}'.format(s), 'full_address'].replace({',': ''}, regex = True)\n",
    "    \n",
    "df.loc[df.provider == 'Yukon Territory', 'full_address']=df.loc[df.provider == 'Yukon Territory', 'full_address'].replace({',': ''}, regex = True)"
   ]
  },
  {
   "cell_type": "markdown",
   "metadata": {},
   "source": [
    "4. Find and fix obvious errors in data\n",
    "\n",
    "**Find errors**"
   ]
  },
  {
   "cell_type": "code",
   "execution_count": 39,
   "metadata": {},
   "outputs": [],
   "source": [
    "# errors: road mill, road quispamsis, road sainte anne, road beaverbrook, road road,\n",
    "# ok: road ragged, road\\s, road old shediac, road macdonald, 3359 Cloverside Road Avon Cloverside road Avonmore ON (godaycare), road allowance\n",
    "ind = -1\n",
    "def find_weird_roads(x):\n",
    "    try:\n",
    "#         rg1 = r'road [a-zA-Z]*' # english\n",
    "        rg2 = r'rue [a-zA-Z]* [0-9].*' # french\n",
    "        rg3 = r'rue [0-9].*' # french\n",
    "#         return re.search(rg1, x)[0]\n",
    "        return re.search(rg2, x)[0]\n",
    "    except TypeError:\n",
    "        pass\n",
    "    \n",
    "    \n",
    "def find_weird_hwys(x):\n",
    "    try:\n",
    "        rg1 = r'highway [a-zA-Z]*'\n",
    "        rg2 = r'highway [0-9]*'\n",
    "        return re.search(rg1, x)[0]\n",
    "        return re.search(rg2, x)[0]\n",
    "    except TypeError:\n",
    "        pass\n",
    "\n",
    "# for f in df.full_address:\n",
    "#     ind += 1\n",
    "#     if find_weird_roads(f) != None:\n",
    "#         print(find_weird_roads(f), \"index: {}\".format(ind))\n",
    "\n"
   ]
  },
  {
   "cell_type": "markdown",
   "metadata": {},
   "source": [
    "**Fix obvious errors**\n",
    "* rearrange street names that come after street (NB data)"
   ]
  },
  {
   "cell_type": "code",
   "execution_count": 40,
   "metadata": {},
   "outputs": [],
   "source": [
    "df.full_address.replace({'Street Goodine' : 'goodine street',\n",
    "                        'Street Botsford' : 'botsford street',\n",
    "                         'Street Drummond' : 'drummon street',\n",
    "                         'Street Grandview' : 'grandview street',\n",
    "                         'Drive Rough Water' : 'rough water drive',\n",
    "                         'Street Mcann' : 'mcann street',\n",
    "                         'Street Priestman' : 'priestman street',\n",
    "                         'Drive Elmwood' : 'elmwood drive',\n",
    "                         'Street Paul' : 'paul street',\n",
    "                         'Street Boucher': 'boucher street',\n",
    "                         'Street Lepage' : 'lepage street',\n",
    "                         'Street Andrew' : 'andrew street',\n",
    "                         'Street Willis' : 'willis street',\n",
    "                         'Street Main' : 'main street',\n",
    "                         'Road Quispamsis' : 'Quispamsis Road',\n",
    "                         'Street Ryan' : 'ryan street',\n",
    "                         'Street Lady Russel' : 'lady russell street',\n",
    "                         'Street Bonaccord' : 'bonaccord street'\n",
    "                        }, inplace = True)"
   ]
  },
  {
   "cell_type": "markdown",
   "metadata": {},
   "source": [
    "* concat ON data into full address"
   ]
  },
  {
   "cell_type": "code",
   "execution_count": 41,
   "metadata": {},
   "outputs": [],
   "source": [
    "df.loc[df.full_address == 'nan', 'full_address'] = None"
   ]
  },
  {
   "cell_type": "code",
   "execution_count": 42,
   "metadata": {},
   "outputs": [],
   "source": [
    "df.full_address.fillna(value = df.street_number + ' ' + df.street_name, inplace = True)"
   ]
  },
  {
   "cell_type": "markdown",
   "metadata": {},
   "source": [
    "* rearrange roads for found errors"
   ]
  },
  {
   "cell_type": "code",
   "execution_count": 43,
   "metadata": {},
   "outputs": [],
   "source": [
    "def rearrange_roads(x):\n",
    "    '''function to place errors: \n",
    "    road mill, road quispamsis, road sainte anne, road beaverbrook, road road'''\n",
    "    try:\n",
    "        if 'road mill' in x:\n",
    "            return x.replace('road mill', 'mill road')\n",
    "        elif 'road quispamsis' in x:\n",
    "            return x.replace('road quispamsis', 'quispamsis road')\n",
    "        elif 'road sainte anne' in x:\n",
    "            return x.replace('road sainte anne', 'sainte anne road')\n",
    "        elif 'road beaverbrook' in x:\n",
    "            return x.replace('road beaverbrook', 'beaverbrook road')\n",
    "        elif 'road road' in x:\n",
    "                return x.replace('road road', 'road')\n",
    "    except TypeError:\n",
    "        pass\n",
    "    return x\n",
    "\n",
    "df.loc[df.provider == 'Province of New Brunswick', 'full_address'] = df.loc[df.provider == 'Province of New Brunswick', 'full_address'].map(rearrange_roads)"
   ]
  },
  {
   "cell_type": "markdown",
   "metadata": {},
   "source": [
    "* add hastag to french floors"
   ]
  },
  {
   "cell_type": "code",
   "execution_count": 44,
   "metadata": {},
   "outputs": [],
   "source": [
    "def fix_fr_floor(x):\n",
    "    ''' adds hashtag to french floors for easy parsing'''\n",
    "    try:\n",
    "        m = re.search(r'[0-9]e étage', x)[0]\n",
    "        return x.replace(m, '#'+m)\n",
    "    except TypeError:\n",
    "        pass\n",
    "    return x\n",
    "    \n",
    "df.loc[df.provider == 'Province of Quèbec', 'full_address'] = df.loc[df.provider == 'Province of Quèbec', 'full_address'].map(fix_fr_floor)"
   ]
  },
  {
   "cell_type": "code",
   "execution_count": 50,
   "metadata": {},
   "outputs": [
    {
     "data": {
      "text/plain": [
       "'5111 46 RUE'"
      ]
     },
     "execution_count": 50,
     "metadata": {},
     "output_type": "execute_result"
    }
   ],
   "source": [
    "# check removal of CP\n",
    "# df.full_address.iloc[1302]"
   ]
  },
  {
   "cell_type": "code",
   "execution_count": 45,
   "metadata": {},
   "outputs": [],
   "source": [
    "# drop unneccessary columns\n",
    "df.drop(columns = ['Unnamed: 0', 'Unnamed: 0.1'], inplace = True)"
   ]
  },
  {
   "cell_type": "code",
   "execution_count": 51,
   "metadata": {},
   "outputs": [],
   "source": [
    "df.to_csv('/Users/kt/Documents/work/STATCAN/ODECF/Wrangling-ODECF/output/childcare/precleaned/childcare-precleaned.csv')"
   ]
  }
 ],
 "metadata": {
  "kernelspec": {
   "display_name": "Python 3",
   "language": "python",
   "name": "python3"
  },
  "language_info": {
   "codemirror_mode": {
    "name": "ipython",
    "version": 3
   },
   "file_extension": ".py",
   "mimetype": "text/x-python",
   "name": "python",
   "nbconvert_exporter": "python",
   "pygments_lexer": "ipython3",
   "version": "3.7.4"
  }
 },
 "nbformat": 4,
 "nbformat_minor": 4
}
